{
  "cells": [
    {
      "cell_type": "markdown",
      "metadata": {
        "id": "view-in-github",
        "colab_type": "text"
      },
      "source": [
        "<a href=\"https://colab.research.google.com/github/LANCARI/MOD-711-Machine-Learning/blob/main/Clustering_Optics_Algorithm.ipynb\" target=\"_parent\"><img src=\"https://colab.research.google.com/assets/colab-badge.svg\" alt=\"Open In Colab\"/></a>"
      ]
    },
    {
      "cell_type": "markdown",
      "source": [
        "## MOD-711 MACHINE LEARNING  (Grupo A Clustering)\n",
        "## Clustering - Optics Algorithm\n",
        "\n",
        "#### Integrantes:\n",
        "- Frida Aduviri\n",
        "- Licett Ancari"
      ],
      "metadata": {
        "id": "UTS6BSbCL4sw"
      },
      "id": "UTS6BSbCL4sw"
    },
    {
      "cell_type": "markdown",
      "source": [
        "## 1. Descripción"
      ],
      "metadata": {
        "id": "bvyjxv1aMF9C"
      },
      "id": "bvyjxv1aMF9C"
    },
    {
      "cell_type": "markdown",
      "source": [
        "Clustering - Optics Algorithmalgoritmo es un algoritmo para encontrar datos basados en densidad.\n",
        "clusters en datos espaciales. Fue presentado por Michael.\n",
        "Ankerst, Markus M. Breunig, Hans-Peter Kriegel y Jörg\n",
        "Lijadora. Su idea básica es similar a DBSCAN, pero\n",
        "aborda una de las principales debilidades de DBSCAN: la\n",
        "problema de detectar grupos significativos en datos de diferentes\n",
        "densidad. Para ello, los puntos de la base de datos son\n",
        "(linealmente) ordenados de manera que los puntos que están espacialmente\n",
        "Los más cercanos se convierten en vecinos en el ordenamiento. Además, un\n",
        "Se almacena una distancia especial para cada punto que representa la\n",
        "densidad que debe aceptarse para que un cluster pueda\n",
        "Haga que ambos puntos pertenezcan al mismo grupo.\n",
        "Se requiere cortar la densidad de conglomerados que no es\n",
        "ya no se considera interesante y acelerar el proceso\n",
        "algoritmo de esta manera.\n",
        "Estrictamente hablando, el parámetro no es necesario. Puede ser\n",
        "establecido en un valor máximo. Cuando hay un índice espacial disponible,\n",
        "Sin embargo, juega un papel práctico cuando se trata de\n",
        "complejidad. A menudo se afirma que la ÓPTICA se abstrae de\n",
        "DBSCAN al eliminar esto, a cada punto se le asigna un núcleo\n",
        "distancia que básicamente describe la distancia a su\n",
        "punto"
      ],
      "metadata": {
        "id": "iagHYjSZRYWx"
      },
      "id": "iagHYjSZRYWx"
    },
    {
      "cell_type": "markdown",
      "source": [
        "## 2. Birtex y Referencias:"
      ],
      "metadata": {
        "id": "BgAosiGKMICe"
      },
      "id": "BgAosiGKMICe"
    },
    {
      "cell_type": "markdown",
      "source": [
        "* @article{ankerst1999optics,\n",
        "  title={OPTICS: Ordering points to identify the clustering structure},\n",
        "  author={Ankerst, Mihael and Breunig, Markus M and Kriegel, Hans-Peter and Sander, J{\\\"o}rg},\n",
        "  journal={ACM Sigmod record},\n",
        "  volume={28},\n",
        "  number={2},\n",
        "  pages={49--60},\n",
        "  year={1999},\n",
        "  publisher={ACM New York, NY, USA}\n",
        "}\n",
        "* @article{verma2012comparative,\n",
        "  title={A comparative study of various clustering algorithms in data mining},\n",
        "  author={Verma, Manish and Srivastava, Mauly and Chack, Neha and Diswar, Atul Kumar and Gupta, Nidhi},\n",
        "  journal={International Journal of Engineering Research and Applications (IJERA)},\n",
        "  volume={2},\n",
        "  number={3},\n",
        "  pages={1379--1384},\n",
        "  year={2012}\n",
        "}\n",
        "* https://www.geeksforgeeks.org/ml-optics-clustering-explanation/"
      ],
      "metadata": {
        "id": "NRirwspKOgiw"
      },
      "id": "NRirwspKOgiw"
    },
    {
      "cell_type": "markdown",
      "source": [
        "## 3. Tipo de Modelo:"
      ],
      "metadata": {
        "id": "SCC4SVK3MLWZ"
      },
      "id": "SCC4SVK3MLWZ"
    },
    {
      "cell_type": "markdown",
      "source": [
        "**Método de Aprendizaje:**No supervisado\n",
        "\n",
        "**Por Parámetro:** Los algoritmos OPTICS esperan dos parámetros:\n",
        "\n",
        "maxeps: una distancia que se utilizará para detectar grupos, el algoritmo verificará cada punto de datos maxeps-vecinos y, si hay suficientes puntos en esta vecindad, se formará un grupo.\n",
        "\n",
        "minpts: el número de puntos que deberían estar en el vecindario maxeps, para considerar dichos puntos como un grupo.\n",
        "\n",
        "**Datos de Aprendizaje:** Funciona en un enfoque \"offline\"\n",
        "\n",
        "**Resultado del Entrenamiento:** No es un modelo\n"
      ],
      "metadata": {
        "id": "AXLeGpLJZczo"
      },
      "id": "AXLeGpLJZczo"
    },
    {
      "cell_type": "markdown",
      "source": [
        "## 4. Algoritmos de Entrenamiento:"
      ],
      "metadata": {
        "id": "kDA0oYuiMUDZ"
      },
      "id": "kDA0oYuiMUDZ"
    },
    {
      "cell_type": "markdown",
      "source": [
        "* Neighbourhood\n",
        "* Core object\n",
        "* Directly density-reachable\n",
        "* Border object\n",
        "* Density-connected\n",
        "* Density-based cluster\n",
        "* core-distance of an object p\n",
        "* reachability-distance objectpi w.r.t. object o\n",
        "* Spatial Radius ε1\n",
        "* Non-Spatial Radius ε2\n",
        "\n"
      ],
      "metadata": {
        "id": "qgPtDQxwZ4HG"
      },
      "id": "qgPtDQxwZ4HG"
    },
    {
      "cell_type": "markdown",
      "source": [
        "## 5. Supuestos y Restricciones:"
      ],
      "metadata": {
        "id": "-Ee0kj1eMa4G"
      },
      "id": "-Ee0kj1eMa4G"
    },
    {
      "cell_type": "markdown",
      "source": [
        "* Supuestos:\n",
        "\n",
        "1. Distribución de densidad variable: OPTICS está diseñado para detectar clústeres en conjuntos de datos con densidades variables. Esto significa que puede encontrar clústeres con diferentes densidades de puntos, lo que lo hace adecuado para datos donde los clústeres pueden tener tamaños y formas diversos.\n",
        "\n",
        "2. No requiere especificar el número de clústeres: A diferencia de algunos algoritmos de clustering que requieren que el usuario especifique previamente el número de clústeres, OPTICS no tiene esta restricción. Puede descubrir automáticamente el número de clústeres en función de la densidad de los datos.\n",
        "\n",
        "* Restricciones:\n",
        "\n",
        "1. Sensibilidad al parámetro de distancia máxima (eps): OPTICS utiliza un parámetro de distancia máxima (ε) para determinar la vecindad de un punto. La elección de este parámetro puede afectar significativamente los resultados del clustering. Un valor demasiado pequeño puede resultar en una identificación de clústeres insatisfactoria, mientras que un valor demasiado grande puede agrupar puntos en un solo clúster.\n",
        "\n",
        "2. Sensibilidad al parámetro de número mínimo de puntos (minPts): Además de\n",
        "ε, OPTICS también requiere un parámetro mínimo de puntos (minPts) que define cuántos puntos deben estar dentro de la vecindad ε de un punto para considerarlo un núcleo. La elección de este valor también puede influir en los resultados de clustering.\n",
        "\n",
        "3. Costo computacional: OPTICS puede ser computacionalmente costoso en conjuntos de datos grandes o con valores de minPts inapropiados, ya que implica cálculos de distancia y ordenamiento.\n",
        "\n",
        "4. Sensibilidad a la escala de los datos: OPTICS puede ser sensible a la escala de los datos, por lo que es importante realizar un preprocesamiento adecuado, como la normalización, si los datos están en escalas muy diferentes.\n",
        "\n",
        "5. Ordenamiento jerárquico: OPTICS produce un resultado en forma de representación jerárquica llamada \"diagrama OPTICS\" en lugar de una asignación de puntos a clústeres. Interpretar este diagrama puede requerir cierta experiencia y conocimiento del algoritmo.\n"
      ],
      "metadata": {
        "id": "pUfcFWJJip2B"
      },
      "id": "pUfcFWJJip2B"
    },
    {
      "cell_type": "markdown",
      "id": "8cf49ea8",
      "metadata": {
        "papermill": {
          "duration": 0.019523,
          "end_time": "2021-10-08T15:38:24.293992",
          "exception": false,
          "start_time": "2021-10-08T15:38:24.274469",
          "status": "completed"
        },
        "tags": [],
        "id": "8cf49ea8"
      },
      "source": [
        "**Data Set :**\n",
        "\n",
        "Srata sobre agrupar a los clientes utilizando una técnica de aprendizaje no supervisada que es OPTICS (ordenación de puntos para identificar la estructura de agrupamiento), en otras palabras, detectamos grupos en función de la densidad, un grupo de puntos de datos que son demasiado densos con datos se consideran grupos. . En nuestro caso de aplicación, detectaremos clientes que sean lo suficientemente similares entre sí, estos segmentos de clientes deben ser lo suficientemente densos como para ser considerados como un solo clúster."
      ]
    },
    {
      "cell_type": "code",
      "execution_count": null,
      "id": "b22fecf8",
      "metadata": {
        "_cell_guid": "b1076dfc-b9ad-4769-8c92-a6c4dae69d19",
        "_uuid": "8f2839f25d086af736a60e9eeb907d3b93b6e0e5",
        "execution": {
          "iopub.execute_input": "2021-10-08T15:38:24.372064Z",
          "iopub.status.busy": "2021-10-08T15:38:24.371020Z",
          "iopub.status.idle": "2021-10-08T15:38:25.601845Z",
          "shell.execute_reply": "2021-10-08T15:38:25.601279Z",
          "shell.execute_reply.started": "2021-10-08T14:32:59.2784Z"
        },
        "papermill": {
          "duration": 1.251822,
          "end_time": "2021-10-08T15:38:25.602006",
          "exception": false,
          "start_time": "2021-10-08T15:38:24.350184",
          "status": "completed"
        },
        "tags": [],
        "id": "b22fecf8"
      },
      "outputs": [],
      "source": [
        "\n",
        "import numpy as np # linear algebra\n",
        "import pandas as pd # data processing, CSV file I/O (e.g. pd.read_csv)\n",
        "from sklearn.metrics import silhouette_score\n",
        "from sklearn.cluster import OPTICS\n",
        "import numpy as np\n",
        "import seaborn as sns\n",
        "import matplotlib.pyplot as plt\n",
        "\n",
        "import os\n",
        "for dirname, _, filenames in os.walk('/kaggle/input'):\n",
        "    for filename in filenames:\n",
        "        print(os.path.join(dirname, filename))\n",
        "\n",
        "df = pd.read_csv(\"/content/Mall_Customers.csv\")\n",
        "\n"
      ]
    },
    {
      "cell_type": "code",
      "execution_count": null,
      "id": "8d9a8e8e",
      "metadata": {
        "execution": {
          "iopub.execute_input": "2021-10-08T15:38:25.642915Z",
          "iopub.status.busy": "2021-10-08T15:38:25.641975Z",
          "iopub.status.idle": "2021-10-08T15:38:25.656703Z",
          "shell.execute_reply": "2021-10-08T15:38:25.657141Z",
          "shell.execute_reply.started": "2021-10-08T14:30:14.3967Z"
        },
        "papermill": {
          "duration": 0.036623,
          "end_time": "2021-10-08T15:38:25.657304",
          "exception": false,
          "start_time": "2021-10-08T15:38:25.620681",
          "status": "completed"
        },
        "tags": [],
        "colab": {
          "base_uri": "https://localhost:8080/"
        },
        "id": "8d9a8e8e",
        "outputId": "275647ed-546c-47cd-c359-e83a130afa39"
      },
      "outputs": [
        {
          "output_type": "stream",
          "name": "stdout",
          "text": [
            "   CustomerID  Gender  Age  Annual Income (k$)  Spending Score (1-100)\n",
            "0           1    Male   19                  15                      39\n",
            "1           2    Male   21                  15                      81\n",
            "2           3  Female   20                  16                       6\n",
            "----------\n",
            "Shape:  (200, 5)\n",
            "----------\n",
            "CustomerID                 int64\n",
            "Gender                    object\n",
            "Age                        int64\n",
            "Annual Income (k$)         int64\n",
            "Spending Score (1-100)     int64\n",
            "dtype: object\n",
            "---------- \n",
            "CustomerID                0\n",
            "Gender                    0\n",
            "Age                       0\n",
            "Annual Income (k$)        0\n",
            "Spending Score (1-100)    0\n",
            "dtype: int64\n"
          ]
        }
      ],
      "source": [
        "print(df.head(3))\n",
        "print('----------')\n",
        "print('Shape: ',df.shape)\n",
        "print('----------')\n",
        "print(df.dtypes)\n",
        "print('---------- ')\n",
        "print(df.isnull().sum())"
      ]
    },
    {
      "cell_type": "markdown",
      "id": "e60366a2",
      "metadata": {
        "papermill": {
          "duration": 0.019682,
          "end_time": "2021-10-08T15:38:25.695503",
          "exception": false,
          "start_time": "2021-10-08T15:38:25.675821",
          "status": "completed"
        },
        "tags": [],
        "id": "e60366a2"
      },
      "source": [
        "We encode the \"Gender\" boolean variable using two digits ( 1 for \"Male\", 0 for \"Female\" ), and delete the first column since it doesn't help the clustering process."
      ]
    },
    {
      "cell_type": "code",
      "execution_count": null,
      "id": "44c8b4aa",
      "metadata": {
        "execution": {
          "iopub.execute_input": "2021-10-08T15:38:25.737293Z",
          "iopub.status.busy": "2021-10-08T15:38:25.736701Z",
          "iopub.status.idle": "2021-10-08T15:38:25.806478Z",
          "shell.execute_reply": "2021-10-08T15:38:25.805898Z",
          "shell.execute_reply.started": "2021-10-08T14:33:04.145117Z"
        },
        "papermill": {
          "duration": 0.091126,
          "end_time": "2021-10-08T15:38:25.806619",
          "exception": false,
          "start_time": "2021-10-08T15:38:25.715493",
          "status": "completed"
        },
        "tags": [],
        "colab": {
          "base_uri": "https://localhost:8080/"
        },
        "id": "44c8b4aa",
        "outputId": "41d22a5c-4340-4134-c713-a0655f3fb4f2"
      },
      "outputs": [
        {
          "output_type": "stream",
          "name": "stderr",
          "text": [
            "<ipython-input-3-41ebe32a9daa>:3: SettingWithCopyWarning: \n",
            "A value is trying to be set on a copy of a slice from a DataFrame\n",
            "\n",
            "See the caveats in the documentation: https://pandas.pydata.org/pandas-docs/stable/user_guide/indexing.html#returning-a-view-versus-a-copy\n",
            "  df[\"Gender\"][k] = 1\n",
            "<ipython-input-3-41ebe32a9daa>:5: SettingWithCopyWarning: \n",
            "A value is trying to be set on a copy of a slice from a DataFrame\n",
            "\n",
            "See the caveats in the documentation: https://pandas.pydata.org/pandas-docs/stable/user_guide/indexing.html#returning-a-view-versus-a-copy\n",
            "  df[\"Gender\"][k] = 0\n"
          ]
        }
      ],
      "source": [
        "for k in range(0,200):\n",
        "   if df[\"Gender\"][k] == \"Male\":\n",
        "       df[\"Gender\"][k] = 1\n",
        "   else :\n",
        "       df[\"Gender\"][k] = 0\n",
        "df['Gender'] = df['Gender'].astype('int')\n",
        "del df[\"CustomerID\"]\n"
      ]
    },
    {
      "cell_type": "markdown",
      "id": "8183d33b",
      "metadata": {
        "papermill": {
          "duration": 0.018668,
          "end_time": "2021-10-08T15:38:25.844170",
          "exception": false,
          "start_time": "2021-10-08T15:38:25.825502",
          "status": "completed"
        },
        "tags": [],
        "id": "8183d33b"
      },
      "source": [
        "There are very small signs of correlations."
      ]
    },
    {
      "cell_type": "code",
      "execution_count": null,
      "id": "213a17a4",
      "metadata": {
        "execution": {
          "iopub.execute_input": "2021-10-08T15:38:25.892633Z",
          "iopub.status.busy": "2021-10-08T15:38:25.891953Z",
          "iopub.status.idle": "2021-10-08T15:38:25.894476Z",
          "shell.execute_reply": "2021-10-08T15:38:25.894928Z",
          "shell.execute_reply.started": "2021-10-08T14:30:31.77126Z"
        },
        "papermill": {
          "duration": 0.031895,
          "end_time": "2021-10-08T15:38:25.895087",
          "exception": false,
          "start_time": "2021-10-08T15:38:25.863192",
          "status": "completed"
        },
        "tags": [],
        "colab": {
          "base_uri": "https://localhost:8080/"
        },
        "id": "213a17a4",
        "outputId": "b8dd1220-f0d1-4087-f196-1a53c8daad37"
      },
      "outputs": [
        {
          "output_type": "stream",
          "name": "stdout",
          "text": [
            "                          Gender       Age  Annual Income (k$)  \\\n",
            "Gender                  1.000000  0.060867            0.056410   \n",
            "Age                     0.060867  1.000000           -0.012398   \n",
            "Annual Income (k$)      0.056410 -0.012398            1.000000   \n",
            "Spending Score (1-100) -0.058109 -0.327227            0.009903   \n",
            "\n",
            "                        Spending Score (1-100)  \n",
            "Gender                               -0.058109  \n",
            "Age                                  -0.327227  \n",
            "Annual Income (k$)                    0.009903  \n",
            "Spending Score (1-100)                1.000000  \n"
          ]
        }
      ],
      "source": [
        "print(df.corr())"
      ]
    },
    {
      "cell_type": "markdown",
      "id": "f6657705",
      "metadata": {
        "papermill": {
          "duration": 0.019657,
          "end_time": "2021-10-08T15:38:25.934248",
          "exception": false,
          "start_time": "2021-10-08T15:38:25.914591",
          "status": "completed"
        },
        "tags": [],
        "id": "f6657705"
      },
      "source": [
        "The Annual income values are dispersed within the range [20 k$,120 k$], 50% of the costumers have an annual income lower than 60 k.\n",
        "25 % of the customer have an annual income greater than 80 k$"
      ]
    },
    {
      "cell_type": "code",
      "execution_count": null,
      "id": "91fc493e",
      "metadata": {
        "execution": {
          "iopub.execute_input": "2021-10-08T15:38:25.992685Z",
          "iopub.status.busy": "2021-10-08T15:38:25.976004Z",
          "iopub.status.idle": "2021-10-08T15:38:26.239388Z",
          "shell.execute_reply": "2021-10-08T15:38:26.238911Z",
          "shell.execute_reply.started": "2021-10-08T10:46:23.32129Z"
        },
        "papermill": {
          "duration": 0.286067,
          "end_time": "2021-10-08T15:38:26.239529",
          "exception": false,
          "start_time": "2021-10-08T15:38:25.953462",
          "status": "completed"
        },
        "tags": [],
        "colab": {
          "base_uri": "https://localhost:8080/",
          "height": 614
        },
        "id": "91fc493e",
        "outputId": "d88b4b70-257c-4597-c297-80fee12677b1"
      },
      "outputs": [
        {
          "output_type": "execute_result",
          "data": {
            "text/plain": [
              "count    200.000000\n",
              "mean      60.560000\n",
              "std       26.264721\n",
              "min       15.000000\n",
              "25%       41.500000\n",
              "50%       61.500000\n",
              "75%       78.000000\n",
              "max      137.000000\n",
              "Name: Annual Income (k$), dtype: float64"
            ]
          },
          "metadata": {},
          "execution_count": 5
        },
        {
          "output_type": "display_data",
          "data": {
            "text/plain": [
              "<Figure size 640x480 with 1 Axes>"
            ],
            "image/png": "[encoded data removed]"
          },
          "metadata": {}
        }
      ],
      "source": [
        "import seaborn as sns\n",
        "sns.set_theme(style=\"whitegrid\")\n",
        "ax = sns.boxplot(x=df[\"Annual Income (k$)\"])\n",
        "df[\"Annual Income (k$)\"].describe()"
      ]
    },
    {
      "cell_type": "markdown",
      "id": "cf8e141d",
      "metadata": {
        "papermill": {
          "duration": 0.01986,
          "end_time": "2021-10-08T15:38:26.279487",
          "exception": false,
          "start_time": "2021-10-08T15:38:26.259627",
          "status": "completed"
        },
        "tags": [],
        "id": "cf8e141d"
      },
      "source": [
        "The spending score values lie within the range [1,100]. It's some sort of metric that tells you how profitable a customer is. The higher it is, the lucrative the costumer is."
      ]
    },
    {
      "cell_type": "code",
      "execution_count": null,
      "id": "d8ed29bb",
      "metadata": {
        "execution": {
          "iopub.execute_input": "2021-10-08T15:38:26.322690Z",
          "iopub.status.busy": "2021-10-08T15:38:26.322133Z",
          "iopub.status.idle": "2021-10-08T15:38:26.547117Z",
          "shell.execute_reply": "2021-10-08T15:38:26.546647Z",
          "shell.execute_reply.started": "2021-10-08T10:50:15.355896Z"
        },
        "papermill": {
          "duration": 0.247703,
          "end_time": "2021-10-08T15:38:26.547257",
          "exception": false,
          "start_time": "2021-10-08T15:38:26.299554",
          "status": "completed"
        },
        "tags": [],
        "colab": {
          "base_uri": "https://localhost:8080/",
          "height": 614
        },
        "id": "d8ed29bb",
        "outputId": "55c03606-c688-4ca0-f595-e7ed9ae6b03b"
      },
      "outputs": [
        {
          "output_type": "stream",
          "name": "stdout",
          "text": [
            "count    200.000000\n",
            "mean      50.200000\n",
            "std       25.823522\n",
            "min        1.000000\n",
            "25%       34.750000\n",
            "50%       50.000000\n",
            "75%       73.000000\n",
            "max       99.000000\n",
            "Name: Spending Score (1-100), dtype: float64\n"
          ]
        },
        {
          "output_type": "display_data",
          "data": {
            "text/plain": [
              "<Figure size 640x480 with 1 Axes>"
            ],
            "image/png": "[encoded data removed]"
          },
          "metadata": {}
        }
      ],
      "source": [
        "zx = sns.boxplot(x=df[\"Spending Score (1-100)\"])\n",
        "print(df[\"Spending Score (1-100)\"].describe())"
      ]
    },
    {
      "cell_type": "markdown",
      "id": "cc10c9af",
      "metadata": {
        "papermill": {
          "duration": 0.020588,
          "end_time": "2021-10-08T15:38:26.588634",
          "exception": false,
          "start_time": "2021-10-08T15:38:26.568046",
          "status": "completed"
        },
        "tags": [],
        "id": "cc10c9af"
      },
      "source": [
        "50% of the costumers age are below 36 years, which insinuate that the younger generation are most likely to convert to clients. Therefore we will likely target this age range"
      ]
    },
    {
      "cell_type": "code",
      "execution_count": null,
      "id": "20b31f1c",
      "metadata": {
        "execution": {
          "iopub.execute_input": "2021-10-08T15:38:26.633490Z",
          "iopub.status.busy": "2021-10-08T15:38:26.632920Z",
          "iopub.status.idle": "2021-10-08T15:38:26.962317Z",
          "shell.execute_reply": "2021-10-08T15:38:26.961284Z",
          "shell.execute_reply.started": "2021-10-08T10:53:30.732678Z"
        },
        "papermill": {
          "duration": 0.352972,
          "end_time": "2021-10-08T15:38:26.962509",
          "exception": false,
          "start_time": "2021-10-08T15:38:26.609537",
          "status": "completed"
        },
        "tags": [],
        "colab": {
          "base_uri": "https://localhost:8080/",
          "height": 614
        },
        "id": "20b31f1c",
        "outputId": "89510269-7f3a-43bb-bcf0-80e774694ccf"
      },
      "outputs": [
        {
          "output_type": "stream",
          "name": "stdout",
          "text": [
            "count    200.000000\n",
            "mean      38.850000\n",
            "std       13.969007\n",
            "min       18.000000\n",
            "25%       28.750000\n",
            "50%       36.000000\n",
            "75%       49.000000\n",
            "max       70.000000\n",
            "Name: Age, dtype: float64\n"
          ]
        },
        {
          "output_type": "display_data",
          "data": {
            "text/plain": [
              "<Figure size 640x480 with 1 Axes>"
            ],
            "image/png": "[encoded data removed]"
          },
          "metadata": {}
        }
      ],
      "source": [
        "zx = sns.boxplot(x=df[\"Age\"])\n",
        "print(df[\"Age\"].describe())"
      ]
    },
    {
      "cell_type": "markdown",
      "id": "b98c5962",
      "metadata": {
        "papermill": {
          "duration": 0.021166,
          "end_time": "2021-10-08T15:38:27.006435",
          "exception": false,
          "start_time": "2021-10-08T15:38:26.985269",
          "status": "completed"
        },
        "tags": [],
        "id": "b98c5962"
      },
      "source": [
        "The distribution of Male/Female among customers"
      ]
    },
    {
      "cell_type": "code",
      "execution_count": null,
      "id": "11649aa0",
      "metadata": {
        "execution": {
          "iopub.execute_input": "2021-10-08T15:38:27.054950Z",
          "iopub.status.busy": "2021-10-08T15:38:27.054278Z",
          "iopub.status.idle": "2021-10-08T15:38:27.293128Z",
          "shell.execute_reply": "2021-10-08T15:38:27.292639Z",
          "shell.execute_reply.started": "2021-10-08T12:53:56.336482Z"
        },
        "papermill": {
          "duration": 0.265254,
          "end_time": "2021-10-08T15:38:27.293258",
          "exception": false,
          "start_time": "2021-10-08T15:38:27.028004",
          "status": "completed"
        },
        "tags": [],
        "colab": {
          "base_uri": "https://localhost:8080/",
          "height": 434
        },
        "id": "11649aa0",
        "outputId": "fe33c66d-bfe9-4098-8cb8-2a7291f43f97"
      },
      "outputs": [
        {
          "output_type": "display_data",
          "data": {
            "text/plain": [
              "<Figure size 640x480 with 1 Axes>"
            ],
            "image/png": "[encoded data removed]"
          },
          "metadata": {}
        }
      ],
      "source": [
        "import matplotlib.pyplot as plt\n",
        "df[\"Gender\"].hist()\n",
        "plt.show()"
      ]
    },
    {
      "cell_type": "markdown",
      "id": "60e1e63d",
      "metadata": {
        "papermill": {
          "duration": 0.021605,
          "end_time": "2021-10-08T15:38:27.337039",
          "exception": false,
          "start_time": "2021-10-08T15:38:27.315434",
          "status": "completed"
        },
        "tags": [],
        "id": "60e1e63d"
      },
      "source": [
        "Los algoritmos OPTICS esperan dos parámetros:\n",
        "\n",
        "maxeps: una distancia que se utilizará para detectar grupos, el algoritmo verificará cada punto de datos maxeps-vecinos y, si hay suficientes puntos en esta vecindad, se formará un grupo\n",
        "minpts: el número de puntos que deberían estar en el vecindario maxeps, para considerar dichos puntos como un grupo.\n",
        "\n",
        "Después de múltiples pruebas, decidimos ejecutar el algoritmo OPTICS en un rango de valores minpts [10,50] y fijamos el parámetro maxeps.\n",
        "Para cada configuración, calculamos el coeficiente de silueta. Obtendremos 40 resultados de agrupación diferentes porque probamos con diferentes valores de minpts. Primero aplicamos este enfoque a todas las funciones. Omitiremos algunos valores de minpts ya que devuelve solo un grupo, lo cual no es realmente útil.\n",
        "\n",
        "La configuración que dio mayor coeficiente de silueta es la indexada con 18,\n",
        "  mentas = 23\n",
        "coeficiente de silueta = 0,21"
      ]
    },
    {
      "cell_type": "code",
      "execution_count": null,
      "id": "86827c39",
      "metadata": {
        "execution": {
          "iopub.execute_input": "2021-10-08T15:38:27.394713Z",
          "iopub.status.busy": "2021-10-08T15:38:27.393702Z",
          "iopub.status.idle": "2021-10-08T15:38:33.897692Z",
          "shell.execute_reply": "2021-10-08T15:38:33.899072Z",
          "shell.execute_reply.started": "2021-10-08T14:33:11.23776Z"
        },
        "papermill": {
          "duration": 6.540309,
          "end_time": "2021-10-08T15:38:33.899384",
          "exception": false,
          "start_time": "2021-10-08T15:38:27.359075",
          "status": "completed"
        },
        "tags": [],
        "colab": {
          "base_uri": "https://localhost:8080/"
        },
        "id": "86827c39",
        "outputId": "07a48a7b-03a2-4a25-df0a-2b41f308fa33"
      },
      "outputs": [
        {
          "output_type": "stream",
          "name": "stdout",
          "text": [
            "OPTICS(max_eps=300, min_samples=10)\n",
            "OPTICS(max_eps=300, min_samples=11)\n",
            "OPTICS(max_eps=300, min_samples=12)\n",
            "OPTICS(max_eps=300, min_samples=13)\n",
            "OPTICS(max_eps=300, min_samples=14)\n",
            "OPTICS(max_eps=300, min_samples=15)\n",
            "OPTICS(max_eps=300, min_samples=16)\n",
            "OPTICS(max_eps=300, min_samples=17)\n",
            "OPTICS(max_eps=300, min_samples=18)\n",
            "OPTICS(max_eps=300, min_samples=19)\n",
            "OPTICS(max_eps=300, min_samples=20)\n",
            "OPTICS(max_eps=300, min_samples=21)\n",
            "OPTICS(max_eps=300, min_samples=22)\n",
            "OPTICS(max_eps=300, min_samples=23)\n",
            "OPTICS(max_eps=300, min_samples=24)\n",
            "OPTICS(max_eps=300, min_samples=25)\n",
            "OPTICS(max_eps=300, min_samples=26)\n",
            "OPTICS(max_eps=300, min_samples=28)\n",
            "OPTICS(max_eps=300, min_samples=29)\n",
            "OPTICS(max_eps=300, min_samples=30)\n",
            "OPTICS(max_eps=300, min_samples=33)\n",
            "OPTICS(max_eps=300, min_samples=34)\n",
            "OPTICS(max_eps=300, min_samples=35)\n",
            "OPTICS(max_eps=300, min_samples=36)\n",
            "OPTICS(max_eps=300, min_samples=37)\n",
            "OPTICS(max_eps=300, min_samples=38)\n",
            "OPTICS(max_eps=300, min_samples=39)\n",
            "OPTICS(max_eps=300, min_samples=42)\n",
            "OPTICS(max_eps=300, min_samples=43)\n",
            "OPTICS(max_eps=300, min_samples=44)\n",
            "OPTICS(max_eps=300, min_samples=45)\n",
            "OPTICS(max_eps=300, min_samples=46)\n",
            "OPTICS(max_eps=300, min_samples=47)\n",
            "OPTICS(max_eps=300, min_samples=49)\n",
            "OPTICS(max_eps=300, min_samples=50)\n",
            "18\n",
            "optimal minpts value : 28\n",
            "optimal silhouette coefficient value : 0.2161560150579193\n"
          ]
        }
      ],
      "source": [
        "X = np.array(df[[\"Spending Score (1-100)\",\"Annual Income (k$)\",\"Gender\",\"Age\"]])\n",
        "\n",
        "minpts = [i for i in range(10,51)]\n",
        "\n",
        "maxeps = [300]*41\n",
        "\n",
        "sil = [0]*41\n",
        "\n",
        "for k in range(0,len(sil)):\n",
        "    if k == 17 or k == 21 or k == 30 or k == 31 or k == 38 or k == 22:\n",
        "        continue\n",
        "    clustering = OPTICS(min_samples=minpts[k],max_eps=maxeps[k]).fit(X)\n",
        "    print(clustering)\n",
        "    sil[k] = silhouette_score(X,clustering.labels_)\n",
        "\n",
        "\n",
        "maximum = max(sil)\n",
        "index = sil.index(maximum)\n",
        "print(index)\n",
        "print(\"optimal minpts value :\",minpts[index])\n",
        "print(\"optimal silhouette coefficient value :\",sil[index])\n"
      ]
    },
    {
      "cell_type": "markdown",
      "id": "a9dfe229",
      "metadata": {
        "papermill": {
          "duration": 0.05246,
          "end_time": "2021-10-08T15:38:34.004664",
          "exception": false,
          "start_time": "2021-10-08T15:38:33.952204",
          "status": "completed"
        },
        "tags": [],
        "id": "a9dfe229"
      },
      "source": [
        "Now we try the same using only : Spending score, Annual Income, Gender.\n",
        "The configuration that gave the highest silhouette coefficient is the one indexed with 13,\n",
        "mintpts = 23\n",
        "silhoutte coefficient = 0.26365132840366795\n",
        "The silhouette coefficient improved a little bit\n",
        "\n"
      ]
    },
    {
      "cell_type": "code",
      "execution_count": null,
      "id": "b8f3a087",
      "metadata": {
        "execution": {
          "iopub.execute_input": "2021-10-08T15:38:34.067688Z",
          "iopub.status.busy": "2021-10-08T15:38:34.067065Z",
          "iopub.status.idle": "2021-10-08T15:38:41.653848Z",
          "shell.execute_reply": "2021-10-08T15:38:41.652910Z",
          "shell.execute_reply.started": "2021-10-08T14:33:21.650945Z"
        },
        "papermill": {
          "duration": 7.621962,
          "end_time": "2021-10-08T15:38:41.654014",
          "exception": false,
          "start_time": "2021-10-08T15:38:34.032052",
          "status": "completed"
        },
        "tags": [],
        "colab": {
          "base_uri": "https://localhost:8080/"
        },
        "id": "b8f3a087",
        "outputId": "403c1a72-bf8f-4354-c214-03a4eddce7fc"
      },
      "outputs": [
        {
          "output_type": "stream",
          "name": "stdout",
          "text": [
            "OPTICS(max_eps=300, min_samples=10)\n",
            "OPTICS(max_eps=300, min_samples=11)\n",
            "OPTICS(max_eps=300, min_samples=12)\n",
            "OPTICS(max_eps=300, min_samples=13)\n",
            "OPTICS(max_eps=300, min_samples=14)\n",
            "OPTICS(max_eps=300, min_samples=15)\n",
            "OPTICS(max_eps=300, min_samples=16)\n",
            "OPTICS(max_eps=300, min_samples=17)\n",
            "OPTICS(max_eps=300, min_samples=18)\n",
            "OPTICS(max_eps=300, min_samples=19)\n",
            "OPTICS(max_eps=300, min_samples=20)\n",
            "OPTICS(max_eps=300, min_samples=21)\n",
            "OPTICS(max_eps=300, min_samples=22)\n",
            "OPTICS(max_eps=300, min_samples=23)\n",
            "OPTICS(max_eps=300, min_samples=24)\n",
            "OPTICS(max_eps=300, min_samples=25)\n",
            "OPTICS(max_eps=300, min_samples=26)\n",
            "OPTICS(max_eps=300, min_samples=27)\n",
            "OPTICS(max_eps=300, min_samples=28)\n",
            "OPTICS(max_eps=300, min_samples=29)\n",
            "OPTICS(max_eps=300, min_samples=30)\n",
            "OPTICS(max_eps=300, min_samples=31)\n",
            "OPTICS(max_eps=300, min_samples=32)\n",
            "OPTICS(max_eps=300, min_samples=33)\n",
            "OPTICS(max_eps=300, min_samples=34)\n",
            "OPTICS(max_eps=300, min_samples=35)\n",
            "OPTICS(max_eps=300, min_samples=36)\n",
            "OPTICS(max_eps=300, min_samples=37)\n",
            "OPTICS(max_eps=300, min_samples=38)\n",
            "OPTICS(max_eps=300, min_samples=39)\n",
            "OPTICS(max_eps=300, min_samples=40)\n",
            "OPTICS(max_eps=300, min_samples=41)\n",
            "OPTICS(max_eps=300, min_samples=42)\n",
            "OPTICS(max_eps=300, min_samples=43)\n",
            "OPTICS(max_eps=300, min_samples=44)\n",
            "OPTICS(max_eps=300, min_samples=45)\n",
            "OPTICS(max_eps=300, min_samples=46)\n",
            "OPTICS(max_eps=300, min_samples=47)\n",
            "OPTICS(max_eps=300, min_samples=48)\n",
            "OPTICS(max_eps=300, min_samples=49)\n",
            "OPTICS(max_eps=300, min_samples=50)\n",
            "13\n",
            "optimal minpts value : 23\n",
            "optimal silhouette coefficient value : 0.2633723874269861\n"
          ]
        }
      ],
      "source": [
        "X = np.array(df[[\"Spending Score (1-100)\",\"Annual Income (k$)\",\"Gender\"]])\n",
        "\n",
        "for k in range(0,len(sil)):\n",
        "\n",
        "    clustering = OPTICS(min_samples=minpts[k],max_eps=maxeps[k]).fit(X)\n",
        "    print(clustering)\n",
        "    sil[k] = silhouette_score(X,clustering.labels_)\n",
        "\n",
        "\n",
        "maximum = max(sil)\n",
        "index = sil.index(maximum)\n",
        "print(index)\n",
        "print(\"optimal minpts value :\",minpts[index])\n",
        "print(\"optimal silhouette coefficient value :\",sil[index])\n"
      ]
    },
    {
      "cell_type": "markdown",
      "id": "3b6001b9",
      "metadata": {
        "papermill": {
          "duration": 0.05598,
          "end_time": "2021-10-08T15:38:41.770672",
          "exception": false,
          "start_time": "2021-10-08T15:38:41.714692",
          "status": "completed"
        },
        "tags": [],
        "id": "3b6001b9"
      },
      "source": [
        "We tried again with : spending score, annual income, age. This one hasn't shown any improvement."
      ]
    },
    {
      "cell_type": "code",
      "execution_count": null,
      "id": "62811498",
      "metadata": {
        "execution": {
          "iopub.execute_input": "2021-10-08T15:38:41.841947Z",
          "iopub.status.busy": "2021-10-08T15:38:41.841262Z",
          "iopub.status.idle": "2021-10-08T15:38:48.486708Z",
          "shell.execute_reply": "2021-10-08T15:38:48.485504Z",
          "shell.execute_reply.started": "2021-10-08T14:33:43.099326Z"
        },
        "papermill": {
          "duration": 6.685134,
          "end_time": "2021-10-08T15:38:48.486997",
          "exception": false,
          "start_time": "2021-10-08T15:38:41.801863",
          "status": "completed"
        },
        "tags": [],
        "colab": {
          "base_uri": "https://localhost:8080/"
        },
        "id": "62811498",
        "outputId": "afe9efd6-f0a0-479d-e844-325e639bddc4"
      },
      "outputs": [
        {
          "output_type": "stream",
          "name": "stdout",
          "text": [
            "OPTICS(max_eps=300, min_samples=10)\n",
            "OPTICS(max_eps=300, min_samples=11)\n",
            "OPTICS(max_eps=300, min_samples=12)\n",
            "OPTICS(max_eps=300, min_samples=13)\n",
            "OPTICS(max_eps=300, min_samples=14)\n",
            "OPTICS(max_eps=300, min_samples=15)\n",
            "OPTICS(max_eps=300, min_samples=16)\n",
            "OPTICS(max_eps=300, min_samples=17)\n",
            "OPTICS(max_eps=300, min_samples=18)\n",
            "OPTICS(max_eps=300, min_samples=19)\n",
            "OPTICS(max_eps=300, min_samples=20)\n",
            "OPTICS(max_eps=300, min_samples=21)\n",
            "OPTICS(max_eps=300, min_samples=22)\n",
            "OPTICS(max_eps=300, min_samples=23)\n",
            "OPTICS(max_eps=300, min_samples=24)\n",
            "OPTICS(max_eps=300, min_samples=25)\n",
            "OPTICS(max_eps=300, min_samples=26)\n",
            "OPTICS(max_eps=300, min_samples=28)\n",
            "OPTICS(max_eps=300, min_samples=29)\n",
            "OPTICS(max_eps=300, min_samples=30)\n",
            "OPTICS(max_eps=300, min_samples=32)\n",
            "OPTICS(max_eps=300, min_samples=33)\n",
            "OPTICS(max_eps=300, min_samples=34)\n",
            "OPTICS(max_eps=300, min_samples=35)\n",
            "OPTICS(max_eps=300, min_samples=36)\n",
            "OPTICS(max_eps=300, min_samples=37)\n",
            "OPTICS(max_eps=300, min_samples=38)\n",
            "OPTICS(max_eps=300, min_samples=39)\n",
            "OPTICS(max_eps=300, min_samples=42)\n",
            "OPTICS(max_eps=300, min_samples=43)\n",
            "OPTICS(max_eps=300, min_samples=44)\n",
            "OPTICS(max_eps=300, min_samples=45)\n",
            "OPTICS(max_eps=300, min_samples=46)\n",
            "OPTICS(max_eps=300, min_samples=47)\n",
            "OPTICS(max_eps=300, min_samples=49)\n",
            "OPTICS(max_eps=300, min_samples=50)\n",
            "18\n",
            "optimal minpts value : 28\n",
            "optimal silhouette coefficient value 0.21622874497996958\n"
          ]
        }
      ],
      "source": [
        "X = np.array(df[[\"Spending Score (1-100)\",\"Annual Income (k$)\",\"Age\"]])\n",
        "for k in range(0,len(sil)):\n",
        "    if k == 17 or k == 21 or k == 30 or k == 31 or k == 38:\n",
        "        continue\n",
        "    clustering = OPTICS(min_samples=minpts[k],max_eps=maxeps[k]).fit(X)\n",
        "    print(clustering)\n",
        "    sil[k] = silhouette_score(X,clustering.labels_)\n",
        "\n",
        "\n",
        "maximum = max(sil)\n",
        "index = sil.index(maximum)\n",
        "print(index)\n",
        "print(\"optimal minpts value :\",minpts[index])\n",
        "print(\"optimal silhouette coefficient value\",sil[index])"
      ]
    },
    {
      "cell_type": "markdown",
      "id": "3237485f",
      "metadata": {
        "papermill": {
          "duration": 0.052822,
          "end_time": "2021-10-08T15:38:48.610648",
          "exception": false,
          "start_time": "2021-10-08T15:38:48.557826",
          "status": "completed"
        },
        "tags": [],
        "id": "3237485f"
      },
      "source": [
        "Next we move forward with the feature that gave the highest silhouette coefficient"
      ]
    },
    {
      "cell_type": "code",
      "execution_count": null,
      "id": "06145873",
      "metadata": {
        "execution": {
          "iopub.execute_input": "2021-10-08T15:38:48.688691Z",
          "iopub.status.busy": "2021-10-08T15:38:48.688059Z",
          "iopub.status.idle": "2021-10-08T15:38:48.862261Z",
          "shell.execute_reply": "2021-10-08T15:38:48.862958Z",
          "shell.execute_reply.started": "2021-10-08T14:35:12.922086Z"
        },
        "papermill": {
          "duration": 0.217662,
          "end_time": "2021-10-08T15:38:48.863191",
          "exception": false,
          "start_time": "2021-10-08T15:38:48.645529",
          "status": "completed"
        },
        "tags": [],
        "colab": {
          "base_uri": "https://localhost:8080/"
        },
        "id": "06145873",
        "outputId": "9ff03c97-34ba-4b9d-9f51-a3f4aca094b3"
      },
      "outputs": [
        {
          "output_type": "stream",
          "name": "stdout",
          "text": [
            "[-1, -1, -1, -1, -1, -1, -1, -1, -1, -1, -1, -1, -1, -1, -1, -1, -1, -1, -1, -1, -1, -1, -1, -1, -1, -1, -1, 0, -1, -1, -1, -1, -1, -1, -1, -1, -1, -1, -1, -1, -1, -1, -1, 0, -1, 0, 0, 0, 0, 0, 0, 0, 0, 0, 0, 0, 0, 0, 0, 0, 0, 0, 0, 0, 0, 0, 0, 0, 0, 0, 0, 0, 0, 0, 0, 0, 0, 0, 0, 0, 0, 0, 0, 0, 0, 0, 0, 0, 0, 0, 0, 0, 0, 0, 0, 0, 0, 0, 0, 0, 0, 0, 0, 0, 0, 0, 0, 0, 0, 0, 0, 0, 0, 0, 0, 0, 0, 0, 0, 0, 0, 0, 0, 1, 0, -1, 0, 1, -1, -1, -1, -1, 0, 0, -1, 1, -1, -1, -1, -1, -1, 1, 0, 1, -1, 1, 0, 1, -1, 1, -1, 1, -1, 1, -1, 1, -1, 1, -1, 1, 0, 1, -1, 1, -1, 1, -1, 1, -1, 1, -1, 1, -1, 1, -1, 1, -1, 1, -1, 1, 1, 1, -1, 1, -1, 1, -1, 1, -1, 1, -1, 1, -1, -1, -1, -1, -1, -1, -1, -1]\n",
            "cluster number 3\n",
            "outliers : 83\n",
            "cluster 0  :  87\n",
            "cluster 1  :  30\n"
          ]
        }
      ],
      "source": [
        "X = np.array(df[[\"Spending Score (1-100)\",\"Annual Income (k$)\",\"Gender\"]])\n",
        "clustering = OPTICS(min_samples=minpts[13],max_eps=maxeps[31]).fit(X)\n",
        "cluster = list(clustering.labels_)\n",
        "print(cluster)\n",
        "\n",
        "values, counts = np.unique(cluster, return_counts=True)\n",
        "print(\"cluster number\",len(values))\n",
        "\n",
        "for x in range(0,len(values)):\n",
        "    if values[x] == -1:\n",
        "        print(\"outliers :\",counts[x])\n",
        "    else :\n",
        "        print(\"cluster\",values[x],\" : \",counts[x])\n",
        "df['class'] = cluster\n"
      ]
    },
    {
      "cell_type": "markdown",
      "id": "aa6a75a4",
      "metadata": {
        "papermill": {
          "duration": 0.03525,
          "end_time": "2021-10-08T15:38:48.935043",
          "exception": false,
          "start_time": "2021-10-08T15:38:48.899793",
          "status": "completed"
        },
        "tags": [],
        "id": "aa6a75a4"
      },
      "source": [
        "We notice that we got 2 clusters green and blue colors while the red points are considered noise by the algorithm. They are not surrounded by enough point in their neighborhood to be considered clusters. They don’t belong either to any border of any core point.\n",
        "It would be interesting to focus on the clients that have an annual income between 40 and 80 ( green cluster ). This cluster is very dense, therefore it would would be good to focus on\n",
        "retaining those clients. They also have an interesting spending score\n",
        "between 40 and 60.\n"
      ]
    },
    {
      "cell_type": "code",
      "execution_count": null,
      "id": "209a2ef4",
      "metadata": {
        "execution": {
          "iopub.execute_input": "2021-10-08T15:38:49.015656Z",
          "iopub.status.busy": "2021-10-08T15:38:49.014693Z",
          "iopub.status.idle": "2021-10-08T15:38:51.805251Z",
          "shell.execute_reply": "2021-10-08T15:38:51.804624Z",
          "shell.execute_reply.started": "2021-10-08T14:35:23.162689Z"
        },
        "papermill": {
          "duration": 2.834556,
          "end_time": "2021-10-08T15:38:51.805420",
          "exception": false,
          "start_time": "2021-10-08T15:38:48.970864",
          "status": "completed"
        },
        "tags": [],
        "colab": {
          "base_uri": "https://localhost:8080/",
          "height": 497
        },
        "id": "209a2ef4",
        "outputId": "465823f4-eb43-4da3-b9b2-c5b719357b22"
      },
      "outputs": [
        {
          "output_type": "execute_result",
          "data": {
            "text/plain": [
              "Text(0, 0.5, 'Spending Score')"
            ]
          },
          "metadata": {},
          "execution_count": 13
        },
        {
          "output_type": "display_data",
          "data": {
            "text/plain": [
              "<Figure size 640x480 with 1 Axes>"
            ],
            "image/png": "[encoded data removed]"
          },
          "metadata": {}
        }
      ],
      "source": [
        "colors = {-1:'r', 0:'g',1:'b',2:'#1f77b4',3:'#1f90b1',4:'#1f50b1',5:'#1f60b1'}\n",
        "# create a figure and axis\n",
        "fig, ax = plt.subplots()\n",
        "# plot each data-point\n",
        "for i in range(len(df['class'])):\n",
        "\n",
        "  ax.scatter(df['Annual Income (k$)'][i],df['Spending Score (1-100)'][i],color=colors[df[\"class\"][i]])\n",
        "# if minmax_df['class'][i] == -1:\n",
        " #    class1 = class1 + 1\n",
        "# else:\n",
        " #    class0 = class0 + 1\n",
        "# set a title and labels\n",
        "ax.set_title('Mall costumer dataset')\n",
        "ax.set_xlabel('Annual Income')\n",
        "ax.set_ylabel('Spending Score')\n",
        "#print(\"class 1 : \",class1,\"\\n\")\n",
        "#print(\"class 0 : \",class0,\"\\n\")\n"
      ]
    },
    {
      "cell_type": "markdown",
      "id": "04be1793",
      "metadata": {
        "papermill": {
          "duration": 0.036201,
          "end_time": "2021-10-08T15:38:51.879157",
          "exception": false,
          "start_time": "2021-10-08T15:38:51.842956",
          "status": "completed"
        },
        "tags": [],
        "id": "04be1793"
      },
      "source": [
        "Next, we try out with other combinations of features"
      ]
    },
    {
      "cell_type": "code",
      "execution_count": null,
      "id": "186d97ba",
      "metadata": {
        "execution": {
          "iopub.execute_input": "2021-10-08T15:38:51.962801Z",
          "iopub.status.busy": "2021-10-08T15:38:51.962111Z",
          "iopub.status.idle": "2021-10-08T15:38:59.160107Z",
          "shell.execute_reply": "2021-10-08T15:38:59.160601Z",
          "shell.execute_reply.started": "2021-10-08T14:45:28.319693Z"
        },
        "papermill": {
          "duration": 7.245296,
          "end_time": "2021-10-08T15:38:59.160773",
          "exception": false,
          "start_time": "2021-10-08T15:38:51.915477",
          "status": "completed"
        },
        "tags": [],
        "colab": {
          "base_uri": "https://localhost:8080/"
        },
        "id": "186d97ba",
        "outputId": "a6eae23f-f163-46b4-d1dc-7f06f7d3cc28"
      },
      "outputs": [
        {
          "output_type": "stream",
          "name": "stdout",
          "text": [
            "27\n",
            "optimal minpts value : 37\n",
            "optimal silhouette coefficient value : 0.42107046296313655\n"
          ]
        }
      ],
      "source": [
        "X = np.array(df[[\"Annual Income (k$)\",\"Gender\"]])\n",
        "\n",
        "for k in range(0,len(sil)):\n",
        "\n",
        "    clustering = OPTICS(min_samples=minpts[k],max_eps=maxeps[k]).fit(X)\n",
        "    cluster = list(clustering.labels_)\n",
        "    if len(np.unique(cluster)) == 1:\n",
        "\n",
        "            continue\n",
        "\n",
        "    sil[k] = silhouette_score(X,clustering.labels_)\n",
        "\n",
        "\n",
        "\n",
        "maximum = max(sil)\n",
        "index = sil.index(maximum)\n",
        "print(index)\n",
        "print(\"optimal minpts value :\",minpts[index])\n",
        "print(\"optimal silhouette coefficient value :\",sil[index])\n"
      ]
    },
    {
      "cell_type": "code",
      "execution_count": null,
      "id": "3742769e",
      "metadata": {
        "execution": {
          "iopub.execute_input": "2021-10-08T15:38:59.242424Z",
          "iopub.status.busy": "2021-10-08T15:38:59.241447Z",
          "iopub.status.idle": "2021-10-08T15:38:59.385663Z",
          "shell.execute_reply": "2021-10-08T15:38:59.385127Z",
          "shell.execute_reply.started": "2021-10-08T14:45:42.741864Z"
        },
        "papermill": {
          "duration": 0.188359,
          "end_time": "2021-10-08T15:38:59.385803",
          "exception": false,
          "start_time": "2021-10-08T15:38:59.197444",
          "status": "completed"
        },
        "tags": [],
        "colab": {
          "base_uri": "https://localhost:8080/"
        },
        "id": "3742769e",
        "outputId": "4198062c-33e2-4808-cf4a-e0f50567e70e"
      },
      "outputs": [
        {
          "output_type": "stream",
          "name": "stdout",
          "text": [
            "[-1, -1, -1, -1, 0, 0, 0, 0, 0, 0, 0, 0, 0, 0, 0, 0, 0, 0, 0, 0, 0, 0, 0, 0, 0, 0, 0, 0, 0, 0, 0, 0, -1, -1, -1, -1, 1, 1, 1, 1, 1, 1, 1, 1, 1, 1, 1, 1, 1, 1, 1, 1, 1, 1, 1, 1, 1, 1, 1, 1, 1, 1, 1, 1, 1, 1, 1, 1, 1, 1, 1, 1, 1, 1, 1, 1, 1, 1, 1, 1, 1, 1, 1, 1, 1, 1, 2, 2, 2, 2, 2, 2, 2, 2, 2, 2, 2, 2, 2, 2, 2, 2, 2, 2, 2, 2, 2, 2, 2, 2, 2, 2, 2, 2, 2, 2, 2, 2, 2, 2, 2, 2, -1, -1, -1, -1, -1, -1, -1, -1, -1, -1, -1, -1, -1, -1, -1, -1, -1, -1, 3, 3, 3, 3, 3, 3, 3, 3, 3, 3, 3, 3, 3, 3, 3, 3, 3, 3, 3, 3, 3, 3, 3, 3, 3, -1, -1, -1, -1, -1, -1, -1, -1, -1, -1, -1, -1, -1, -1, -1, -1, -1, -1, -1, -1, -1, -1, -1, -1, -1, -1, -1, -1, -1, -1, -1, -1, -1, -1, -1]\n",
            "cluster number 5\n",
            "outliers : 61\n",
            "cluster 0  :  28\n",
            "cluster 1  :  50\n",
            "cluster 2  :  36\n",
            "cluster 3  :  25\n"
          ]
        }
      ],
      "source": [
        "clustering = OPTICS(min_samples=minpts[13],max_eps=maxeps[31]).fit(X)\n",
        "cluster = list(clustering.labels_)\n",
        "print(cluster)\n",
        "\n",
        "values, counts = np.unique(cluster, return_counts=True)\n",
        "print(\"cluster number\",len(values))\n",
        "\n",
        "for x in range(0,len(values)):\n",
        "    if values[x] == -1:\n",
        "        print(\"outliers :\",counts[x])\n",
        "    else :\n",
        "        print(\"cluster\",values[x],\" : \",counts[x])\n",
        "\n",
        "df['class'] = cluster"
      ]
    },
    {
      "cell_type": "markdown",
      "id": "1e429529",
      "metadata": {
        "papermill": {
          "duration": 0.036679,
          "end_time": "2021-10-08T15:38:59.459781",
          "exception": false,
          "start_time": "2021-10-08T15:38:59.423102",
          "status": "completed"
        },
        "tags": [],
        "id": "1e429529"
      },
      "source": [
        "This version gives us a couple clusters by ranges of Annual Income (the green cluster whose customers Spending Score is approximately equally distributed from 1 - 100) the two other clusters has their Spending score centered around 50)"
      ]
    },
    {
      "cell_type": "code",
      "execution_count": null,
      "id": "ab0efc20",
      "metadata": {
        "execution": {
          "iopub.execute_input": "2021-10-08T15:38:59.564155Z",
          "iopub.status.busy": "2021-10-08T15:38:59.561522Z",
          "iopub.status.idle": "2021-10-08T15:39:02.389414Z",
          "shell.execute_reply": "2021-10-08T15:39:02.389856Z",
          "shell.execute_reply.started": "2021-10-08T14:55:06.818102Z"
        },
        "papermill": {
          "duration": 2.892973,
          "end_time": "2021-10-08T15:39:02.390061",
          "exception": false,
          "start_time": "2021-10-08T15:38:59.497088",
          "status": "completed"
        },
        "tags": [],
        "colab": {
          "base_uri": "https://localhost:8080/",
          "height": 497
        },
        "id": "ab0efc20",
        "outputId": "226a56b3-0a94-42aa-fcf6-063916e34cce"
      },
      "outputs": [
        {
          "output_type": "execute_result",
          "data": {
            "text/plain": [
              "Text(0, 0.5, 'Spending Score (1-100)')"
            ]
          },
          "metadata": {},
          "execution_count": 16
        },
        {
          "output_type": "display_data",
          "data": {
            "text/plain": [
              "<Figure size 640x480 with 1 Axes>"
            ],
            "image/png": "[encoded data removed]"
          },
          "metadata": {}
        }
      ],
      "source": [
        "fig,bx = plt.subplots()\n",
        "\n",
        "for i in range(len(df['class'])):\n",
        " bx.scatter(df['Annual Income (k$)'][i], df['Spending Score (1-100)'][i],color=colors[df['class'][i]])\n",
        "\n",
        "\n",
        "bx.set_title('Mall costumer dataset')\n",
        "bx.set_xlabel('Annual Income (k$)')\n",
        "bx.set_ylabel('Spending Score (1-100)')"
      ]
    },
    {
      "cell_type": "markdown",
      "id": "9407aa54",
      "metadata": {
        "papermill": {
          "duration": 0.040019,
          "end_time": "2021-10-08T15:39:02.470024",
          "exception": false,
          "start_time": "2021-10-08T15:39:02.430005",
          "status": "completed"
        },
        "tags": [],
        "id": "9407aa54"
      },
      "source": [
        "Next, we try running the algorithm using the two feature Spending Score and age."
      ]
    },
    {
      "cell_type": "code",
      "execution_count": null,
      "id": "73f14818",
      "metadata": {
        "execution": {
          "iopub.execute_input": "2021-10-08T15:39:02.556378Z",
          "iopub.status.busy": "2021-10-08T15:39:02.550373Z",
          "iopub.status.idle": "2021-10-08T15:39:09.802831Z",
          "shell.execute_reply": "2021-10-08T15:39:09.803269Z",
          "shell.execute_reply.started": "2021-10-08T14:12:16.769729Z"
        },
        "papermill": {
          "duration": 7.294412,
          "end_time": "2021-10-08T15:39:09.803499",
          "exception": false,
          "start_time": "2021-10-08T15:39:02.509087",
          "status": "completed"
        },
        "tags": [],
        "colab": {
          "base_uri": "https://localhost:8080/"
        },
        "id": "73f14818",
        "outputId": "e53d8710-be2b-462a-e3dc-8c4f6311e628"
      },
      "outputs": [
        {
          "output_type": "stream",
          "name": "stdout",
          "text": [
            "17\n",
            "optimal minpts value : 27\n",
            "optimal silhouette coefficient : 0.46288486847296384\n"
          ]
        }
      ],
      "source": [
        "X = np.array(df[[\"Spending Score (1-100)\",\"Age\"]])\n",
        "\n",
        "for k in range(0,len(sil)):\n",
        "\n",
        "    clustering = OPTICS(min_samples=minpts[k],max_eps=maxeps[k]).fit(X)\n",
        "    cluster = list(clustering.labels_)\n",
        "    if len(np.unique(cluster)) == 1:\n",
        "\n",
        "        continue\n",
        "\n",
        "    sil[k] = silhouette_score(X,clustering.labels_)\n",
        "\n",
        "maximum = max(sil)\n",
        "index = sil.index(maximum)\n",
        "print(index)\n",
        "print(\"optimal minpts value :\",minpts[index])\n",
        "print(\"optimal silhouette coefficient :\",sil[index])"
      ]
    },
    {
      "cell_type": "code",
      "execution_count": null,
      "id": "25db6914",
      "metadata": {
        "execution": {
          "iopub.execute_input": "2021-10-08T15:39:09.938719Z",
          "iopub.status.busy": "2021-10-08T15:39:09.937823Z",
          "iopub.status.idle": "2021-10-08T15:39:10.078057Z",
          "shell.execute_reply": "2021-10-08T15:39:10.078809Z",
          "shell.execute_reply.started": "2021-10-08T14:12:31.787597Z"
        },
        "papermill": {
          "duration": 0.20914,
          "end_time": "2021-10-08T15:39:10.079043",
          "exception": false,
          "start_time": "2021-10-08T15:39:09.869903",
          "status": "completed"
        },
        "tags": [],
        "colab": {
          "base_uri": "https://localhost:8080/"
        },
        "id": "25db6914",
        "outputId": "3dcd9c84-a011-4d43-b598-31e364a65a7d"
      },
      "outputs": [
        {
          "output_type": "stream",
          "name": "stdout",
          "text": [
            "[-1, 0, -1, 0, -1, 0, -1, 0, -1, 0, -1, 0, -1, 0, -1, 0, -1, 0, -1, 0, -1, 0, -1, 0, -1, 0, -1, -1, -1, 0, -1, 0, -1, 0, -1, 0, -1, 0, -1, 0, -1, 0, -1, -1, -1, 0, -1, -1, -1, -1, -1, -1, -1, -1, -1, -1, -1, -1, -1, -1, -1, -1, -1, -1, -1, 0, -1, -1, -1, -1, -1, -1, -1, -1, -1, -1, -1, -1, -1, -1, -1, -1, -1, -1, -1, -1, -1, -1, -1, -1, -1, -1, -1, -1, -1, -1, -1, -1, -1, -1, -1, -1, -1, -1, -1, -1, -1, -1, -1, -1, -1, -1, -1, -1, -1, -1, -1, -1, -1, -1, -1, -1, -1, 0, -1, 0, -1, 0, -1, 0, -1, 0, -1, 0, -1, 0, -1, 0, -1, 0, -1, 0, -1, 0, -1, 0, -1, 0, -1, 0, -1, 0, -1, 0, -1, 0, -1, 0, -1, 0, -1, 0, -1, 0, -1, 0, -1, 0, -1, 0, -1, 0, -1, 0, -1, 0, -1, 0, -1, 0, -1, 0, -1, 0, -1, 0, -1, 0, -1, 0, -1, 0, -1, 0, -1, 0, -1, 0, -1, 0]\n",
            "cluster number 2\n",
            "outliers : 139\n",
            "cluster 0  :  61\n"
          ]
        }
      ],
      "source": [
        "clustering = OPTICS(min_samples=minpts[17],max_eps=maxeps[17]).fit(X)\n",
        "cluster = list(clustering.labels_)\n",
        "print(cluster)\n",
        "\n",
        "values, counts = np.unique(cluster, return_counts=True)\n",
        "print(\"cluster number\",len(values))\n",
        "\n",
        "for x in range(0,len(values)):\n",
        "    if values[x] == -1:\n",
        "        print(\"outliers :\",counts[x])\n",
        "    else :\n",
        "        print(\"cluster\",values[x],\" : \",counts[x])\n",
        "\n",
        "df['class'] = cluster"
      ]
    },
    {
      "cell_type": "markdown",
      "id": "ea3bdb24",
      "metadata": {
        "papermill": {
          "duration": 0.038486,
          "end_time": "2021-10-08T15:39:10.157579",
          "exception": false,
          "start_time": "2021-10-08T15:39:10.119093",
          "status": "completed"
        },
        "tags": [],
        "id": "ea3bdb24"
      },
      "source": [
        "The cluster 0 is green colored while the red colored points are considered\n",
        "noise by the algorithm. This clustering recommands to focus on the green cluster. the\n",
        "annual income of that green population lies within the interval [42,102] which seems to   rather interesting interval. This cluster of individuals contains clients whose spending score    variance is very high as you see the large spread of spending score values of the green cluster. Let’s apply again this procedure to the feature “Age” and “Spending Score”\n",
        "The silhouette coefficient for this configuration is 0.46. This means that the green cluster   is the most import segment to focus on because it’s dense with young clients with very high Spending Score. The marketing team should prioritize the conservation of this segment (people whose age lies from 20 to 42)\n"
      ]
    },
    {
      "cell_type": "code",
      "execution_count": null,
      "id": "5d2ae1d2",
      "metadata": {
        "execution": {
          "iopub.execute_input": "2021-10-08T15:39:10.273159Z",
          "iopub.status.busy": "2021-10-08T15:39:10.264945Z",
          "iopub.status.idle": "2021-10-08T15:39:13.222519Z",
          "shell.execute_reply": "2021-10-08T15:39:13.221604Z",
          "shell.execute_reply.started": "2021-10-08T14:12:38.76407Z"
        },
        "papermill": {
          "duration": 3.026476,
          "end_time": "2021-10-08T15:39:13.222697",
          "exception": false,
          "start_time": "2021-10-08T15:39:10.196221",
          "status": "completed"
        },
        "tags": [],
        "colab": {
          "base_uri": "https://localhost:8080/",
          "height": 497
        },
        "id": "5d2ae1d2",
        "outputId": "fcaf62d8-eb44-46a4-a49e-194593df63e7"
      },
      "outputs": [
        {
          "output_type": "execute_result",
          "data": {
            "text/plain": [
              "Text(0, 0.5, 'Spending score')"
            ]
          },
          "metadata": {},
          "execution_count": 19
        },
        {
          "output_type": "display_data",
          "data": {
            "text/plain": [
              "<Figure size 640x480 with 1 Axes>"
            ],
            "image/png": "[encoded data removed]"
          },
          "metadata": {}
        }
      ],
      "source": [
        "fig,px = plt.subplots()\n",
        "\n",
        "for i in range(len(df['class'])):\n",
        " px.scatter(df['Age'][i], df['Spending Score (1-100)'][i],color=colors[df['class'][i]])\n",
        "\n",
        "\n",
        "px.set_title('Mall costumer dataset')\n",
        "px.set_xlabel('Age')\n",
        "px.set_ylabel('Spending score')"
      ]
    }
  ],
  "metadata": {
    "kernelspec": {
      "display_name": "Python 3",
      "language": "python",
      "name": "python3"
    },
    "language_info": {
      "codemirror_mode": {
        "name": "ipython",
        "version": 3
      },
      "file_extension": ".py",
      "mimetype": "text/x-python",
      "name": "python",
      "nbconvert_exporter": "python",
      "pygments_lexer": "ipython3",
      "version": "3.7.10"
    },
    "papermill": {
      "default_parameters": {},
      "duration": 56.766877,
      "end_time": "2021-10-08T15:39:13.974854",
      "environment_variables": {},
      "exception": null,
      "input_path": "__notebook__.ipynb",
      "output_path": "__notebook__.ipynb",
      "parameters": {},
      "start_time": "2021-10-08T15:38:17.207977",
      "version": "2.3.3"
    },
    "colab": {
      "provenance": [],
      "include_colab_link": true
    }
  },
  "nbformat": 4,
  "nbformat_minor": 5
}