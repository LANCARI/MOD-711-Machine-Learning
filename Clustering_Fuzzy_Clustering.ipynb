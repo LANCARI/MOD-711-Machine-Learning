{
  "cells": [
    {
      "cell_type": "markdown",
      "metadata": {
        "id": "view-in-github",
        "colab_type": "text"
      },
      "source": [
        "<a href=\"https://colab.research.google.com/github/LANCARI/MOD-711-Machine-Learning/blob/main/Clustering_Fuzzy_Clustering.ipynb\" target=\"_parent\"><img src=\"https://colab.research.google.com/assets/colab-badge.svg\" alt=\"Open In Colab\"/></a>"
      ]
    },
    {
      "cell_type": "markdown",
      "source": [
        "MOD-711 MACHINE LEARNING (Grupo A Clustering)\n",
        "\n",
        "Clustering - Algoritmo Fuzzy Clustering\n",
        "\n",
        "Integrantes: Frida Aduviri y Licett Ancari\n"
      ],
      "metadata": {
        "id": "xiUwwuIcltS0"
      },
      "id": "xiUwwuIcltS0"
    },
    {
      "cell_type": "markdown",
      "source": [
        "## 1. Descripción"
      ],
      "metadata": {
        "id": "WiSLIGO4myBg"
      },
      "id": "WiSLIGO4myBg"
    },
    {
      "cell_type": "markdown",
      "source": [
        "Fuzzy Clustering es un tipo de algoritmo de agrupamiento en aprendizaje automático que permite que un punto de datos pertenezca a más de un grupo con diferentes grados de membresía. A diferencia de los algoritmos de agrupación tradicionales, como k-means o agrupación jerárquica, que asignan cada punto de datos a un solo grupo, la agrupación difusa asigna un grado de membresía entre 0 y 1 para cada punto de datos de cada grupo.\n",
        "\n",
        "#Ventajas de la agrupación difusa:\n",
        "\n",
        "#Flexibilidad:\n",
        "La agrupación difusa permite agrupaciones superpuestas, lo que puede resultar útil cuando los datos tienen una estructura compleja o cuando existen límites de clase ambiguos o superpuestos.\n",
        "Robustez: la agrupación difusa puede ser más robusta ante los valores atípicos y el ruido en los datos, ya que permite una transición más gradual de un grupo a otro.\n",
        "\n",
        "#Interpretabilidad:\n",
        "La agrupación difusa proporciona una comprensión más matizada de la estructura de los datos, ya que permite una representación más detallada de las relaciones entre los puntos de datos y las agrupaciones.\n",
        "\n",
        "#Desventajas de la agrupación difusa:\n",
        "Complejidad: Los algoritmos de agrupamiento difuso pueden ser computacionalmente más costosos que los algoritmos de agrupamiento tradicionales, ya que requieren optimización en múltiples grados de membresía.\n",
        "Selección del modelo: elegir el número correcto de clústeres y funciones de membresía puede ser un desafío y puede requerir conocimiento experto o prueba y error.\n",
        "\n",
        "Si está interesado en aprender más sobre la agrupación difusa, podría considerar leer “La agrupación difusa y sus aplicaciones” de James C. Bezdek o “Una introducción a la agrupación difusa” de Witold Pedrycz y Fernando Gomide."
      ],
      "metadata": {
        "id": "YrUFb6yLmyBi"
      },
      "id": "YrUFb6yLmyBi"
    },
    {
      "cell_type": "markdown",
      "source": [
        "## 2. Birtex y Referencias:"
      ],
      "metadata": {
        "id": "6KjgdgBkmyBj"
      },
      "id": "6KjgdgBkmyBj"
    },
    {
      "cell_type": "markdown",
      "source": [
        "* https://www.geeksforgeeks.org/ml-fuzzy-clustering/\n",
        "* https://www.kaggle.com/code/ahmedaliomar/fuzzy-c-means-with-country-data#**Apply-Fuzzy-C-Means-Algorithm"
      ],
      "metadata": {
        "id": "K_voamVTmyBk"
      },
      "id": "K_voamVTmyBk"
    },
    {
      "cell_type": "markdown",
      "source": [
        "## 3. Tipo de Modelo:"
      ],
      "metadata": {
        "id": "DpSXBV8GmyBl"
      },
      "id": "DpSXBV8GmyBl"
    },
    {
      "cell_type": "markdown",
      "source": [
        "* Metodo de Aprendizaje: No paramétrcio\n",
        "* Por Parametros: No supervisado\n",
        "* Datos de aprendizaje: Offline requiere que todos los datos estén disponibles de antemano, antes de que comience el proceso de agrupación\n",
        "* Resultado del Entrenamiento: No es un modelo matemático en el sentido tradicional en el que se obtiene un conjunto de ecuaciones o parámetros que describen completamente la estructura de los datos. En lugar de eso, el resultado del entrenamiento de Fuzzy Clustering es una instancia de asignación de clústeres para cada punto de datos en el conjunto de datos."
      ],
      "metadata": {
        "id": "EenB4en3myBl"
      },
      "id": "EenB4en3myBl"
    },
    {
      "cell_type": "markdown",
      "source": [
        "## 4. Algoritmos de Entrenamiento:"
      ],
      "metadata": {
        "id": "0QaL4cj4myBm"
      },
      "id": "0QaL4cj4myBm"
    },
    {
      "cell_type": "markdown",
      "source": [
        "Fuzzy Clustering, se utiliza para asignar puntos de datos a clústeres y estimar los parámetros del modelo que definen la estructura difusa de los clústeres. se basan en conceptos matemáticos para calcular los grados de pertenencia difusa y los centroides de los clústeres. Aquí te proporciono una descripción más matemática del algoritmo de entrenamiento de FCM.\n"
      ],
      "metadata": {
        "id": "CWaGjFm-myBn"
      },
      "id": "CWaGjFm-myBn"
    },
    {
      "cell_type": "markdown",
      "source": [
        "## 5. Supuestos y Restricciones:"
      ],
      "metadata": {
        "id": "Z3gI7bZPmyBn"
      },
      "id": "Z3gI7bZPmyBn"
    },
    {
      "cell_type": "markdown",
      "source": [
        "Supuestos:\n",
        "\n",
        "1.Distribución de datos difusa: El algoritmo FCM supone que los datos pueden pertenecer a múltiples clústeres con diferentes grados de pertenencia difusa. Este enfoque es adecuado para situaciones donde la asignación de datos a clústeres no es clara o definitiva.\n",
        "\n",
        "2.Forma esférica de los clústeres: FCM asume que los clústeres tienen una forma esférica, lo que significa que no es eficiente para detectar clústeres de formas irregulares o alargadas. En tales casos, otros algoritmos de agrupación, como DBSCAN, pueden ser más apropiados.\n",
        "\n",
        "3.Número de clústeres fijo o estimado: El usuario generalmente debe proporcionar el número de clústeres C o realizar estimaciones iniciales. En algunos casos, se pueden utilizar técnicas para estimar automáticamente el número óptimo de clústeres, pero esto no siempre es posible.\n",
        "\n",
        "\n",
        "Restricciones:\n",
        "\n",
        "1.Sensibilidad a la inicialización: El rendimiento del FCM puede depender en gran medida de la inicialización de los centroides y los grados de pertenencia. Una mala inicialización puede llevar a resultados subóptimos.\n",
        "\n",
        "2.Dependencia del parámetro :m: El parámetro m (que controla la difusión de los grados de pertenencia) debe seleccionarse cuidadosamente. Diferentes valores de\n",
        "m pueden dar lugar a resultados significativamente diferentes, y la elección de\n",
        "m a menudo se basa en la experiencia o en métodos de búsqueda heurística.\n",
        "\n",
        "3.Sensibilidad a valores atípicos: El FCM puede ser sensible a valores atípicos (outliers) en los datos, lo que puede afectar negativamente la calidad de los clústeres.\n",
        "\n",
        "4.Costo computacional: El algoritmo FCM puede ser computacionalmente costoso, especialmente en conjuntos de datos grandes o con un número de clústeres elevado.\n",
        "\n",
        "5.No garantiza la convergencia global: Dependiendo de la inicialización y los datos, el FCM puede converger a óptimos locales en lugar de al óptimo global.\n"
      ],
      "metadata": {
        "id": "4PHSkkN9myBo"
      },
      "id": "4PHSkkN9myBo"
    },
    {
      "cell_type": "code",
      "source": [
        "import numpy as np # linear algebra\n",
        "import pandas as pd # data processing, CSV file I/O (e.g. pd.read_csv)"
      ],
      "metadata": {
        "id": "YDqA9kybXDtC"
      },
      "execution_count": null,
      "outputs": [],
      "id": "YDqA9kybXDtC"
    },
    {
      "cell_type": "code",
      "execution_count": null,
      "metadata": {
        "id": "5hKEtCeuPnM8"
      },
      "outputs": [],
      "source": [
        "import os\n",
        "for dirname, _, filenames in os.walk('/kaggle/input'):\n",
        "    for filename in filenames:\n",
        "        print(os.path.join(dirname, filename))"
      ],
      "id": "5hKEtCeuPnM8"
    },
    {
      "cell_type": "markdown",
      "source": [
        "## 1. Descripción"
      ],
      "metadata": {
        "id": "c3vGfb0sm07q"
      },
      "id": "c3vGfb0sm07q"
    },
    {
      "cell_type": "markdown",
      "source": [
        "Fuzzy Clustering es un tipo de algoritmo de agrupamiento en aprendizaje automático que permite que un punto de datos pertenezca a más de un grupo con diferentes grados de membresía. A diferencia de los algoritmos de agrupación tradicionales, como k-means o agrupación jerárquica, que asignan cada punto de datos a un solo grupo, la agrupación difusa asigna un grado de membresía entre 0 y 1 para cada punto de datos de cada grupo.\n",
        "\n",
        "#Ventajas de la agrupación difusa:\n",
        "\n",
        "#Flexibilidad:\n",
        "La agrupación difusa permite agrupaciones superpuestas, lo que puede resultar útil cuando los datos tienen una estructura compleja o cuando existen límites de clase ambiguos o superpuestos.\n",
        "Robustez: la agrupación difusa puede ser más robusta ante los valores atípicos y el ruido en los datos, ya que permite una transición más gradual de un grupo a otro.\n",
        "\n",
        "#Interpretabilidad:\n",
        "La agrupación difusa proporciona una comprensión más matizada de la estructura de los datos, ya que permite una representación más detallada de las relaciones entre los puntos de datos y las agrupaciones.\n",
        "\n",
        "#Desventajas de la agrupación difusa:\n",
        "Complejidad: Los algoritmos de agrupamiento difuso pueden ser computacionalmente más costosos que los algoritmos de agrupamiento tradicionales, ya que requieren optimización en múltiples grados de membresía.\n",
        "Selección del modelo: elegir el número correcto de clústeres y funciones de membresía puede ser un desafío y puede requerir conocimiento experto o prueba y error.\n",
        "\n",
        "Si está interesado en aprender más sobre la agrupación difusa, podría considerar leer “La agrupación difusa y sus aplicaciones” de James C. Bezdek o “Una introducción a la agrupación difusa” de Witold Pedrycz y Fernando Gomide."
      ],
      "metadata": {
        "id": "FUcdxGRJm07r"
      },
      "id": "FUcdxGRJm07r"
    },
    {
      "cell_type": "markdown",
      "source": [
        "## 2. Birtex y Referencias:"
      ],
      "metadata": {
        "id": "avdg0mgOm07s"
      },
      "id": "avdg0mgOm07s"
    },
    {
      "cell_type": "markdown",
      "source": [
        "* https://www.geeksforgeeks.org/ml-fuzzy-clustering/\n",
        "* https://www.kaggle.com/code/ahmedaliomar/fuzzy-c-means-with-country-data#**Apply-Fuzzy-C-Means-Algorithm"
      ],
      "metadata": {
        "id": "zsDCBQnym07t"
      },
      "id": "zsDCBQnym07t"
    },
    {
      "cell_type": "markdown",
      "source": [
        "## 3. Tipo de Modelo:"
      ],
      "metadata": {
        "id": "jHZ0fkBem07t"
      },
      "id": "jHZ0fkBem07t"
    },
    {
      "cell_type": "markdown",
      "source": [
        "* Metodo de Aprendizaje: No paramétrcio\n",
        "* Por Parametros: No supervisado\n",
        "* Datos de aprendizaje: Offline requiere que todos los datos estén disponibles de antemano, antes de que comience el proceso de agrupación\n",
        "* Resultado del Entrenamiento: No es un modelo matemático en el sentido tradicional en el que se obtiene un conjunto de ecuaciones o parámetros que describen completamente la estructura de los datos. En lugar de eso, el resultado del entrenamiento de Fuzzy Clustering es una instancia de asignación de clústeres para cada punto de datos en el conjunto de datos."
      ],
      "metadata": {
        "id": "dKiY56AXm07t"
      },
      "id": "dKiY56AXm07t"
    },
    {
      "cell_type": "markdown",
      "source": [
        "## 4. Algoritmos de Entrenamiento:"
      ],
      "metadata": {
        "id": "qEAxkuZem07u"
      },
      "id": "qEAxkuZem07u"
    },
    {
      "cell_type": "markdown",
      "source": [
        "Fuzzy Clustering, se utiliza para asignar puntos de datos a clústeres y estimar los parámetros del modelo que definen la estructura difusa de los clústeres. se basan en conceptos matemáticos para calcular los grados de pertenencia difusa y los centroides de los clústeres. Aquí te proporciono una descripción más matemática del algoritmo de entrenamiento de FCM.\n"
      ],
      "metadata": {
        "id": "vcNZba-Hm07u"
      },
      "id": "vcNZba-Hm07u"
    },
    {
      "cell_type": "markdown",
      "source": [
        "## 5. Supuestos y Restricciones:"
      ],
      "metadata": {
        "id": "-4ckhshOm07u"
      },
      "id": "-4ckhshOm07u"
    },
    {
      "cell_type": "markdown",
      "source": [
        "Supuestos:\n",
        "\n",
        "1.Distribución de datos difusa: El algoritmo FCM supone que los datos pueden pertenecer a múltiples clústeres con diferentes grados de pertenencia difusa. Este enfoque es adecuado para situaciones donde la asignación de datos a clústeres no es clara o definitiva.\n",
        "\n",
        "2.Forma esférica de los clústeres: FCM asume que los clústeres tienen una forma esférica, lo que significa que no es eficiente para detectar clústeres de formas irregulares o alargadas. En tales casos, otros algoritmos de agrupación, como DBSCAN, pueden ser más apropiados.\n",
        "\n",
        "3.Número de clústeres fijo o estimado: El usuario generalmente debe proporcionar el número de clústeres C o realizar estimaciones iniciales. En algunos casos, se pueden utilizar técnicas para estimar automáticamente el número óptimo de clústeres, pero esto no siempre es posible.\n",
        "\n",
        "\n",
        "Restricciones:\n",
        "\n",
        "1.Sensibilidad a la inicialización: El rendimiento del FCM puede depender en gran medida de la inicialización de los centroides y los grados de pertenencia. Una mala inicialización puede llevar a resultados subóptimos.\n",
        "\n",
        "2.Dependencia del parámetro :m: El parámetro m (que controla la difusión de los grados de pertenencia) debe seleccionarse cuidadosamente. Diferentes valores de\n",
        "m pueden dar lugar a resultados significativamente diferentes, y la elección de\n",
        "m a menudo se basa en la experiencia o en métodos de búsqueda heurística.\n",
        "\n",
        "3.Sensibilidad a valores atípicos: El FCM puede ser sensible a valores atípicos (outliers) en los datos, lo que puede afectar negativamente la calidad de los clústeres.\n",
        "\n",
        "4.Costo computacional: El algoritmo FCM puede ser computacionalmente costoso, especialmente en conjuntos de datos grandes o con un número de clústeres elevado.\n",
        "\n",
        "5.No garantiza la convergencia global: Dependiendo de la inicialización y los datos, el FCM puede converger a óptimos locales en lugar de al óptimo global.\n"
      ],
      "metadata": {
        "id": "dSl09F0Zm07v"
      },
      "id": "dSl09F0Zm07v"
    },
    {
      "cell_type": "code",
      "source": [
        "import numpy as np # linear algebra\n",
        "import pandas as pd # data processing, CSV file I/O (e.g. pd.read_csv)"
      ],
      "metadata": {
        "id": "En3PrrYPm07v"
      },
      "execution_count": null,
      "outputs": [],
      "id": "En3PrrYPm07v"
    },
    {
      "cell_type": "code",
      "execution_count": null,
      "metadata": {
        "id": "d7DUrf65m07w"
      },
      "outputs": [],
      "source": [
        "import os\n",
        "for dirname, _, filenames in os.walk('/kaggle/input'):\n",
        "    for filename in filenames:\n",
        "        print(os.path.join(dirname, filename))"
      ],
      "id": "d7DUrf65m07w"
    },
    {
      "cell_type": "markdown",
      "source": [
        "Fuzzy Clustering es un tipo de algoritmo de agrupamiento en aprendizaje automático que permite que un punto de datos pertenezca a más de un grupo con diferentes grados de membresía. A diferencia de los algoritmos de agrupación tradicionales, como k-means o agrupación jerárquica, que asignan cada punto de datos a un solo grupo, la agrupación difusa asigna un grado de membresía entre 0 y 1 para cada punto de datos de cada grupo.\n",
        "\n",
        "#Ventajas de la agrupación difusa:\n",
        "\n",
        "#Flexibilidad:\n",
        "La agrupación difusa permite agrupaciones superpuestas, lo que puede resultar útil cuando los datos tienen una estructura compleja o cuando existen límites de clase ambiguos o superpuestos.\n",
        "Robustez: la agrupación difusa puede ser más robusta ante los valores atípicos y el ruido en los datos, ya que permite una transición más gradual de un grupo a otro.\n",
        "\n",
        "#Interpretabilidad:\n",
        "La agrupación difusa proporciona una comprensión más matizada de la estructura de los datos, ya que permite una representación más detallada de las relaciones entre los puntos de datos y las agrupaciones.\n",
        "\n",
        "#Desventajas de la agrupación difusa:\n",
        "Complejidad: Los algoritmos de agrupamiento difuso pueden ser computacionalmente más costosos que los algoritmos de agrupamiento tradicionales, ya que requieren optimización en múltiples grados de membresía.\n",
        "Selección del modelo: elegir el número correcto de clústeres y funciones de membresía puede ser un desafío y puede requerir conocimiento experto o prueba y error.\n",
        "\n",
        "Si está interesado en aprender más sobre la agrupación difusa, podría considerar leer “La agrupación difusa y sus aplicaciones” de James C. Bezdek o “Una introducción a la agrupación difusa” de Witold Pedrycz y Fernando Gomide."
      ],
      "metadata": {
        "id": "C8QhmkieQl5v"
      },
      "id": "C8QhmkieQl5v"
    },
    {
      "cell_type": "markdown",
      "source": [
        "## 2. Birtex y Referencias:"
      ],
      "metadata": {
        "id": "y1xzkd91QUIj"
      },
      "id": "y1xzkd91QUIj"
    },
    {
      "cell_type": "markdown",
      "source": [
        "* https://www.geeksforgeeks.org/ml-fuzzy-clustering/\n",
        "* https://www.kaggle.com/code/ahmedaliomar/fuzzy-c-means-with-country-data#**Apply-Fuzzy-C-Means-Algorithm"
      ],
      "metadata": {
        "id": "_Wc8cP2YQprr"
      },
      "id": "_Wc8cP2YQprr"
    },
    {
      "cell_type": "markdown",
      "source": [
        "## 3. Tipo de Modelo:"
      ],
      "metadata": {
        "id": "v0ERBwVpQVqz"
      },
      "id": "v0ERBwVpQVqz"
    },
    {
      "cell_type": "markdown",
      "source": [
        "* Metodo de Aprendizaje: No paramétrcio\n",
        "* Por Parametros: No supervisado\n",
        "* Datos de aprendizaje: Offline requiere que todos los datos estén disponibles de antemano, antes de que comience el proceso de agrupación\n",
        "* Resultado del Entrenamiento: No es un modelo matemático en el sentido tradicional en el que se obtiene un conjunto de ecuaciones o parámetros que describen completamente la estructura de los datos. En lugar de eso, el resultado del entrenamiento de Fuzzy Clustering es una instancia de asignación de clústeres para cada punto de datos en el conjunto de datos."
      ],
      "metadata": {
        "id": "J6u4qeJTQqqE"
      },
      "id": "J6u4qeJTQqqE"
    },
    {
      "cell_type": "markdown",
      "source": [
        "## 4. Algoritmos de Entrenamiento:"
      ],
      "metadata": {
        "id": "_pan_RfbQViK"
      },
      "id": "_pan_RfbQViK"
    },
    {
      "cell_type": "markdown",
      "source": [
        "Fuzzy Clustering, se utiliza para asignar puntos de datos a clústeres y estimar los parámetros del modelo que definen la estructura difusa de los clústeres. se basan en conceptos matemáticos para calcular los grados de pertenencia difusa y los centroides de los clústeres. Aquí te proporciono una descripción más matemática del algoritmo de entrenamiento de FCM.\n"
      ],
      "metadata": {
        "id": "G2rD6_gYQul8"
      },
      "id": "G2rD6_gYQul8"
    },
    {
      "cell_type": "markdown",
      "source": [
        "## 5. Supuestos y Restricciones:"
      ],
      "metadata": {
        "id": "BoayNssZQVVs"
      },
      "id": "BoayNssZQVVs"
    },
    {
      "cell_type": "markdown",
      "source": [
        "Supuestos:\n",
        "\n",
        "1.Distribución de datos difusa: El algoritmo FCM supone que los datos pueden pertenecer a múltiples clústeres con diferentes grados de pertenencia difusa. Este enfoque es adecuado para situaciones donde la asignación de datos a clústeres no es clara o definitiva.\n",
        "\n",
        "2.Forma esférica de los clústeres: FCM asume que los clústeres tienen una forma esférica, lo que significa que no es eficiente para detectar clústeres de formas irregulares o alargadas. En tales casos, otros algoritmos de agrupación, como DBSCAN, pueden ser más apropiados.\n",
        "\n",
        "3.Número de clústeres fijo o estimado: El usuario generalmente debe proporcionar el número de clústeres C o realizar estimaciones iniciales. En algunos casos, se pueden utilizar técnicas para estimar automáticamente el número óptimo de clústeres, pero esto no siempre es posible.\n",
        "\n",
        "\n",
        "Restricciones:\n",
        "\n",
        "1.Sensibilidad a la inicialización: El rendimiento del FCM puede depender en gran medida de la inicialización de los centroides y los grados de pertenencia. Una mala inicialización puede llevar a resultados subóptimos.\n",
        "\n",
        "2.Dependencia del parámetro :m: El parámetro m (que controla la difusión de los grados de pertenencia) debe seleccionarse cuidadosamente. Diferentes valores de\n",
        "m pueden dar lugar a resultados significativamente diferentes, y la elección de\n",
        "m a menudo se basa en la experiencia o en métodos de búsqueda heurística.\n",
        "\n",
        "3.Sensibilidad a valores atípicos: El FCM puede ser sensible a valores atípicos (outliers) en los datos, lo que puede afectar negativamente la calidad de los clústeres.\n",
        "\n",
        "4.Costo computacional: El algoritmo FCM puede ser computacionalmente costoso, especialmente en conjuntos de datos grandes o con un número de clústeres elevado.\n",
        "\n",
        "5.No garantiza la convergencia global: Dependiendo de la inicialización y los datos, el FCM puede converger a óptimos locales en lugar de al óptimo global.\n"
      ],
      "metadata": {
        "id": "e1ZWkepQQv29"
      },
      "id": "e1ZWkepQQv29"
    },
    {
      "cell_type": "markdown",
      "source": [
        "DATA SET:"
      ],
      "metadata": {
        "id": "5mtEVNJ6mVAr"
      },
      "id": "5mtEVNJ6mVAr"
    },
    {
      "cell_type": "code",
      "execution_count": null,
      "id": "851af499",
      "metadata": {
        "_cell_guid": "b1076dfc-b9ad-4769-8c92-a6c4dae69d19",
        "_uuid": "8f2839f25d086af736a60e9eeb907d3b93b6e0e5",
        "execution": {
          "iopub.execute_input": "2021-12-17T12:59:03.502401Z",
          "iopub.status.busy": "2021-12-17T12:59:03.500323Z",
          "iopub.status.idle": "2021-12-17T12:59:03.519567Z",
          "shell.execute_reply": "2021-12-17T12:59:03.520299Z",
          "shell.execute_reply.started": "2021-12-17T12:51:40.269434Z"
        },
        "papermill": {
          "duration": 0.061973,
          "end_time": "2021-12-17T12:59:03.520610",
          "exception": false,
          "start_time": "2021-12-17T12:59:03.458637",
          "status": "completed"
        },
        "tags": [],
        "id": "851af499"
      },
      "outputs": [],
      "source": [
        "\n",
        "import numpy as np # linear algebra\n",
        "import pandas as pd # data processing, CSV file I/O (e.g. pd.read_csv)\n",
        "\n",
        "\n",
        "import os\n",
        "for dirname, _, filenames in os.walk('/kaggle/input'):\n",
        "    for filename in filenames:\n",
        "        print(os.path.join(dirname, filename))\n",
        "\n"
      ]
    },
    {
      "cell_type": "markdown",
      "id": "e8b49afb",
      "metadata": {
        "papermill": {
          "duration": 0.034105,
          "end_time": "2021-12-17T12:59:03.593709",
          "exception": false,
          "start_time": "2021-12-17T12:59:03.559604",
          "status": "completed"
        },
        "tags": [],
        "id": "e8b49afb"
      },
      "source": [
        "# Import library"
      ]
    },
    {
      "cell_type": "code",
      "execution_count": null,
      "id": "8c5f4024",
      "metadata": {
        "execution": {
          "iopub.execute_input": "2021-12-17T12:59:03.668763Z",
          "iopub.status.busy": "2021-12-17T12:59:03.668059Z",
          "iopub.status.idle": "2021-12-17T12:59:22.658599Z",
          "shell.execute_reply": "2021-12-17T12:59:22.657883Z",
          "shell.execute_reply.started": "2021-12-17T12:51:40.281627Z"
        },
        "papermill": {
          "duration": 19.030328,
          "end_time": "2021-12-17T12:59:22.658754",
          "exception": false,
          "start_time": "2021-12-17T12:59:03.628426",
          "status": "completed"
        },
        "tags": [],
        "colab": {
          "base_uri": "https://localhost:8080/"
        },
        "id": "8c5f4024",
        "outputId": "999f1180-e829-480f-ced7-6f0db0cbe7bc"
      },
      "outputs": [
        {
          "output_type": "stream",
          "name": "stdout",
          "text": [
            "Collecting fuzzy_c_means\n",
            "  Downloading fuzzy_c_means-1.7.0-py3-none-any.whl (9.0 kB)\n",
            "Requirement already satisfied: joblib<2.0.0,>=1.2.0 in /usr/local/lib/python3.10/dist-packages (from fuzzy_c_means) (1.3.2)\n",
            "Requirement already satisfied: numpy<2.0.0,>=1.21.1 in /usr/local/lib/python3.10/dist-packages (from fuzzy_c_means) (1.23.5)\n",
            "Collecting pydantic<2.0.0,>=1.9.0 (from fuzzy_c_means)\n",
            "  Downloading pydantic-1.10.12-cp310-cp310-manylinux_2_17_x86_64.manylinux2014_x86_64.whl (3.1 MB)\n",
            "\u001b[2K     \u001b[90m━━━━━━━━━━━━━━━━━━━━━━━━━━━━━━━━━━━━━━━━\u001b[0m \u001b[32m3.1/3.1 MB\u001b[0m \u001b[31m34.2 MB/s\u001b[0m eta \u001b[36m0:00:00\u001b[0m\n",
            "\u001b[?25hCollecting tabulate<0.9.0,>=0.8.9 (from fuzzy_c_means)\n",
            "  Downloading tabulate-0.8.10-py3-none-any.whl (29 kB)\n",
            "Requirement already satisfied: tqdm<5.0.0,>=4.64.1 in /usr/local/lib/python3.10/dist-packages (from fuzzy_c_means) (4.66.1)\n",
            "Collecting typer<0.5.0,>=0.4.0 (from fuzzy_c_means)\n",
            "  Downloading typer-0.4.2-py3-none-any.whl (27 kB)\n",
            "Requirement already satisfied: typing-extensions>=4.2.0 in /usr/local/lib/python3.10/dist-packages (from pydantic<2.0.0,>=1.9.0->fuzzy_c_means) (4.7.1)\n",
            "Requirement already satisfied: click<9.0.0,>=7.1.1 in /usr/local/lib/python3.10/dist-packages (from typer<0.5.0,>=0.4.0->fuzzy_c_means) (8.1.7)\n",
            "Installing collected packages: typer, tabulate, pydantic, fuzzy_c_means\n",
            "  Attempting uninstall: typer\n",
            "    Found existing installation: typer 0.9.0\n",
            "    Uninstalling typer-0.9.0:\n",
            "      Successfully uninstalled typer-0.9.0\n",
            "  Attempting uninstall: tabulate\n",
            "    Found existing installation: tabulate 0.9.0\n",
            "    Uninstalling tabulate-0.9.0:\n",
            "      Successfully uninstalled tabulate-0.9.0\n",
            "  Attempting uninstall: pydantic\n",
            "    Found existing installation: pydantic 2.3.0\n",
            "    Uninstalling pydantic-2.3.0:\n",
            "      Successfully uninstalled pydantic-2.3.0\n",
            "Successfully installed fuzzy_c_means-1.7.0 pydantic-1.10.12 tabulate-0.8.10 typer-0.4.2\n"
          ]
        }
      ],
      "source": [
        "pip install fuzzy_c_means"
      ]
    },
    {
      "cell_type": "code",
      "execution_count": null,
      "id": "ce142e5b",
      "metadata": {
        "execution": {
          "iopub.execute_input": "2021-12-17T12:59:22.773262Z",
          "iopub.status.busy": "2021-12-17T12:59:22.772234Z",
          "iopub.status.idle": "2021-12-17T12:59:23.975619Z",
          "shell.execute_reply": "2021-12-17T12:59:23.974943Z",
          "shell.execute_reply.started": "2021-12-17T12:51:40.290960Z"
        },
        "papermill": {
          "duration": 1.265308,
          "end_time": "2021-12-17T12:59:23.975815",
          "exception": false,
          "start_time": "2021-12-17T12:59:22.710507",
          "status": "completed"
        },
        "tags": [],
        "id": "ce142e5b"
      },
      "outputs": [],
      "source": [
        "import numpy as np\n",
        "import pandas as pd\n",
        "import matplotlib .pyplot as plt\n",
        "%matplotlib inline\n",
        "import seaborn as sns\n",
        "import warnings\n",
        "warnings.filterwarnings('ignore')\n",
        "from fcmeans import FCM\n",
        "from sklearn.preprocessing import StandardScaler\n",
        "from sklearn.preprocessing import OrdinalEncoder"
      ]
    },
    {
      "cell_type": "markdown",
      "id": "d2bf1fd2",
      "metadata": {
        "papermill": {
          "duration": 0.052673,
          "end_time": "2021-12-17T12:59:24.081233",
          "exception": false,
          "start_time": "2021-12-17T12:59:24.028560",
          "status": "completed"
        },
        "tags": [],
        "id": "d2bf1fd2"
      },
      "source": [
        "# ****Read Data"
      ]
    },
    {
      "cell_type": "code",
      "execution_count": null,
      "id": "9af907d4",
      "metadata": {
        "execution": {
          "iopub.execute_input": "2021-12-17T12:59:24.192426Z",
          "iopub.status.busy": "2021-12-17T12:59:24.191404Z",
          "iopub.status.idle": "2021-12-17T12:59:24.206257Z",
          "shell.execute_reply": "2021-12-17T12:59:24.206849Z",
          "shell.execute_reply.started": "2021-12-17T12:51:40.490701Z"
        },
        "papermill": {
          "duration": 0.073764,
          "end_time": "2021-12-17T12:59:24.207052",
          "exception": false,
          "start_time": "2021-12-17T12:59:24.133288",
          "status": "completed"
        },
        "tags": [],
        "id": "9af907d4"
      },
      "outputs": [],
      "source": [
        "data = pd.read_csv('/content/Country-data.csv')\n",
        "\n"
      ]
    },
    {
      "cell_type": "code",
      "execution_count": null,
      "id": "eec293b3",
      "metadata": {
        "execution": {
          "iopub.execute_input": "2021-12-17T12:59:24.319800Z",
          "iopub.status.busy": "2021-12-17T12:59:24.318661Z",
          "iopub.status.idle": "2021-12-17T12:59:24.323426Z",
          "shell.execute_reply": "2021-12-17T12:59:24.323988Z",
          "shell.execute_reply.started": "2021-12-17T12:51:40.507700Z"
        },
        "papermill": {
          "duration": 0.06546,
          "end_time": "2021-12-17T12:59:24.324179",
          "exception": false,
          "start_time": "2021-12-17T12:59:24.258719",
          "status": "completed"
        },
        "tags": [],
        "colab": {
          "base_uri": "https://localhost:8080/"
        },
        "id": "eec293b3",
        "outputId": "fb6598af-97ca-4ee5-f206-776812010a8a"
      },
      "outputs": [
        {
          "output_type": "execute_result",
          "data": {
            "text/plain": [
              "(167, 10)"
            ]
          },
          "metadata": {},
          "execution_count": 5
        }
      ],
      "source": [
        "data.shape"
      ]
    },
    {
      "cell_type": "code",
      "execution_count": null,
      "id": "7f0849bd",
      "metadata": {
        "execution": {
          "iopub.execute_input": "2021-12-17T12:59:24.437229Z",
          "iopub.status.busy": "2021-12-17T12:59:24.436030Z",
          "iopub.status.idle": "2021-12-17T12:59:24.458430Z",
          "shell.execute_reply": "2021-12-17T12:59:24.458966Z",
          "shell.execute_reply.started": "2021-12-17T12:51:40.519978Z"
        },
        "papermill": {
          "duration": 0.083247,
          "end_time": "2021-12-17T12:59:24.459245",
          "exception": false,
          "start_time": "2021-12-17T12:59:24.375998",
          "status": "completed"
        },
        "tags": [],
        "colab": {
          "base_uri": "https://localhost:8080/",
          "height": 206
        },
        "id": "7f0849bd",
        "outputId": "b237bb28-3656-4702-ab16-9181290936ff"
      },
      "outputs": [
        {
          "output_type": "execute_result",
          "data": {
            "text/plain": [
              "               country  child_mort  exports  health  imports  income  \\\n",
              "0          Afghanistan        90.2     10.0    7.58     44.9    1610   \n",
              "1              Albania        16.6     28.0    6.55     48.6    9930   \n",
              "2              Algeria        27.3     38.4    4.17     31.4   12900   \n",
              "3               Angola       119.0     62.3    2.85     42.9    5900   \n",
              "4  Antigua and Barbuda        10.3     45.5    6.03     58.9   19100   \n",
              "\n",
              "   inflation  life_expec  total_fer   gdpp  \n",
              "0       9.44        56.2       5.82    553  \n",
              "1       4.49        76.3       1.65   4090  \n",
              "2      16.10        76.5       2.89   4460  \n",
              "3      22.40        60.1       6.16   3530  \n",
              "4       1.44        76.8       2.13  12200  "
            ],
            "text/html": [
              "\n",
              "  <div id=\"df-46e3acd0-1c4a-422e-8181-96cdb24a84b0\" class=\"colab-df-container\">\n",
              "    <div>\n",
              "<style scoped>\n",
              "    .dataframe tbody tr th:only-of-type {\n",
              "        vertical-align: middle;\n",
              "    }\n",
              "\n",
              "    .dataframe tbody tr th {\n",
              "        vertical-align: top;\n",
              "    }\n",
              "\n",
              "    .dataframe thead th {\n",
              "        text-align: right;\n",
              "    }\n",
              "</style>\n",
              "<table border=\"1\" class=\"dataframe\">\n",
              "  <thead>\n",
              "    <tr style=\"text-align: right;\">\n",
              "      <th></th>\n",
              "      <th>country</th>\n",
              "      <th>child_mort</th>\n",
              "      <th>exports</th>\n",
              "      <th>health</th>\n",
              "      <th>imports</th>\n",
              "      <th>income</th>\n",
              "      <th>inflation</th>\n",
              "      <th>life_expec</th>\n",
              "      <th>total_fer</th>\n",
              "      <th>gdpp</th>\n",
              "    </tr>\n",
              "  </thead>\n",
              "  <tbody>\n",
              "    <tr>\n",
              "      <th>0</th>\n",
              "      <td>Afghanistan</td>\n",
              "      <td>90.2</td>\n",
              "      <td>10.0</td>\n",
              "      <td>7.58</td>\n",
              "      <td>44.9</td>\n",
              "      <td>1610</td>\n",
              "      <td>9.44</td>\n",
              "      <td>56.2</td>\n",
              "      <td>5.82</td>\n",
              "      <td>553</td>\n",
              "    </tr>\n",
              "    <tr>\n",
              "      <th>1</th>\n",
              "      <td>Albania</td>\n",
              "      <td>16.6</td>\n",
              "      <td>28.0</td>\n",
              "      <td>6.55</td>\n",
              "      <td>48.6</td>\n",
              "      <td>9930</td>\n",
              "      <td>4.49</td>\n",
              "      <td>76.3</td>\n",
              "      <td>1.65</td>\n",
              "      <td>4090</td>\n",
              "    </tr>\n",
              "    <tr>\n",
              "      <th>2</th>\n",
              "      <td>Algeria</td>\n",
              "      <td>27.3</td>\n",
              "      <td>38.4</td>\n",
              "      <td>4.17</td>\n",
              "      <td>31.4</td>\n",
              "      <td>12900</td>\n",
              "      <td>16.10</td>\n",
              "      <td>76.5</td>\n",
              "      <td>2.89</td>\n",
              "      <td>4460</td>\n",
              "    </tr>\n",
              "    <tr>\n",
              "      <th>3</th>\n",
              "      <td>Angola</td>\n",
              "      <td>119.0</td>\n",
              "      <td>62.3</td>\n",
              "      <td>2.85</td>\n",
              "      <td>42.9</td>\n",
              "      <td>5900</td>\n",
              "      <td>22.40</td>\n",
              "      <td>60.1</td>\n",
              "      <td>6.16</td>\n",
              "      <td>3530</td>\n",
              "    </tr>\n",
              "    <tr>\n",
              "      <th>4</th>\n",
              "      <td>Antigua and Barbuda</td>\n",
              "      <td>10.3</td>\n",
              "      <td>45.5</td>\n",
              "      <td>6.03</td>\n",
              "      <td>58.9</td>\n",
              "      <td>19100</td>\n",
              "      <td>1.44</td>\n",
              "      <td>76.8</td>\n",
              "      <td>2.13</td>\n",
              "      <td>12200</td>\n",
              "    </tr>\n",
              "  </tbody>\n",
              "</table>\n",
              "</div>\n",
              "    <div class=\"colab-df-buttons\">\n",
              "\n",
              "  <div class=\"colab-df-container\">\n",
              "    <button class=\"colab-df-convert\" onclick=\"convertToInteractive('df-46e3acd0-1c4a-422e-8181-96cdb24a84b0')\"\n",
              "            title=\"Convert this dataframe to an interactive table.\"\n",
              "            style=\"display:none;\">\n",
              "\n",
              "  <svg xmlns=\"http://www.w3.org/2000/svg\" height=\"24px\" viewBox=\"0 -960 960 960\">\n",
              "    <path d=\"M120-120v-720h720v720H120Zm60-500h600v-160H180v160Zm220 220h160v-160H400v160Zm0 220h160v-160H400v160ZM180-400h160v-160H180v160Zm440 0h160v-160H620v160ZM180-180h160v-160H180v160Zm440 0h160v-160H620v160Z\"/>\n",
              "  </svg>\n",
              "    </button>\n",
              "\n",
              "  <style>\n",
              "    .colab-df-container {\n",
              "      display:flex;\n",
              "      gap: 12px;\n",
              "    }\n",
              "\n",
              "    .colab-df-convert {\n",
              "      background-color: #E8F0FE;\n",
              "      border: none;\n",
              "      border-radius: 50%;\n",
              "      cursor: pointer;\n",
              "      display: none;\n",
              "      fill: #1967D2;\n",
              "      height: 32px;\n",
              "      padding: 0 0 0 0;\n",
              "      width: 32px;\n",
              "    }\n",
              "\n",
              "    .colab-df-convert:hover {\n",
              "      background-color: #E2EBFA;\n",
              "      box-shadow: 0px 1px 2px rgba(60, 64, 67, 0.3), 0px 1px 3px 1px rgba(60, 64, 67, 0.15);\n",
              "      fill: #174EA6;\n",
              "    }\n",
              "\n",
              "    .colab-df-buttons div {\n",
              "      margin-bottom: 4px;\n",
              "    }\n",
              "\n",
              "    [theme=dark] .colab-df-convert {\n",
              "      background-color: #3B4455;\n",
              "      fill: #D2E3FC;\n",
              "    }\n",
              "\n",
              "    [theme=dark] .colab-df-convert:hover {\n",
              "      background-color: #434B5C;\n",
              "      box-shadow: 0px 1px 3px 1px rgba(0, 0, 0, 0.15);\n",
              "      filter: drop-shadow(0px 1px 2px rgba(0, 0, 0, 0.3));\n",
              "      fill: #FFFFFF;\n",
              "    }\n",
              "  </style>\n",
              "\n",
              "    <script>\n",
              "      const buttonEl =\n",
              "        document.querySelector('#df-46e3acd0-1c4a-422e-8181-96cdb24a84b0 button.colab-df-convert');\n",
              "      buttonEl.style.display =\n",
              "        google.colab.kernel.accessAllowed ? 'block' : 'none';\n",
              "\n",
              "      async function convertToInteractive(key) {\n",
              "        const element = document.querySelector('#df-46e3acd0-1c4a-422e-8181-96cdb24a84b0');\n",
              "        const dataTable =\n",
              "          await google.colab.kernel.invokeFunction('convertToInteractive',\n",
              "                                                    [key], {});\n",
              "        if (!dataTable) return;\n",
              "\n",
              "        const docLinkHtml = 'Like what you see? Visit the ' +\n",
              "          '<a target=\"_blank\" href=https://colab.research.google.com/notebooks/data_table.ipynb>data table notebook</a>'\n",
              "          + ' to learn more about interactive tables.';\n",
              "        element.innerHTML = '';\n",
              "        dataTable['output_type'] = 'display_data';\n",
              "        await google.colab.output.renderOutput(dataTable, element);\n",
              "        const docLink = document.createElement('div');\n",
              "        docLink.innerHTML = docLinkHtml;\n",
              "        element.appendChild(docLink);\n",
              "      }\n",
              "    </script>\n",
              "  </div>\n",
              "\n",
              "\n",
              "<div id=\"df-dd1a7bc7-f20f-4993-9edb-b88b0d84374c\">\n",
              "  <button class=\"colab-df-quickchart\" onclick=\"quickchart('df-dd1a7bc7-f20f-4993-9edb-b88b0d84374c')\"\n",
              "            title=\"Suggest charts.\"\n",
              "            style=\"display:none;\">\n",
              "\n",
              "<svg xmlns=\"http://www.w3.org/2000/svg\" height=\"24px\"viewBox=\"0 0 24 24\"\n",
              "     width=\"24px\">\n",
              "    <g>\n",
              "        <path d=\"M19 3H5c-1.1 0-2 .9-2 2v14c0 1.1.9 2 2 2h14c1.1 0 2-.9 2-2V5c0-1.1-.9-2-2-2zM9 17H7v-7h2v7zm4 0h-2V7h2v10zm4 0h-2v-4h2v4z\"/>\n",
              "    </g>\n",
              "</svg>\n",
              "  </button>\n",
              "\n",
              "<style>\n",
              "  .colab-df-quickchart {\n",
              "      --bg-color: #E8F0FE;\n",
              "      --fill-color: #1967D2;\n",
              "      --hover-bg-color: #E2EBFA;\n",
              "      --hover-fill-color: #174EA6;\n",
              "      --disabled-fill-color: #AAA;\n",
              "      --disabled-bg-color: #DDD;\n",
              "  }\n",
              "\n",
              "  [theme=dark] .colab-df-quickchart {\n",
              "      --bg-color: #3B4455;\n",
              "      --fill-color: #D2E3FC;\n",
              "      --hover-bg-color: #434B5C;\n",
              "      --hover-fill-color: #FFFFFF;\n",
              "      --disabled-bg-color: #3B4455;\n",
              "      --disabled-fill-color: #666;\n",
              "  }\n",
              "\n",
              "  .colab-df-quickchart {\n",
              "    background-color: var(--bg-color);\n",
              "    border: none;\n",
              "    border-radius: 50%;\n",
              "    cursor: pointer;\n",
              "    display: none;\n",
              "    fill: var(--fill-color);\n",
              "    height: 32px;\n",
              "    padding: 0;\n",
              "    width: 32px;\n",
              "  }\n",
              "\n",
              "  .colab-df-quickchart:hover {\n",
              "    background-color: var(--hover-bg-color);\n",
              "    box-shadow: 0 1px 2px rgba(60, 64, 67, 0.3), 0 1px 3px 1px rgba(60, 64, 67, 0.15);\n",
              "    fill: var(--button-hover-fill-color);\n",
              "  }\n",
              "\n",
              "  .colab-df-quickchart-complete:disabled,\n",
              "  .colab-df-quickchart-complete:disabled:hover {\n",
              "    background-color: var(--disabled-bg-color);\n",
              "    fill: var(--disabled-fill-color);\n",
              "    box-shadow: none;\n",
              "  }\n",
              "\n",
              "  .colab-df-spinner {\n",
              "    border: 2px solid var(--fill-color);\n",
              "    border-color: transparent;\n",
              "    border-bottom-color: var(--fill-color);\n",
              "    animation:\n",
              "      spin 1s steps(1) infinite;\n",
              "  }\n",
              "\n",
              "  @keyframes spin {\n",
              "    0% {\n",
              "      border-color: transparent;\n",
              "      border-bottom-color: var(--fill-color);\n",
              "      border-left-color: var(--fill-color);\n",
              "    }\n",
              "    20% {\n",
              "      border-color: transparent;\n",
              "      border-left-color: var(--fill-color);\n",
              "      border-top-color: var(--fill-color);\n",
              "    }\n",
              "    30% {\n",
              "      border-color: transparent;\n",
              "      border-left-color: var(--fill-color);\n",
              "      border-top-color: var(--fill-color);\n",
              "      border-right-color: var(--fill-color);\n",
              "    }\n",
              "    40% {\n",
              "      border-color: transparent;\n",
              "      border-right-color: var(--fill-color);\n",
              "      border-top-color: var(--fill-color);\n",
              "    }\n",
              "    60% {\n",
              "      border-color: transparent;\n",
              "      border-right-color: var(--fill-color);\n",
              "    }\n",
              "    80% {\n",
              "      border-color: transparent;\n",
              "      border-right-color: var(--fill-color);\n",
              "      border-bottom-color: var(--fill-color);\n",
              "    }\n",
              "    90% {\n",
              "      border-color: transparent;\n",
              "      border-bottom-color: var(--fill-color);\n",
              "    }\n",
              "  }\n",
              "</style>\n",
              "\n",
              "  <script>\n",
              "    async function quickchart(key) {\n",
              "      const quickchartButtonEl =\n",
              "        document.querySelector('#' + key + ' button');\n",
              "      quickchartButtonEl.disabled = true;  // To prevent multiple clicks.\n",
              "      quickchartButtonEl.classList.add('colab-df-spinner');\n",
              "      try {\n",
              "        const charts = await google.colab.kernel.invokeFunction(\n",
              "            'suggestCharts', [key], {});\n",
              "      } catch (error) {\n",
              "        console.error('Error during call to suggestCharts:', error);\n",
              "      }\n",
              "      quickchartButtonEl.classList.remove('colab-df-spinner');\n",
              "      quickchartButtonEl.classList.add('colab-df-quickchart-complete');\n",
              "    }\n",
              "    (() => {\n",
              "      let quickchartButtonEl =\n",
              "        document.querySelector('#df-dd1a7bc7-f20f-4993-9edb-b88b0d84374c button');\n",
              "      quickchartButtonEl.style.display =\n",
              "        google.colab.kernel.accessAllowed ? 'block' : 'none';\n",
              "    })();\n",
              "  </script>\n",
              "</div>\n",
              "    </div>\n",
              "  </div>\n"
            ]
          },
          "metadata": {},
          "execution_count": 6
        }
      ],
      "source": [
        "data.head()"
      ]
    },
    {
      "cell_type": "code",
      "execution_count": null,
      "id": "bb91df6b",
      "metadata": {
        "execution": {
          "iopub.execute_input": "2021-12-17T12:59:24.585802Z",
          "iopub.status.busy": "2021-12-17T12:59:24.584604Z",
          "iopub.status.idle": "2021-12-17T12:59:24.618947Z",
          "shell.execute_reply": "2021-12-17T12:59:24.619685Z",
          "shell.execute_reply.started": "2021-12-17T12:51:40.544888Z"
        },
        "papermill": {
          "duration": 0.107408,
          "end_time": "2021-12-17T12:59:24.619872",
          "exception": false,
          "start_time": "2021-12-17T12:59:24.512464",
          "status": "completed"
        },
        "tags": [],
        "colab": {
          "base_uri": "https://localhost:8080/",
          "height": 300
        },
        "id": "bb91df6b",
        "outputId": "010f4dc7-961b-47cf-e202-bd40ce6dbee6"
      },
      "outputs": [
        {
          "output_type": "execute_result",
          "data": {
            "text/plain": [
              "       child_mort     exports      health     imports         income  \\\n",
              "count  167.000000  167.000000  167.000000  167.000000     167.000000   \n",
              "mean    38.270060   41.108976    6.815689   46.890215   17144.688623   \n",
              "std     40.328931   27.412010    2.746837   24.209589   19278.067698   \n",
              "min      2.600000    0.109000    1.810000    0.065900     609.000000   \n",
              "25%      8.250000   23.800000    4.920000   30.200000    3355.000000   \n",
              "50%     19.300000   35.000000    6.320000   43.300000    9960.000000   \n",
              "75%     62.100000   51.350000    8.600000   58.750000   22800.000000   \n",
              "max    208.000000  200.000000   17.900000  174.000000  125000.000000   \n",
              "\n",
              "        inflation  life_expec   total_fer           gdpp  \n",
              "count  167.000000  167.000000  167.000000     167.000000  \n",
              "mean     7.781832   70.555689    2.947964   12964.155689  \n",
              "std     10.570704    8.893172    1.513848   18328.704809  \n",
              "min     -4.210000   32.100000    1.150000     231.000000  \n",
              "25%      1.810000   65.300000    1.795000    1330.000000  \n",
              "50%      5.390000   73.100000    2.410000    4660.000000  \n",
              "75%     10.750000   76.800000    3.880000   14050.000000  \n",
              "max    104.000000   82.800000    7.490000  105000.000000  "
            ],
            "text/html": [
              "\n",
              "  <div id=\"df-9606ca3b-2db8-4c6e-bed8-a33fbe3473fe\" class=\"colab-df-container\">\n",
              "    <div>\n",
              "<style scoped>\n",
              "    .dataframe tbody tr th:only-of-type {\n",
              "        vertical-align: middle;\n",
              "    }\n",
              "\n",
              "    .dataframe tbody tr th {\n",
              "        vertical-align: top;\n",
              "    }\n",
              "\n",
              "    .dataframe thead th {\n",
              "        text-align: right;\n",
              "    }\n",
              "</style>\n",
              "<table border=\"1\" class=\"dataframe\">\n",
              "  <thead>\n",
              "    <tr style=\"text-align: right;\">\n",
              "      <th></th>\n",
              "      <th>child_mort</th>\n",
              "      <th>exports</th>\n",
              "      <th>health</th>\n",
              "      <th>imports</th>\n",
              "      <th>income</th>\n",
              "      <th>inflation</th>\n",
              "      <th>life_expec</th>\n",
              "      <th>total_fer</th>\n",
              "      <th>gdpp</th>\n",
              "    </tr>\n",
              "  </thead>\n",
              "  <tbody>\n",
              "    <tr>\n",
              "      <th>count</th>\n",
              "      <td>167.000000</td>\n",
              "      <td>167.000000</td>\n",
              "      <td>167.000000</td>\n",
              "      <td>167.000000</td>\n",
              "      <td>167.000000</td>\n",
              "      <td>167.000000</td>\n",
              "      <td>167.000000</td>\n",
              "      <td>167.000000</td>\n",
              "      <td>167.000000</td>\n",
              "    </tr>\n",
              "    <tr>\n",
              "      <th>mean</th>\n",
              "      <td>38.270060</td>\n",
              "      <td>41.108976</td>\n",
              "      <td>6.815689</td>\n",
              "      <td>46.890215</td>\n",
              "      <td>17144.688623</td>\n",
              "      <td>7.781832</td>\n",
              "      <td>70.555689</td>\n",
              "      <td>2.947964</td>\n",
              "      <td>12964.155689</td>\n",
              "    </tr>\n",
              "    <tr>\n",
              "      <th>std</th>\n",
              "      <td>40.328931</td>\n",
              "      <td>27.412010</td>\n",
              "      <td>2.746837</td>\n",
              "      <td>24.209589</td>\n",
              "      <td>19278.067698</td>\n",
              "      <td>10.570704</td>\n",
              "      <td>8.893172</td>\n",
              "      <td>1.513848</td>\n",
              "      <td>18328.704809</td>\n",
              "    </tr>\n",
              "    <tr>\n",
              "      <th>min</th>\n",
              "      <td>2.600000</td>\n",
              "      <td>0.109000</td>\n",
              "      <td>1.810000</td>\n",
              "      <td>0.065900</td>\n",
              "      <td>609.000000</td>\n",
              "      <td>-4.210000</td>\n",
              "      <td>32.100000</td>\n",
              "      <td>1.150000</td>\n",
              "      <td>231.000000</td>\n",
              "    </tr>\n",
              "    <tr>\n",
              "      <th>25%</th>\n",
              "      <td>8.250000</td>\n",
              "      <td>23.800000</td>\n",
              "      <td>4.920000</td>\n",
              "      <td>30.200000</td>\n",
              "      <td>3355.000000</td>\n",
              "      <td>1.810000</td>\n",
              "      <td>65.300000</td>\n",
              "      <td>1.795000</td>\n",
              "      <td>1330.000000</td>\n",
              "    </tr>\n",
              "    <tr>\n",
              "      <th>50%</th>\n",
              "      <td>19.300000</td>\n",
              "      <td>35.000000</td>\n",
              "      <td>6.320000</td>\n",
              "      <td>43.300000</td>\n",
              "      <td>9960.000000</td>\n",
              "      <td>5.390000</td>\n",
              "      <td>73.100000</td>\n",
              "      <td>2.410000</td>\n",
              "      <td>4660.000000</td>\n",
              "    </tr>\n",
              "    <tr>\n",
              "      <th>75%</th>\n",
              "      <td>62.100000</td>\n",
              "      <td>51.350000</td>\n",
              "      <td>8.600000</td>\n",
              "      <td>58.750000</td>\n",
              "      <td>22800.000000</td>\n",
              "      <td>10.750000</td>\n",
              "      <td>76.800000</td>\n",
              "      <td>3.880000</td>\n",
              "      <td>14050.000000</td>\n",
              "    </tr>\n",
              "    <tr>\n",
              "      <th>max</th>\n",
              "      <td>208.000000</td>\n",
              "      <td>200.000000</td>\n",
              "      <td>17.900000</td>\n",
              "      <td>174.000000</td>\n",
              "      <td>125000.000000</td>\n",
              "      <td>104.000000</td>\n",
              "      <td>82.800000</td>\n",
              "      <td>7.490000</td>\n",
              "      <td>105000.000000</td>\n",
              "    </tr>\n",
              "  </tbody>\n",
              "</table>\n",
              "</div>\n",
              "    <div class=\"colab-df-buttons\">\n",
              "\n",
              "  <div class=\"colab-df-container\">\n",
              "    <button class=\"colab-df-convert\" onclick=\"convertToInteractive('df-9606ca3b-2db8-4c6e-bed8-a33fbe3473fe')\"\n",
              "            title=\"Convert this dataframe to an interactive table.\"\n",
              "            style=\"display:none;\">\n",
              "\n",
              "  <svg xmlns=\"http://www.w3.org/2000/svg\" height=\"24px\" viewBox=\"0 -960 960 960\">\n",
              "    <path d=\"M120-120v-720h720v720H120Zm60-500h600v-160H180v160Zm220 220h160v-160H400v160Zm0 220h160v-160H400v160ZM180-400h160v-160H180v160Zm440 0h160v-160H620v160ZM180-180h160v-160H180v160Zm440 0h160v-160H620v160Z\"/>\n",
              "  </svg>\n",
              "    </button>\n",
              "\n",
              "  <style>\n",
              "    .colab-df-container {\n",
              "      display:flex;\n",
              "      gap: 12px;\n",
              "    }\n",
              "\n",
              "    .colab-df-convert {\n",
              "      background-color: #E8F0FE;\n",
              "      border: none;\n",
              "      border-radius: 50%;\n",
              "      cursor: pointer;\n",
              "      display: none;\n",
              "      fill: #1967D2;\n",
              "      height: 32px;\n",
              "      padding: 0 0 0 0;\n",
              "      width: 32px;\n",
              "    }\n",
              "\n",
              "    .colab-df-convert:hover {\n",
              "      background-color: #E2EBFA;\n",
              "      box-shadow: 0px 1px 2px rgba(60, 64, 67, 0.3), 0px 1px 3px 1px rgba(60, 64, 67, 0.15);\n",
              "      fill: #174EA6;\n",
              "    }\n",
              "\n",
              "    .colab-df-buttons div {\n",
              "      margin-bottom: 4px;\n",
              "    }\n",
              "\n",
              "    [theme=dark] .colab-df-convert {\n",
              "      background-color: #3B4455;\n",
              "      fill: #D2E3FC;\n",
              "    }\n",
              "\n",
              "    [theme=dark] .colab-df-convert:hover {\n",
              "      background-color: #434B5C;\n",
              "      box-shadow: 0px 1px 3px 1px rgba(0, 0, 0, 0.15);\n",
              "      filter: drop-shadow(0px 1px 2px rgba(0, 0, 0, 0.3));\n",
              "      fill: #FFFFFF;\n",
              "    }\n",
              "  </style>\n",
              "\n",
              "    <script>\n",
              "      const buttonEl =\n",
              "        document.querySelector('#df-9606ca3b-2db8-4c6e-bed8-a33fbe3473fe button.colab-df-convert');\n",
              "      buttonEl.style.display =\n",
              "        google.colab.kernel.accessAllowed ? 'block' : 'none';\n",
              "\n",
              "      async function convertToInteractive(key) {\n",
              "        const element = document.querySelector('#df-9606ca3b-2db8-4c6e-bed8-a33fbe3473fe');\n",
              "        const dataTable =\n",
              "          await google.colab.kernel.invokeFunction('convertToInteractive',\n",
              "                                                    [key], {});\n",
              "        if (!dataTable) return;\n",
              "\n",
              "        const docLinkHtml = 'Like what you see? Visit the ' +\n",
              "          '<a target=\"_blank\" href=https://colab.research.google.com/notebooks/data_table.ipynb>data table notebook</a>'\n",
              "          + ' to learn more about interactive tables.';\n",
              "        element.innerHTML = '';\n",
              "        dataTable['output_type'] = 'display_data';\n",
              "        await google.colab.output.renderOutput(dataTable, element);\n",
              "        const docLink = document.createElement('div');\n",
              "        docLink.innerHTML = docLinkHtml;\n",
              "        element.appendChild(docLink);\n",
              "      }\n",
              "    </script>\n",
              "  </div>\n",
              "\n",
              "\n",
              "<div id=\"df-52207bc9-2cf6-474a-be00-588e0d1a1e06\">\n",
              "  <button class=\"colab-df-quickchart\" onclick=\"quickchart('df-52207bc9-2cf6-474a-be00-588e0d1a1e06')\"\n",
              "            title=\"Suggest charts.\"\n",
              "            style=\"display:none;\">\n",
              "\n",
              "<svg xmlns=\"http://www.w3.org/2000/svg\" height=\"24px\"viewBox=\"0 0 24 24\"\n",
              "     width=\"24px\">\n",
              "    <g>\n",
              "        <path d=\"M19 3H5c-1.1 0-2 .9-2 2v14c0 1.1.9 2 2 2h14c1.1 0 2-.9 2-2V5c0-1.1-.9-2-2-2zM9 17H7v-7h2v7zm4 0h-2V7h2v10zm4 0h-2v-4h2v4z\"/>\n",
              "    </g>\n",
              "</svg>\n",
              "  </button>\n",
              "\n",
              "<style>\n",
              "  .colab-df-quickchart {\n",
              "      --bg-color: #E8F0FE;\n",
              "      --fill-color: #1967D2;\n",
              "      --hover-bg-color: #E2EBFA;\n",
              "      --hover-fill-color: #174EA6;\n",
              "      --disabled-fill-color: #AAA;\n",
              "      --disabled-bg-color: #DDD;\n",
              "  }\n",
              "\n",
              "  [theme=dark] .colab-df-quickchart {\n",
              "      --bg-color: #3B4455;\n",
              "      --fill-color: #D2E3FC;\n",
              "      --hover-bg-color: #434B5C;\n",
              "      --hover-fill-color: #FFFFFF;\n",
              "      --disabled-bg-color: #3B4455;\n",
              "      --disabled-fill-color: #666;\n",
              "  }\n",
              "\n",
              "  .colab-df-quickchart {\n",
              "    background-color: var(--bg-color);\n",
              "    border: none;\n",
              "    border-radius: 50%;\n",
              "    cursor: pointer;\n",
              "    display: none;\n",
              "    fill: var(--fill-color);\n",
              "    height: 32px;\n",
              "    padding: 0;\n",
              "    width: 32px;\n",
              "  }\n",
              "\n",
              "  .colab-df-quickchart:hover {\n",
              "    background-color: var(--hover-bg-color);\n",
              "    box-shadow: 0 1px 2px rgba(60, 64, 67, 0.3), 0 1px 3px 1px rgba(60, 64, 67, 0.15);\n",
              "    fill: var(--button-hover-fill-color);\n",
              "  }\n",
              "\n",
              "  .colab-df-quickchart-complete:disabled,\n",
              "  .colab-df-quickchart-complete:disabled:hover {\n",
              "    background-color: var(--disabled-bg-color);\n",
              "    fill: var(--disabled-fill-color);\n",
              "    box-shadow: none;\n",
              "  }\n",
              "\n",
              "  .colab-df-spinner {\n",
              "    border: 2px solid var(--fill-color);\n",
              "    border-color: transparent;\n",
              "    border-bottom-color: var(--fill-color);\n",
              "    animation:\n",
              "      spin 1s steps(1) infinite;\n",
              "  }\n",
              "\n",
              "  @keyframes spin {\n",
              "    0% {\n",
              "      border-color: transparent;\n",
              "      border-bottom-color: var(--fill-color);\n",
              "      border-left-color: var(--fill-color);\n",
              "    }\n",
              "    20% {\n",
              "      border-color: transparent;\n",
              "      border-left-color: var(--fill-color);\n",
              "      border-top-color: var(--fill-color);\n",
              "    }\n",
              "    30% {\n",
              "      border-color: transparent;\n",
              "      border-left-color: var(--fill-color);\n",
              "      border-top-color: var(--fill-color);\n",
              "      border-right-color: var(--fill-color);\n",
              "    }\n",
              "    40% {\n",
              "      border-color: transparent;\n",
              "      border-right-color: var(--fill-color);\n",
              "      border-top-color: var(--fill-color);\n",
              "    }\n",
              "    60% {\n",
              "      border-color: transparent;\n",
              "      border-right-color: var(--fill-color);\n",
              "    }\n",
              "    80% {\n",
              "      border-color: transparent;\n",
              "      border-right-color: var(--fill-color);\n",
              "      border-bottom-color: var(--fill-color);\n",
              "    }\n",
              "    90% {\n",
              "      border-color: transparent;\n",
              "      border-bottom-color: var(--fill-color);\n",
              "    }\n",
              "  }\n",
              "</style>\n",
              "\n",
              "  <script>\n",
              "    async function quickchart(key) {\n",
              "      const quickchartButtonEl =\n",
              "        document.querySelector('#' + key + ' button');\n",
              "      quickchartButtonEl.disabled = true;  // To prevent multiple clicks.\n",
              "      quickchartButtonEl.classList.add('colab-df-spinner');\n",
              "      try {\n",
              "        const charts = await google.colab.kernel.invokeFunction(\n",
              "            'suggestCharts', [key], {});\n",
              "      } catch (error) {\n",
              "        console.error('Error during call to suggestCharts:', error);\n",
              "      }\n",
              "      quickchartButtonEl.classList.remove('colab-df-spinner');\n",
              "      quickchartButtonEl.classList.add('colab-df-quickchart-complete');\n",
              "    }\n",
              "    (() => {\n",
              "      let quickchartButtonEl =\n",
              "        document.querySelector('#df-52207bc9-2cf6-474a-be00-588e0d1a1e06 button');\n",
              "      quickchartButtonEl.style.display =\n",
              "        google.colab.kernel.accessAllowed ? 'block' : 'none';\n",
              "    })();\n",
              "  </script>\n",
              "</div>\n",
              "    </div>\n",
              "  </div>\n"
            ]
          },
          "metadata": {},
          "execution_count": 7
        }
      ],
      "source": [
        "data.describe()"
      ]
    },
    {
      "cell_type": "code",
      "execution_count": null,
      "id": "65b76114",
      "metadata": {
        "execution": {
          "iopub.execute_input": "2021-12-17T12:59:24.739429Z",
          "iopub.status.busy": "2021-12-17T12:59:24.738284Z",
          "iopub.status.idle": "2021-12-17T12:59:24.753974Z",
          "shell.execute_reply": "2021-12-17T12:59:24.754886Z",
          "shell.execute_reply.started": "2021-12-17T12:51:40.585650Z"
        },
        "papermill": {
          "duration": 0.080809,
          "end_time": "2021-12-17T12:59:24.755159",
          "exception": false,
          "start_time": "2021-12-17T12:59:24.674350",
          "status": "completed"
        },
        "tags": [],
        "colab": {
          "base_uri": "https://localhost:8080/"
        },
        "id": "65b76114",
        "outputId": "0f560866-2dbc-48d3-88b5-c492aaa183c5"
      },
      "outputs": [
        {
          "output_type": "stream",
          "name": "stdout",
          "text": [
            "<class 'pandas.core.frame.DataFrame'>\n",
            "RangeIndex: 167 entries, 0 to 166\n",
            "Data columns (total 10 columns):\n",
            " #   Column      Non-Null Count  Dtype  \n",
            "---  ------      --------------  -----  \n",
            " 0   country     167 non-null    object \n",
            " 1   child_mort  167 non-null    float64\n",
            " 2   exports     167 non-null    float64\n",
            " 3   health      167 non-null    float64\n",
            " 4   imports     167 non-null    float64\n",
            " 5   income      167 non-null    int64  \n",
            " 6   inflation   167 non-null    float64\n",
            " 7   life_expec  167 non-null    float64\n",
            " 8   total_fer   167 non-null    float64\n",
            " 9   gdpp        167 non-null    int64  \n",
            "dtypes: float64(7), int64(2), object(1)\n",
            "memory usage: 13.2+ KB\n"
          ]
        }
      ],
      "source": [
        "data.info()"
      ]
    },
    {
      "cell_type": "code",
      "execution_count": null,
      "id": "1c973b9e",
      "metadata": {
        "execution": {
          "iopub.execute_input": "2021-12-17T12:59:24.871769Z",
          "iopub.status.busy": "2021-12-17T12:59:24.870673Z",
          "iopub.status.idle": "2021-12-17T12:59:24.874749Z",
          "shell.execute_reply": "2021-12-17T12:59:24.875308Z",
          "shell.execute_reply.started": "2021-12-17T12:51:40.602126Z"
        },
        "papermill": {
          "duration": 0.065214,
          "end_time": "2021-12-17T12:59:24.875488",
          "exception": false,
          "start_time": "2021-12-17T12:59:24.810274",
          "status": "completed"
        },
        "tags": [],
        "colab": {
          "base_uri": "https://localhost:8080/"
        },
        "id": "1c973b9e",
        "outputId": "2d5adf92-843a-430e-87a0-911833206f65"
      },
      "outputs": [
        {
          "output_type": "execute_result",
          "data": {
            "text/plain": [
              "Index(['country', 'child_mort', 'exports', 'health', 'imports', 'income',\n",
              "       'inflation', 'life_expec', 'total_fer', 'gdpp'],\n",
              "      dtype='object')"
            ]
          },
          "metadata": {},
          "execution_count": 9
        }
      ],
      "source": [
        "columns = data.columns\n",
        "columns"
      ]
    },
    {
      "cell_type": "markdown",
      "id": "a0870ff0",
      "metadata": {
        "papermill": {
          "duration": 0.053261,
          "end_time": "2021-12-17T12:59:24.982881",
          "exception": false,
          "start_time": "2021-12-17T12:59:24.929620",
          "status": "completed"
        },
        "tags": [],
        "id": "a0870ff0"
      },
      "source": [
        "# ****Convert data from string and numbers"
      ]
    },
    {
      "cell_type": "code",
      "execution_count": null,
      "id": "e29d542d",
      "metadata": {
        "execution": {
          "iopub.execute_input": "2021-12-17T12:59:25.095343Z",
          "iopub.status.busy": "2021-12-17T12:59:25.094536Z",
          "iopub.status.idle": "2021-12-17T12:59:25.098519Z",
          "shell.execute_reply": "2021-12-17T12:59:25.097898Z",
          "shell.execute_reply.started": "2021-12-17T12:51:40.612335Z"
        },
        "papermill": {
          "duration": 0.061865,
          "end_time": "2021-12-17T12:59:25.098709",
          "exception": false,
          "start_time": "2021-12-17T12:59:25.036844",
          "status": "completed"
        },
        "tags": [],
        "id": "e29d542d"
      },
      "outputs": [],
      "source": [
        "#oe=OrdinalEncoder()\n",
        "##convert train_data\n",
        "#for col in data:\n",
        " #   data[col]=oe.fit_transform(np.asarray(data[col].astype('str')).reshape(-1,1))"
      ]
    },
    {
      "cell_type": "code",
      "execution_count": null,
      "id": "6acabc86",
      "metadata": {
        "execution": {
          "iopub.execute_input": "2021-12-17T12:59:25.213922Z",
          "iopub.status.busy": "2021-12-17T12:59:25.212765Z",
          "iopub.status.idle": "2021-12-17T12:59:25.215851Z",
          "shell.execute_reply": "2021-12-17T12:59:25.215075Z",
          "shell.execute_reply.started": "2021-12-17T12:51:40.620485Z"
        },
        "papermill": {
          "duration": 0.063053,
          "end_time": "2021-12-17T12:59:25.216028",
          "exception": false,
          "start_time": "2021-12-17T12:59:25.152975",
          "status": "completed"
        },
        "tags": [],
        "id": "6acabc86"
      },
      "outputs": [],
      "source": [
        "\n",
        "#print(data.shape)\n",
        "#data.head()"
      ]
    },
    {
      "cell_type": "code",
      "execution_count": null,
      "id": "7380166a",
      "metadata": {
        "execution": {
          "iopub.execute_input": "2021-12-17T12:59:25.330607Z",
          "iopub.status.busy": "2021-12-17T12:59:25.329706Z",
          "iopub.status.idle": "2021-12-17T12:59:25.334333Z",
          "shell.execute_reply": "2021-12-17T12:59:25.333699Z",
          "shell.execute_reply.started": "2021-12-17T12:51:40.630991Z"
        },
        "papermill": {
          "duration": 0.065209,
          "end_time": "2021-12-17T12:59:25.334508",
          "exception": false,
          "start_time": "2021-12-17T12:59:25.269299",
          "status": "completed"
        },
        "tags": [],
        "id": "7380166a"
      },
      "outputs": [],
      "source": [
        "from sklearn.preprocessing import LabelEncoder\n",
        "le = LabelEncoder()\n",
        "le.fit(data['country'])\n",
        "le.transform(data['country'])\n",
        "data['country'] = le.transform(data['country'])"
      ]
    },
    {
      "cell_type": "code",
      "execution_count": null,
      "id": "eccf418c",
      "metadata": {
        "execution": {
          "iopub.execute_input": "2021-12-17T12:59:25.461295Z",
          "iopub.status.busy": "2021-12-17T12:59:25.460158Z",
          "iopub.status.idle": "2021-12-17T12:59:25.466990Z",
          "shell.execute_reply": "2021-12-17T12:59:25.467819Z",
          "shell.execute_reply.started": "2021-12-17T12:51:40.639040Z"
        },
        "papermill": {
          "duration": 0.079664,
          "end_time": "2021-12-17T12:59:25.468043",
          "exception": false,
          "start_time": "2021-12-17T12:59:25.388379",
          "status": "completed"
        },
        "tags": [],
        "colab": {
          "base_uri": "https://localhost:8080/",
          "height": 224
        },
        "id": "eccf418c",
        "outputId": "40775ee7-186f-45f0-97cb-341826f84e19"
      },
      "outputs": [
        {
          "output_type": "stream",
          "name": "stdout",
          "text": [
            "(167, 10)\n"
          ]
        },
        {
          "output_type": "execute_result",
          "data": {
            "text/plain": [
              "   country  child_mort  exports  health  imports  income  inflation  \\\n",
              "0        0        90.2     10.0    7.58     44.9    1610       9.44   \n",
              "1        1        16.6     28.0    6.55     48.6    9930       4.49   \n",
              "2        2        27.3     38.4    4.17     31.4   12900      16.10   \n",
              "3        3       119.0     62.3    2.85     42.9    5900      22.40   \n",
              "4        4        10.3     45.5    6.03     58.9   19100       1.44   \n",
              "\n",
              "   life_expec  total_fer   gdpp  \n",
              "0        56.2       5.82    553  \n",
              "1        76.3       1.65   4090  \n",
              "2        76.5       2.89   4460  \n",
              "3        60.1       6.16   3530  \n",
              "4        76.8       2.13  12200  "
            ],
            "text/html": [
              "\n",
              "  <div id=\"df-a6c21e45-d15f-4cac-8871-1b2ddba8ff76\" class=\"colab-df-container\">\n",
              "    <div>\n",
              "<style scoped>\n",
              "    .dataframe tbody tr th:only-of-type {\n",
              "        vertical-align: middle;\n",
              "    }\n",
              "\n",
              "    .dataframe tbody tr th {\n",
              "        vertical-align: top;\n",
              "    }\n",
              "\n",
              "    .dataframe thead th {\n",
              "        text-align: right;\n",
              "    }\n",
              "</style>\n",
              "<table border=\"1\" class=\"dataframe\">\n",
              "  <thead>\n",
              "    <tr style=\"text-align: right;\">\n",
              "      <th></th>\n",
              "      <th>country</th>\n",
              "      <th>child_mort</th>\n",
              "      <th>exports</th>\n",
              "      <th>health</th>\n",
              "      <th>imports</th>\n",
              "      <th>income</th>\n",
              "      <th>inflation</th>\n",
              "      <th>life_expec</th>\n",
              "      <th>total_fer</th>\n",
              "      <th>gdpp</th>\n",
              "    </tr>\n",
              "  </thead>\n",
              "  <tbody>\n",
              "    <tr>\n",
              "      <th>0</th>\n",
              "      <td>0</td>\n",
              "      <td>90.2</td>\n",
              "      <td>10.0</td>\n",
              "      <td>7.58</td>\n",
              "      <td>44.9</td>\n",
              "      <td>1610</td>\n",
              "      <td>9.44</td>\n",
              "      <td>56.2</td>\n",
              "      <td>5.82</td>\n",
              "      <td>553</td>\n",
              "    </tr>\n",
              "    <tr>\n",
              "      <th>1</th>\n",
              "      <td>1</td>\n",
              "      <td>16.6</td>\n",
              "      <td>28.0</td>\n",
              "      <td>6.55</td>\n",
              "      <td>48.6</td>\n",
              "      <td>9930</td>\n",
              "      <td>4.49</td>\n",
              "      <td>76.3</td>\n",
              "      <td>1.65</td>\n",
              "      <td>4090</td>\n",
              "    </tr>\n",
              "    <tr>\n",
              "      <th>2</th>\n",
              "      <td>2</td>\n",
              "      <td>27.3</td>\n",
              "      <td>38.4</td>\n",
              "      <td>4.17</td>\n",
              "      <td>31.4</td>\n",
              "      <td>12900</td>\n",
              "      <td>16.10</td>\n",
              "      <td>76.5</td>\n",
              "      <td>2.89</td>\n",
              "      <td>4460</td>\n",
              "    </tr>\n",
              "    <tr>\n",
              "      <th>3</th>\n",
              "      <td>3</td>\n",
              "      <td>119.0</td>\n",
              "      <td>62.3</td>\n",
              "      <td>2.85</td>\n",
              "      <td>42.9</td>\n",
              "      <td>5900</td>\n",
              "      <td>22.40</td>\n",
              "      <td>60.1</td>\n",
              "      <td>6.16</td>\n",
              "      <td>3530</td>\n",
              "    </tr>\n",
              "    <tr>\n",
              "      <th>4</th>\n",
              "      <td>4</td>\n",
              "      <td>10.3</td>\n",
              "      <td>45.5</td>\n",
              "      <td>6.03</td>\n",
              "      <td>58.9</td>\n",
              "      <td>19100</td>\n",
              "      <td>1.44</td>\n",
              "      <td>76.8</td>\n",
              "      <td>2.13</td>\n",
              "      <td>12200</td>\n",
              "    </tr>\n",
              "  </tbody>\n",
              "</table>\n",
              "</div>\n",
              "    <div class=\"colab-df-buttons\">\n",
              "\n",
              "  <div class=\"colab-df-container\">\n",
              "    <button class=\"colab-df-convert\" onclick=\"convertToInteractive('df-a6c21e45-d15f-4cac-8871-1b2ddba8ff76')\"\n",
              "            title=\"Convert this dataframe to an interactive table.\"\n",
              "            style=\"display:none;\">\n",
              "\n",
              "  <svg xmlns=\"http://www.w3.org/2000/svg\" height=\"24px\" viewBox=\"0 -960 960 960\">\n",
              "    <path d=\"M120-120v-720h720v720H120Zm60-500h600v-160H180v160Zm220 220h160v-160H400v160Zm0 220h160v-160H400v160ZM180-400h160v-160H180v160Zm440 0h160v-160H620v160ZM180-180h160v-160H180v160Zm440 0h160v-160H620v160Z\"/>\n",
              "  </svg>\n",
              "    </button>\n",
              "\n",
              "  <style>\n",
              "    .colab-df-container {\n",
              "      display:flex;\n",
              "      gap: 12px;\n",
              "    }\n",
              "\n",
              "    .colab-df-convert {\n",
              "      background-color: #E8F0FE;\n",
              "      border: none;\n",
              "      border-radius: 50%;\n",
              "      cursor: pointer;\n",
              "      display: none;\n",
              "      fill: #1967D2;\n",
              "      height: 32px;\n",
              "      padding: 0 0 0 0;\n",
              "      width: 32px;\n",
              "    }\n",
              "\n",
              "    .colab-df-convert:hover {\n",
              "      background-color: #E2EBFA;\n",
              "      box-shadow: 0px 1px 2px rgba(60, 64, 67, 0.3), 0px 1px 3px 1px rgba(60, 64, 67, 0.15);\n",
              "      fill: #174EA6;\n",
              "    }\n",
              "\n",
              "    .colab-df-buttons div {\n",
              "      margin-bottom: 4px;\n",
              "    }\n",
              "\n",
              "    [theme=dark] .colab-df-convert {\n",
              "      background-color: #3B4455;\n",
              "      fill: #D2E3FC;\n",
              "    }\n",
              "\n",
              "    [theme=dark] .colab-df-convert:hover {\n",
              "      background-color: #434B5C;\n",
              "      box-shadow: 0px 1px 3px 1px rgba(0, 0, 0, 0.15);\n",
              "      filter: drop-shadow(0px 1px 2px rgba(0, 0, 0, 0.3));\n",
              "      fill: #FFFFFF;\n",
              "    }\n",
              "  </style>\n",
              "\n",
              "    <script>\n",
              "      const buttonEl =\n",
              "        document.querySelector('#df-a6c21e45-d15f-4cac-8871-1b2ddba8ff76 button.colab-df-convert');\n",
              "      buttonEl.style.display =\n",
              "        google.colab.kernel.accessAllowed ? 'block' : 'none';\n",
              "\n",
              "      async function convertToInteractive(key) {\n",
              "        const element = document.querySelector('#df-a6c21e45-d15f-4cac-8871-1b2ddba8ff76');\n",
              "        const dataTable =\n",
              "          await google.colab.kernel.invokeFunction('convertToInteractive',\n",
              "                                                    [key], {});\n",
              "        if (!dataTable) return;\n",
              "\n",
              "        const docLinkHtml = 'Like what you see? Visit the ' +\n",
              "          '<a target=\"_blank\" href=https://colab.research.google.com/notebooks/data_table.ipynb>data table notebook</a>'\n",
              "          + ' to learn more about interactive tables.';\n",
              "        element.innerHTML = '';\n",
              "        dataTable['output_type'] = 'display_data';\n",
              "        await google.colab.output.renderOutput(dataTable, element);\n",
              "        const docLink = document.createElement('div');\n",
              "        docLink.innerHTML = docLinkHtml;\n",
              "        element.appendChild(docLink);\n",
              "      }\n",
              "    </script>\n",
              "  </div>\n",
              "\n",
              "\n",
              "<div id=\"df-0f1987df-fa9c-47c6-bb0a-61c47baea6d7\">\n",
              "  <button class=\"colab-df-quickchart\" onclick=\"quickchart('df-0f1987df-fa9c-47c6-bb0a-61c47baea6d7')\"\n",
              "            title=\"Suggest charts.\"\n",
              "            style=\"display:none;\">\n",
              "\n",
              "<svg xmlns=\"http://www.w3.org/2000/svg\" height=\"24px\"viewBox=\"0 0 24 24\"\n",
              "     width=\"24px\">\n",
              "    <g>\n",
              "        <path d=\"M19 3H5c-1.1 0-2 .9-2 2v14c0 1.1.9 2 2 2h14c1.1 0 2-.9 2-2V5c0-1.1-.9-2-2-2zM9 17H7v-7h2v7zm4 0h-2V7h2v10zm4 0h-2v-4h2v4z\"/>\n",
              "    </g>\n",
              "</svg>\n",
              "  </button>\n",
              "\n",
              "<style>\n",
              "  .colab-df-quickchart {\n",
              "      --bg-color: #E8F0FE;\n",
              "      --fill-color: #1967D2;\n",
              "      --hover-bg-color: #E2EBFA;\n",
              "      --hover-fill-color: #174EA6;\n",
              "      --disabled-fill-color: #AAA;\n",
              "      --disabled-bg-color: #DDD;\n",
              "  }\n",
              "\n",
              "  [theme=dark] .colab-df-quickchart {\n",
              "      --bg-color: #3B4455;\n",
              "      --fill-color: #D2E3FC;\n",
              "      --hover-bg-color: #434B5C;\n",
              "      --hover-fill-color: #FFFFFF;\n",
              "      --disabled-bg-color: #3B4455;\n",
              "      --disabled-fill-color: #666;\n",
              "  }\n",
              "\n",
              "  .colab-df-quickchart {\n",
              "    background-color: var(--bg-color);\n",
              "    border: none;\n",
              "    border-radius: 50%;\n",
              "    cursor: pointer;\n",
              "    display: none;\n",
              "    fill: var(--fill-color);\n",
              "    height: 32px;\n",
              "    padding: 0;\n",
              "    width: 32px;\n",
              "  }\n",
              "\n",
              "  .colab-df-quickchart:hover {\n",
              "    background-color: var(--hover-bg-color);\n",
              "    box-shadow: 0 1px 2px rgba(60, 64, 67, 0.3), 0 1px 3px 1px rgba(60, 64, 67, 0.15);\n",
              "    fill: var(--button-hover-fill-color);\n",
              "  }\n",
              "\n",
              "  .colab-df-quickchart-complete:disabled,\n",
              "  .colab-df-quickchart-complete:disabled:hover {\n",
              "    background-color: var(--disabled-bg-color);\n",
              "    fill: var(--disabled-fill-color);\n",
              "    box-shadow: none;\n",
              "  }\n",
              "\n",
              "  .colab-df-spinner {\n",
              "    border: 2px solid var(--fill-color);\n",
              "    border-color: transparent;\n",
              "    border-bottom-color: var(--fill-color);\n",
              "    animation:\n",
              "      spin 1s steps(1) infinite;\n",
              "  }\n",
              "\n",
              "  @keyframes spin {\n",
              "    0% {\n",
              "      border-color: transparent;\n",
              "      border-bottom-color: var(--fill-color);\n",
              "      border-left-color: var(--fill-color);\n",
              "    }\n",
              "    20% {\n",
              "      border-color: transparent;\n",
              "      border-left-color: var(--fill-color);\n",
              "      border-top-color: var(--fill-color);\n",
              "    }\n",
              "    30% {\n",
              "      border-color: transparent;\n",
              "      border-left-color: var(--fill-color);\n",
              "      border-top-color: var(--fill-color);\n",
              "      border-right-color: var(--fill-color);\n",
              "    }\n",
              "    40% {\n",
              "      border-color: transparent;\n",
              "      border-right-color: var(--fill-color);\n",
              "      border-top-color: var(--fill-color);\n",
              "    }\n",
              "    60% {\n",
              "      border-color: transparent;\n",
              "      border-right-color: var(--fill-color);\n",
              "    }\n",
              "    80% {\n",
              "      border-color: transparent;\n",
              "      border-right-color: var(--fill-color);\n",
              "      border-bottom-color: var(--fill-color);\n",
              "    }\n",
              "    90% {\n",
              "      border-color: transparent;\n",
              "      border-bottom-color: var(--fill-color);\n",
              "    }\n",
              "  }\n",
              "</style>\n",
              "\n",
              "  <script>\n",
              "    async function quickchart(key) {\n",
              "      const quickchartButtonEl =\n",
              "        document.querySelector('#' + key + ' button');\n",
              "      quickchartButtonEl.disabled = true;  // To prevent multiple clicks.\n",
              "      quickchartButtonEl.classList.add('colab-df-spinner');\n",
              "      try {\n",
              "        const charts = await google.colab.kernel.invokeFunction(\n",
              "            'suggestCharts', [key], {});\n",
              "      } catch (error) {\n",
              "        console.error('Error during call to suggestCharts:', error);\n",
              "      }\n",
              "      quickchartButtonEl.classList.remove('colab-df-spinner');\n",
              "      quickchartButtonEl.classList.add('colab-df-quickchart-complete');\n",
              "    }\n",
              "    (() => {\n",
              "      let quickchartButtonEl =\n",
              "        document.querySelector('#df-0f1987df-fa9c-47c6-bb0a-61c47baea6d7 button');\n",
              "      quickchartButtonEl.style.display =\n",
              "        google.colab.kernel.accessAllowed ? 'block' : 'none';\n",
              "    })();\n",
              "  </script>\n",
              "</div>\n",
              "    </div>\n",
              "  </div>\n"
            ]
          },
          "metadata": {},
          "execution_count": 13
        }
      ],
      "source": [
        "print(data.shape)\n",
        "data.head()"
      ]
    },
    {
      "cell_type": "markdown",
      "id": "90e47d5f",
      "metadata": {
        "papermill": {
          "duration": 0.054492,
          "end_time": "2021-12-17T12:59:25.577718",
          "exception": false,
          "start_time": "2021-12-17T12:59:25.523226",
          "status": "completed"
        },
        "tags": [],
        "id": "90e47d5f"
      },
      "source": [
        "# ****Data Distribution"
      ]
    },
    {
      "cell_type": "code",
      "execution_count": null,
      "id": "39dd37be",
      "metadata": {
        "execution": {
          "iopub.execute_input": "2021-12-17T12:59:25.696693Z",
          "iopub.status.busy": "2021-12-17T12:59:25.695638Z",
          "iopub.status.idle": "2021-12-17T12:59:26.173975Z",
          "shell.execute_reply": "2021-12-17T12:59:26.174927Z",
          "shell.execute_reply.started": "2021-12-17T12:51:40.661839Z"
        },
        "papermill": {
          "duration": 0.543436,
          "end_time": "2021-12-17T12:59:26.175257",
          "exception": false,
          "start_time": "2021-12-17T12:59:25.631821",
          "status": "completed"
        },
        "tags": [],
        "colab": {
          "base_uri": "https://localhost:8080/",
          "height": 487
        },
        "id": "39dd37be",
        "outputId": "eb8ba530-d28a-40ab-8a1d-3244d474c17a"
      },
      "outputs": [
        {
          "output_type": "display_data",
          "data": {
            "text/plain": [
              "<Figure size 1200x500 with 1 Axes>"
            ],
            "image/png": "[encoded data removed]"
          },
          "metadata": {}
        }
      ],
      "source": [
        "plt.figure(figsize=(12,5))\n",
        "plt.title(\"Child Mortality: Death of children \")\n",
        "ax = sns.histplot(data[\"child_mort\"])"
      ]
    },
    {
      "cell_type": "code",
      "execution_count": null,
      "id": "b86b80e1",
      "metadata": {
        "execution": {
          "iopub.execute_input": "2021-12-17T12:59:26.381452Z",
          "iopub.status.busy": "2021-12-17T12:59:26.380394Z",
          "iopub.status.idle": "2021-12-17T12:59:26.747228Z",
          "shell.execute_reply": "2021-12-17T12:59:26.747834Z",
          "shell.execute_reply.started": "2021-12-17T12:51:42.062561Z"
        },
        "papermill": {
          "duration": 0.476497,
          "end_time": "2021-12-17T12:59:26.748063",
          "exception": false,
          "start_time": "2021-12-17T12:59:26.271566",
          "status": "completed"
        },
        "tags": [],
        "colab": {
          "base_uri": "https://localhost:8080/",
          "height": 487
        },
        "id": "b86b80e1",
        "outputId": "a74441f9-f0e2-47c2-c656-dbefa13c72ab"
      },
      "outputs": [
        {
          "output_type": "display_data",
          "data": {
            "text/plain": [
              "<Figure size 1200x500 with 1 Axes>"
            ],
            "image/png": "[encoded data removed]"
          },
          "metadata": {}
        }
      ],
      "source": [
        "plt.figure(figsize=(12,5))\n",
        "plt.title(\"Exports: Exports of goods and services per capita.\")\n",
        "ax = sns.histplot(data[\"exports\"])"
      ]
    },
    {
      "cell_type": "code",
      "execution_count": null,
      "id": "240e684e",
      "metadata": {
        "execution": {
          "iopub.execute_input": "2021-12-17T12:59:26.890800Z",
          "iopub.status.busy": "2021-12-17T12:59:26.889083Z",
          "iopub.status.idle": "2021-12-17T12:59:27.190966Z",
          "shell.execute_reply": "2021-12-17T12:59:27.191559Z",
          "shell.execute_reply.started": "2021-12-17T12:51:42.431918Z"
        },
        "papermill": {
          "duration": 0.38586,
          "end_time": "2021-12-17T12:59:27.191770",
          "exception": false,
          "start_time": "2021-12-17T12:59:26.805910",
          "status": "completed"
        },
        "tags": [],
        "colab": {
          "base_uri": "https://localhost:8080/",
          "height": 487
        },
        "id": "240e684e",
        "outputId": "35544da2-cb71-4163-bfee-cbc1ee3a54ce"
      },
      "outputs": [
        {
          "output_type": "display_data",
          "data": {
            "text/plain": [
              "<Figure size 1200x500 with 1 Axes>"
            ],
            "image/png": "[encoded data removed]"
          },
          "metadata": {}
        }
      ],
      "source": [
        "plt.figure(figsize=(12,5))\n",
        "plt.title(\"Imports: Imports of goods and services per capita. \")\n",
        "ax = sns.histplot(data[\"imports\"])"
      ]
    },
    {
      "cell_type": "code",
      "execution_count": null,
      "id": "2f917f98",
      "metadata": {
        "execution": {
          "iopub.execute_input": "2021-12-17T12:59:27.332431Z",
          "iopub.status.busy": "2021-12-17T12:59:27.330780Z",
          "iopub.status.idle": "2021-12-17T12:59:27.634348Z",
          "shell.execute_reply": "2021-12-17T12:59:27.634909Z",
          "shell.execute_reply.started": "2021-12-17T12:51:42.686924Z"
        },
        "papermill": {
          "duration": 0.385299,
          "end_time": "2021-12-17T12:59:27.635095",
          "exception": false,
          "start_time": "2021-12-17T12:59:27.249796",
          "status": "completed"
        },
        "tags": [],
        "colab": {
          "base_uri": "https://localhost:8080/",
          "height": 487
        },
        "id": "2f917f98",
        "outputId": "f35ff6e4-13e9-468d-b806-c8162e010f91"
      },
      "outputs": [
        {
          "output_type": "display_data",
          "data": {
            "text/plain": [
              "<Figure size 1200x500 with 1 Axes>"
            ],
            "image/png": "[encoded data removed]"
          },
          "metadata": {}
        }
      ],
      "source": [
        "plt.figure(figsize=(12,5))\n",
        "plt.title(\"Health: Total health spending per capita.\")\n",
        "ax = sns.histplot(data[\"health\"])"
      ]
    },
    {
      "cell_type": "code",
      "execution_count": null,
      "id": "bc2b36b1",
      "metadata": {
        "execution": {
          "iopub.execute_input": "2021-12-17T12:59:27.776603Z",
          "iopub.status.busy": "2021-12-17T12:59:27.775226Z",
          "iopub.status.idle": "2021-12-17T12:59:28.079394Z",
          "shell.execute_reply": "2021-12-17T12:59:28.080073Z",
          "shell.execute_reply.started": "2021-12-17T12:51:42.949473Z"
        },
        "papermill": {
          "duration": 0.387898,
          "end_time": "2021-12-17T12:59:28.080295",
          "exception": false,
          "start_time": "2021-12-17T12:59:27.692397",
          "status": "completed"
        },
        "tags": [],
        "colab": {
          "base_uri": "https://localhost:8080/",
          "height": 487
        },
        "id": "bc2b36b1",
        "outputId": "fba13f7c-41a1-45d4-fba8-83892ef24943"
      },
      "outputs": [
        {
          "output_type": "display_data",
          "data": {
            "text/plain": [
              "<Figure size 1200x500 with 1 Axes>"
            ],
            "image/png": "[encoded data removed]"
          },
          "metadata": {}
        }
      ],
      "source": [
        "plt.figure(figsize=(12,5))\n",
        "plt.title(\"Income: Net income per person\")\n",
        "ax = sns.histplot(data[\"income\"])"
      ]
    },
    {
      "cell_type": "code",
      "execution_count": null,
      "id": "bfa24bea",
      "metadata": {
        "execution": {
          "iopub.execute_input": "2021-12-17T12:59:28.206743Z",
          "iopub.status.busy": "2021-12-17T12:59:28.205465Z",
          "iopub.status.idle": "2021-12-17T12:59:28.546344Z",
          "shell.execute_reply": "2021-12-17T12:59:28.546903Z",
          "shell.execute_reply.started": "2021-12-17T12:51:43.204110Z"
        },
        "papermill": {
          "duration": 0.407891,
          "end_time": "2021-12-17T12:59:28.547115",
          "exception": false,
          "start_time": "2021-12-17T12:59:28.139224",
          "status": "completed"
        },
        "tags": [],
        "colab": {
          "base_uri": "https://localhost:8080/",
          "height": 487
        },
        "id": "bfa24bea",
        "outputId": "f167b37c-5f13-425e-c038-a80420a1bf88"
      },
      "outputs": [
        {
          "output_type": "display_data",
          "data": {
            "text/plain": [
              "<Figure size 1200x500 with 1 Axes>"
            ],
            "image/png": "[encoded data removed]"
          },
          "metadata": {}
        }
      ],
      "source": [
        "plt.figure(figsize=(12,5))\n",
        "plt.title(\"Inflation: The measurement of the annual growth rate \")\n",
        "ax = sns.histplot(data[\"inflation\"])"
      ]
    },
    {
      "cell_type": "code",
      "execution_count": null,
      "id": "453d19b3",
      "metadata": {
        "execution": {
          "iopub.execute_input": "2021-12-17T12:59:28.689649Z",
          "iopub.status.busy": "2021-12-17T12:59:28.683894Z",
          "iopub.status.idle": "2021-12-17T12:59:28.985521Z",
          "shell.execute_reply": "2021-12-17T12:59:28.986086Z",
          "shell.execute_reply.started": "2021-12-17T12:51:43.597660Z"
        },
        "papermill": {
          "duration": 0.378197,
          "end_time": "2021-12-17T12:59:28.986290",
          "exception": false,
          "start_time": "2021-12-17T12:59:28.608093",
          "status": "completed"
        },
        "tags": [],
        "colab": {
          "base_uri": "https://localhost:8080/",
          "height": 487
        },
        "id": "453d19b3",
        "outputId": "580723af-a49b-4689-eb80-6a185c8e963a"
      },
      "outputs": [
        {
          "output_type": "display_data",
          "data": {
            "text/plain": [
              "<Figure size 1200x500 with 1 Axes>"
            ],
            "image/png": "[encoded data removed]"
          },
          "metadata": {}
        }
      ],
      "source": [
        "plt.figure(figsize=(12,5))\n",
        "plt.title(\"Life expectancy: The average number of years a new born child would live if the current mortality patterns are to remain the same\")\n",
        "ax = sns.histplot(data[\"life_expec\"])"
      ]
    },
    {
      "cell_type": "markdown",
      "id": "7e0d601a",
      "metadata": {
        "papermill": {
          "duration": 0.061144,
          "end_time": "2021-12-17T12:59:29.107903",
          "exception": false,
          "start_time": "2021-12-17T12:59:29.046759",
          "status": "completed"
        },
        "tags": [],
        "id": "7e0d601a"
      },
      "source": [
        "# ****Correlation"
      ]
    },
    {
      "cell_type": "code",
      "execution_count": null,
      "id": "5aadc3e9",
      "metadata": {
        "execution": {
          "iopub.execute_input": "2021-12-17T12:59:29.387604Z",
          "iopub.status.busy": "2021-12-17T12:59:29.241430Z",
          "iopub.status.idle": "2021-12-17T12:59:30.378837Z",
          "shell.execute_reply": "2021-12-17T12:59:30.379389Z",
          "shell.execute_reply.started": "2021-12-17T12:51:43.851040Z"
        },
        "papermill": {
          "duration": 1.209504,
          "end_time": "2021-12-17T12:59:30.379594",
          "exception": false,
          "start_time": "2021-12-17T12:59:29.170090",
          "status": "completed"
        },
        "tags": [],
        "colab": {
          "base_uri": "https://localhost:8080/",
          "height": 853
        },
        "id": "5aadc3e9",
        "outputId": "983df8ec-937d-4b0f-dda9-b5db5c4c497e"
      },
      "outputs": [
        {
          "output_type": "execute_result",
          "data": {
            "text/plain": [
              "<Axes: >"
            ]
          },
          "metadata": {},
          "execution_count": 21
        },
        {
          "output_type": "display_data",
          "data": {
            "text/plain": [
              "<Figure size 1500x1000 with 2 Axes>"
            ],
            "image/png": "[encoded data removed]"
          },
          "metadata": {}
        }
      ],
      "source": [
        "plt.figure(figsize=(15,10))\n",
        "sns.heatmap(data.corr( ),annot=True)"
      ]
    },
    {
      "cell_type": "code",
      "execution_count": null,
      "id": "b8c3d4aa",
      "metadata": {
        "papermill": {
          "duration": 0.063478,
          "end_time": "2021-12-17T12:59:30.507162",
          "exception": false,
          "start_time": "2021-12-17T12:59:30.443684",
          "status": "completed"
        },
        "tags": [],
        "id": "b8c3d4aa"
      },
      "outputs": [],
      "source": []
    },
    {
      "cell_type": "markdown",
      "id": "b33f36e0",
      "metadata": {
        "papermill": {
          "duration": 0.062002,
          "end_time": "2021-12-17T12:59:30.631776",
          "exception": false,
          "start_time": "2021-12-17T12:59:30.569774",
          "status": "completed"
        },
        "tags": [],
        "id": "b33f36e0"
      },
      "source": [
        "# ****Scaling Data"
      ]
    },
    {
      "cell_type": "code",
      "execution_count": null,
      "id": "b9db6071",
      "metadata": {
        "execution": {
          "iopub.execute_input": "2021-12-17T12:59:30.768860Z",
          "iopub.status.busy": "2021-12-17T12:59:30.767648Z",
          "iopub.status.idle": "2021-12-17T12:59:30.772436Z",
          "shell.execute_reply": "2021-12-17T12:59:30.771808Z",
          "shell.execute_reply.started": "2021-12-17T12:51:44.605913Z"
        },
        "papermill": {
          "duration": 0.078334,
          "end_time": "2021-12-17T12:59:30.772605",
          "exception": false,
          "start_time": "2021-12-17T12:59:30.694271",
          "status": "completed"
        },
        "tags": [],
        "id": "b9db6071"
      },
      "outputs": [],
      "source": [
        "scalarModel = StandardScaler()\n",
        "data = scalarModel.fit_transform(data)"
      ]
    },
    {
      "cell_type": "code",
      "execution_count": null,
      "id": "d49c887d",
      "metadata": {
        "execution": {
          "iopub.execute_input": "2021-12-17T12:59:30.908386Z",
          "iopub.status.busy": "2021-12-17T12:59:30.907619Z",
          "iopub.status.idle": "2021-12-17T12:59:30.911241Z",
          "shell.execute_reply": "2021-12-17T12:59:30.911763Z",
          "shell.execute_reply.started": "2021-12-17T12:51:44.617263Z"
        },
        "papermill": {
          "duration": 0.075322,
          "end_time": "2021-12-17T12:59:30.911926",
          "exception": false,
          "start_time": "2021-12-17T12:59:30.836604",
          "status": "completed"
        },
        "tags": [],
        "colab": {
          "base_uri": "https://localhost:8080/"
        },
        "id": "d49c887d",
        "outputId": "27dc273b-ad2e-4e37-94cd-1f5dc17d3a0b"
      },
      "outputs": [
        {
          "output_type": "execute_result",
          "data": {
            "text/plain": [
              "array([[-1.72171011,  1.29153238, -1.13827979, ..., -1.61909203,\n",
              "         1.90288227, -0.67917961],\n",
              "       [-1.70096662, -0.5389489 , -0.47965843, ...,  0.64786643,\n",
              "        -0.85997281, -0.48562324],\n",
              "       [-1.68022312, -0.27283273, -0.09912164, ...,  0.67042323,\n",
              "        -0.0384044 , -0.46537561],\n",
              "       ...,\n",
              "       [ 1.68022312, -0.37231541,  1.13030491, ...,  0.28695762,\n",
              "        -0.66120626, -0.63775406],\n",
              "       [ 1.70096662,  0.44841668, -0.40647827, ..., -0.34463279,\n",
              "         1.14094382, -0.63775406],\n",
              "       [ 1.72171011,  1.11495062, -0.15034774, ..., -2.09278484,\n",
              "         1.6246091 , -0.62954556]])"
            ]
          },
          "metadata": {},
          "execution_count": 23
        }
      ],
      "source": [
        "data"
      ]
    },
    {
      "cell_type": "code",
      "execution_count": null,
      "id": "2251b02b",
      "metadata": {
        "execution": {
          "iopub.execute_input": "2021-12-17T12:59:31.045799Z",
          "iopub.status.busy": "2021-12-17T12:59:31.044658Z",
          "iopub.status.idle": "2021-12-17T12:59:31.064781Z",
          "shell.execute_reply": "2021-12-17T12:59:31.065350Z",
          "shell.execute_reply.started": "2021-12-17T12:51:44.630245Z"
        },
        "papermill": {
          "duration": 0.09076,
          "end_time": "2021-12-17T12:59:31.065527",
          "exception": false,
          "start_time": "2021-12-17T12:59:30.974767",
          "status": "completed"
        },
        "tags": [],
        "colab": {
          "base_uri": "https://localhost:8080/",
          "height": 424
        },
        "id": "2251b02b",
        "outputId": "9995f72b-6299-4f43-c791-04efb162866f"
      },
      "outputs": [
        {
          "output_type": "execute_result",
          "data": {
            "text/plain": [
              "      country  child_mort   exports    health   imports    income  inflation  \\\n",
              "0   -1.721710    1.291532 -1.138280  0.279088 -0.082455 -0.808245   0.157336   \n",
              "1   -1.700967   -0.538949 -0.479658 -0.097016  0.070837 -0.375369  -0.312347   \n",
              "2   -1.680223   -0.272833 -0.099122 -0.966073 -0.641762 -0.220844   0.789274   \n",
              "3   -1.659480    2.007808  0.775381 -1.448071 -0.165315 -0.585043   1.387054   \n",
              "4   -1.638736   -0.695634  0.160668 -0.286894  0.497568  0.101732  -0.601749   \n",
              "..        ...         ...       ...       ...       ...       ...        ...   \n",
              "162  1.638736   -0.225578  0.200917 -0.571711  0.240700 -0.738527  -0.489784   \n",
              "163  1.659480   -0.526514 -0.461363 -0.695862 -1.213499 -0.033542   3.616865   \n",
              "164  1.680223   -0.372315  1.130305  0.008877  1.380030 -0.658404   0.409732   \n",
              "165  1.700967    0.448417 -0.406478 -0.597272 -0.517472 -0.658924   1.500916   \n",
              "166  1.721710    1.114951 -0.150348 -0.338015 -0.662477 -0.721358   0.590015   \n",
              "\n",
              "     life_expec  total_fer      gdpp  \n",
              "0     -1.619092   1.902882 -0.679180  \n",
              "1      0.647866  -0.859973 -0.485623  \n",
              "2      0.670423  -0.038404 -0.465376  \n",
              "3     -1.179234   2.128151 -0.516268  \n",
              "4      0.704258  -0.541946 -0.041817  \n",
              "..          ...        ...       ...  \n",
              "162   -0.852161   0.365754 -0.546913  \n",
              "163    0.546361  -0.316678  0.029323  \n",
              "164    0.286958  -0.661206 -0.637754  \n",
              "165   -0.344633   1.140944 -0.637754  \n",
              "166   -2.092785   1.624609 -0.629546  \n",
              "\n",
              "[167 rows x 10 columns]"
            ],
            "text/html": [
              "\n",
              "  <div id=\"df-ec6ead3e-f152-49be-aa4e-7e926aa066e9\" class=\"colab-df-container\">\n",
              "    <div>\n",
              "<style scoped>\n",
              "    .dataframe tbody tr th:only-of-type {\n",
              "        vertical-align: middle;\n",
              "    }\n",
              "\n",
              "    .dataframe tbody tr th {\n",
              "        vertical-align: top;\n",
              "    }\n",
              "\n",
              "    .dataframe thead th {\n",
              "        text-align: right;\n",
              "    }\n",
              "</style>\n",
              "<table border=\"1\" class=\"dataframe\">\n",
              "  <thead>\n",
              "    <tr style=\"text-align: right;\">\n",
              "      <th></th>\n",
              "      <th>country</th>\n",
              "      <th>child_mort</th>\n",
              "      <th>exports</th>\n",
              "      <th>health</th>\n",
              "      <th>imports</th>\n",
              "      <th>income</th>\n",
              "      <th>inflation</th>\n",
              "      <th>life_expec</th>\n",
              "      <th>total_fer</th>\n",
              "      <th>gdpp</th>\n",
              "    </tr>\n",
              "  </thead>\n",
              "  <tbody>\n",
              "    <tr>\n",
              "      <th>0</th>\n",
              "      <td>-1.721710</td>\n",
              "      <td>1.291532</td>\n",
              "      <td>-1.138280</td>\n",
              "      <td>0.279088</td>\n",
              "      <td>-0.082455</td>\n",
              "      <td>-0.808245</td>\n",
              "      <td>0.157336</td>\n",
              "      <td>-1.619092</td>\n",
              "      <td>1.902882</td>\n",
              "      <td>-0.679180</td>\n",
              "    </tr>\n",
              "    <tr>\n",
              "      <th>1</th>\n",
              "      <td>-1.700967</td>\n",
              "      <td>-0.538949</td>\n",
              "      <td>-0.479658</td>\n",
              "      <td>-0.097016</td>\n",
              "      <td>0.070837</td>\n",
              "      <td>-0.375369</td>\n",
              "      <td>-0.312347</td>\n",
              "      <td>0.647866</td>\n",
              "      <td>-0.859973</td>\n",
              "      <td>-0.485623</td>\n",
              "    </tr>\n",
              "    <tr>\n",
              "      <th>2</th>\n",
              "      <td>-1.680223</td>\n",
              "      <td>-0.272833</td>\n",
              "      <td>-0.099122</td>\n",
              "      <td>-0.966073</td>\n",
              "      <td>-0.641762</td>\n",
              "      <td>-0.220844</td>\n",
              "      <td>0.789274</td>\n",
              "      <td>0.670423</td>\n",
              "      <td>-0.038404</td>\n",
              "      <td>-0.465376</td>\n",
              "    </tr>\n",
              "    <tr>\n",
              "      <th>3</th>\n",
              "      <td>-1.659480</td>\n",
              "      <td>2.007808</td>\n",
              "      <td>0.775381</td>\n",
              "      <td>-1.448071</td>\n",
              "      <td>-0.165315</td>\n",
              "      <td>-0.585043</td>\n",
              "      <td>1.387054</td>\n",
              "      <td>-1.179234</td>\n",
              "      <td>2.128151</td>\n",
              "      <td>-0.516268</td>\n",
              "    </tr>\n",
              "    <tr>\n",
              "      <th>4</th>\n",
              "      <td>-1.638736</td>\n",
              "      <td>-0.695634</td>\n",
              "      <td>0.160668</td>\n",
              "      <td>-0.286894</td>\n",
              "      <td>0.497568</td>\n",
              "      <td>0.101732</td>\n",
              "      <td>-0.601749</td>\n",
              "      <td>0.704258</td>\n",
              "      <td>-0.541946</td>\n",
              "      <td>-0.041817</td>\n",
              "    </tr>\n",
              "    <tr>\n",
              "      <th>...</th>\n",
              "      <td>...</td>\n",
              "      <td>...</td>\n",
              "      <td>...</td>\n",
              "      <td>...</td>\n",
              "      <td>...</td>\n",
              "      <td>...</td>\n",
              "      <td>...</td>\n",
              "      <td>...</td>\n",
              "      <td>...</td>\n",
              "      <td>...</td>\n",
              "    </tr>\n",
              "    <tr>\n",
              "      <th>162</th>\n",
              "      <td>1.638736</td>\n",
              "      <td>-0.225578</td>\n",
              "      <td>0.200917</td>\n",
              "      <td>-0.571711</td>\n",
              "      <td>0.240700</td>\n",
              "      <td>-0.738527</td>\n",
              "      <td>-0.489784</td>\n",
              "      <td>-0.852161</td>\n",
              "      <td>0.365754</td>\n",
              "      <td>-0.546913</td>\n",
              "    </tr>\n",
              "    <tr>\n",
              "      <th>163</th>\n",
              "      <td>1.659480</td>\n",
              "      <td>-0.526514</td>\n",
              "      <td>-0.461363</td>\n",
              "      <td>-0.695862</td>\n",
              "      <td>-1.213499</td>\n",
              "      <td>-0.033542</td>\n",
              "      <td>3.616865</td>\n",
              "      <td>0.546361</td>\n",
              "      <td>-0.316678</td>\n",
              "      <td>0.029323</td>\n",
              "    </tr>\n",
              "    <tr>\n",
              "      <th>164</th>\n",
              "      <td>1.680223</td>\n",
              "      <td>-0.372315</td>\n",
              "      <td>1.130305</td>\n",
              "      <td>0.008877</td>\n",
              "      <td>1.380030</td>\n",
              "      <td>-0.658404</td>\n",
              "      <td>0.409732</td>\n",
              "      <td>0.286958</td>\n",
              "      <td>-0.661206</td>\n",
              "      <td>-0.637754</td>\n",
              "    </tr>\n",
              "    <tr>\n",
              "      <th>165</th>\n",
              "      <td>1.700967</td>\n",
              "      <td>0.448417</td>\n",
              "      <td>-0.406478</td>\n",
              "      <td>-0.597272</td>\n",
              "      <td>-0.517472</td>\n",
              "      <td>-0.658924</td>\n",
              "      <td>1.500916</td>\n",
              "      <td>-0.344633</td>\n",
              "      <td>1.140944</td>\n",
              "      <td>-0.637754</td>\n",
              "    </tr>\n",
              "    <tr>\n",
              "      <th>166</th>\n",
              "      <td>1.721710</td>\n",
              "      <td>1.114951</td>\n",
              "      <td>-0.150348</td>\n",
              "      <td>-0.338015</td>\n",
              "      <td>-0.662477</td>\n",
              "      <td>-0.721358</td>\n",
              "      <td>0.590015</td>\n",
              "      <td>-2.092785</td>\n",
              "      <td>1.624609</td>\n",
              "      <td>-0.629546</td>\n",
              "    </tr>\n",
              "  </tbody>\n",
              "</table>\n",
              "<p>167 rows × 10 columns</p>\n",
              "</div>\n",
              "    <div class=\"colab-df-buttons\">\n",
              "\n",
              "  <div class=\"colab-df-container\">\n",
              "    <button class=\"colab-df-convert\" onclick=\"convertToInteractive('df-ec6ead3e-f152-49be-aa4e-7e926aa066e9')\"\n",
              "            title=\"Convert this dataframe to an interactive table.\"\n",
              "            style=\"display:none;\">\n",
              "\n",
              "  <svg xmlns=\"http://www.w3.org/2000/svg\" height=\"24px\" viewBox=\"0 -960 960 960\">\n",
              "    <path d=\"M120-120v-720h720v720H120Zm60-500h600v-160H180v160Zm220 220h160v-160H400v160Zm0 220h160v-160H400v160ZM180-400h160v-160H180v160Zm440 0h160v-160H620v160ZM180-180h160v-160H180v160Zm440 0h160v-160H620v160Z\"/>\n",
              "  </svg>\n",
              "    </button>\n",
              "\n",
              "  <style>\n",
              "    .colab-df-container {\n",
              "      display:flex;\n",
              "      gap: 12px;\n",
              "    }\n",
              "\n",
              "    .colab-df-convert {\n",
              "      background-color: #E8F0FE;\n",
              "      border: none;\n",
              "      border-radius: 50%;\n",
              "      cursor: pointer;\n",
              "      display: none;\n",
              "      fill: #1967D2;\n",
              "      height: 32px;\n",
              "      padding: 0 0 0 0;\n",
              "      width: 32px;\n",
              "    }\n",
              "\n",
              "    .colab-df-convert:hover {\n",
              "      background-color: #E2EBFA;\n",
              "      box-shadow: 0px 1px 2px rgba(60, 64, 67, 0.3), 0px 1px 3px 1px rgba(60, 64, 67, 0.15);\n",
              "      fill: #174EA6;\n",
              "    }\n",
              "\n",
              "    .colab-df-buttons div {\n",
              "      margin-bottom: 4px;\n",
              "    }\n",
              "\n",
              "    [theme=dark] .colab-df-convert {\n",
              "      background-color: #3B4455;\n",
              "      fill: #D2E3FC;\n",
              "    }\n",
              "\n",
              "    [theme=dark] .colab-df-convert:hover {\n",
              "      background-color: #434B5C;\n",
              "      box-shadow: 0px 1px 3px 1px rgba(0, 0, 0, 0.15);\n",
              "      filter: drop-shadow(0px 1px 2px rgba(0, 0, 0, 0.3));\n",
              "      fill: #FFFFFF;\n",
              "    }\n",
              "  </style>\n",
              "\n",
              "    <script>\n",
              "      const buttonEl =\n",
              "        document.querySelector('#df-ec6ead3e-f152-49be-aa4e-7e926aa066e9 button.colab-df-convert');\n",
              "      buttonEl.style.display =\n",
              "        google.colab.kernel.accessAllowed ? 'block' : 'none';\n",
              "\n",
              "      async function convertToInteractive(key) {\n",
              "        const element = document.querySelector('#df-ec6ead3e-f152-49be-aa4e-7e926aa066e9');\n",
              "        const dataTable =\n",
              "          await google.colab.kernel.invokeFunction('convertToInteractive',\n",
              "                                                    [key], {});\n",
              "        if (!dataTable) return;\n",
              "\n",
              "        const docLinkHtml = 'Like what you see? Visit the ' +\n",
              "          '<a target=\"_blank\" href=https://colab.research.google.com/notebooks/data_table.ipynb>data table notebook</a>'\n",
              "          + ' to learn more about interactive tables.';\n",
              "        element.innerHTML = '';\n",
              "        dataTable['output_type'] = 'display_data';\n",
              "        await google.colab.output.renderOutput(dataTable, element);\n",
              "        const docLink = document.createElement('div');\n",
              "        docLink.innerHTML = docLinkHtml;\n",
              "        element.appendChild(docLink);\n",
              "      }\n",
              "    </script>\n",
              "  </div>\n",
              "\n",
              "\n",
              "<div id=\"df-ead35ae8-fef1-4934-9529-9cc9e8ea0174\">\n",
              "  <button class=\"colab-df-quickchart\" onclick=\"quickchart('df-ead35ae8-fef1-4934-9529-9cc9e8ea0174')\"\n",
              "            title=\"Suggest charts.\"\n",
              "            style=\"display:none;\">\n",
              "\n",
              "<svg xmlns=\"http://www.w3.org/2000/svg\" height=\"24px\"viewBox=\"0 0 24 24\"\n",
              "     width=\"24px\">\n",
              "    <g>\n",
              "        <path d=\"M19 3H5c-1.1 0-2 .9-2 2v14c0 1.1.9 2 2 2h14c1.1 0 2-.9 2-2V5c0-1.1-.9-2-2-2zM9 17H7v-7h2v7zm4 0h-2V7h2v10zm4 0h-2v-4h2v4z\"/>\n",
              "    </g>\n",
              "</svg>\n",
              "  </button>\n",
              "\n",
              "<style>\n",
              "  .colab-df-quickchart {\n",
              "      --bg-color: #E8F0FE;\n",
              "      --fill-color: #1967D2;\n",
              "      --hover-bg-color: #E2EBFA;\n",
              "      --hover-fill-color: #174EA6;\n",
              "      --disabled-fill-color: #AAA;\n",
              "      --disabled-bg-color: #DDD;\n",
              "  }\n",
              "\n",
              "  [theme=dark] .colab-df-quickchart {\n",
              "      --bg-color: #3B4455;\n",
              "      --fill-color: #D2E3FC;\n",
              "      --hover-bg-color: #434B5C;\n",
              "      --hover-fill-color: #FFFFFF;\n",
              "      --disabled-bg-color: #3B4455;\n",
              "      --disabled-fill-color: #666;\n",
              "  }\n",
              "\n",
              "  .colab-df-quickchart {\n",
              "    background-color: var(--bg-color);\n",
              "    border: none;\n",
              "    border-radius: 50%;\n",
              "    cursor: pointer;\n",
              "    display: none;\n",
              "    fill: var(--fill-color);\n",
              "    height: 32px;\n",
              "    padding: 0;\n",
              "    width: 32px;\n",
              "  }\n",
              "\n",
              "  .colab-df-quickchart:hover {\n",
              "    background-color: var(--hover-bg-color);\n",
              "    box-shadow: 0 1px 2px rgba(60, 64, 67, 0.3), 0 1px 3px 1px rgba(60, 64, 67, 0.15);\n",
              "    fill: var(--button-hover-fill-color);\n",
              "  }\n",
              "\n",
              "  .colab-df-quickchart-complete:disabled,\n",
              "  .colab-df-quickchart-complete:disabled:hover {\n",
              "    background-color: var(--disabled-bg-color);\n",
              "    fill: var(--disabled-fill-color);\n",
              "    box-shadow: none;\n",
              "  }\n",
              "\n",
              "  .colab-df-spinner {\n",
              "    border: 2px solid var(--fill-color);\n",
              "    border-color: transparent;\n",
              "    border-bottom-color: var(--fill-color);\n",
              "    animation:\n",
              "      spin 1s steps(1) infinite;\n",
              "  }\n",
              "\n",
              "  @keyframes spin {\n",
              "    0% {\n",
              "      border-color: transparent;\n",
              "      border-bottom-color: var(--fill-color);\n",
              "      border-left-color: var(--fill-color);\n",
              "    }\n",
              "    20% {\n",
              "      border-color: transparent;\n",
              "      border-left-color: var(--fill-color);\n",
              "      border-top-color: var(--fill-color);\n",
              "    }\n",
              "    30% {\n",
              "      border-color: transparent;\n",
              "      border-left-color: var(--fill-color);\n",
              "      border-top-color: var(--fill-color);\n",
              "      border-right-color: var(--fill-color);\n",
              "    }\n",
              "    40% {\n",
              "      border-color: transparent;\n",
              "      border-right-color: var(--fill-color);\n",
              "      border-top-color: var(--fill-color);\n",
              "    }\n",
              "    60% {\n",
              "      border-color: transparent;\n",
              "      border-right-color: var(--fill-color);\n",
              "    }\n",
              "    80% {\n",
              "      border-color: transparent;\n",
              "      border-right-color: var(--fill-color);\n",
              "      border-bottom-color: var(--fill-color);\n",
              "    }\n",
              "    90% {\n",
              "      border-color: transparent;\n",
              "      border-bottom-color: var(--fill-color);\n",
              "    }\n",
              "  }\n",
              "</style>\n",
              "\n",
              "  <script>\n",
              "    async function quickchart(key) {\n",
              "      const quickchartButtonEl =\n",
              "        document.querySelector('#' + key + ' button');\n",
              "      quickchartButtonEl.disabled = true;  // To prevent multiple clicks.\n",
              "      quickchartButtonEl.classList.add('colab-df-spinner');\n",
              "      try {\n",
              "        const charts = await google.colab.kernel.invokeFunction(\n",
              "            'suggestCharts', [key], {});\n",
              "      } catch (error) {\n",
              "        console.error('Error during call to suggestCharts:', error);\n",
              "      }\n",
              "      quickchartButtonEl.classList.remove('colab-df-spinner');\n",
              "      quickchartButtonEl.classList.add('colab-df-quickchart-complete');\n",
              "    }\n",
              "    (() => {\n",
              "      let quickchartButtonEl =\n",
              "        document.querySelector('#df-ead35ae8-fef1-4934-9529-9cc9e8ea0174 button');\n",
              "      quickchartButtonEl.style.display =\n",
              "        google.colab.kernel.accessAllowed ? 'block' : 'none';\n",
              "    })();\n",
              "  </script>\n",
              "</div>\n",
              "    </div>\n",
              "  </div>\n"
            ]
          },
          "metadata": {},
          "execution_count": 24
        }
      ],
      "source": [
        "\n",
        "data = pd.DataFrame(data , columns = columns )\n",
        "data"
      ]
    },
    {
      "cell_type": "code",
      "execution_count": null,
      "id": "23994591",
      "metadata": {
        "execution": {
          "iopub.execute_input": "2021-12-17T12:59:31.203021Z",
          "iopub.status.busy": "2021-12-17T12:59:31.201445Z",
          "iopub.status.idle": "2021-12-17T12:59:31.206459Z",
          "shell.execute_reply": "2021-12-17T12:59:31.205869Z",
          "shell.execute_reply.started": "2021-12-17T12:51:44.654373Z"
        },
        "papermill": {
          "duration": 0.077304,
          "end_time": "2021-12-17T12:59:31.206637",
          "exception": false,
          "start_time": "2021-12-17T12:59:31.129333",
          "status": "completed"
        },
        "tags": [],
        "colab": {
          "base_uri": "https://localhost:8080/"
        },
        "id": "23994591",
        "outputId": "b0f2ed2a-d617-410a-ba64-c0ff885c0bff"
      },
      "outputs": [
        {
          "output_type": "execute_result",
          "data": {
            "text/plain": [
              "array([[-1.72171011,  1.29153238, -1.13827979, ..., -1.61909203,\n",
              "         1.90288227, -0.67917961],\n",
              "       [-1.70096662, -0.5389489 , -0.47965843, ...,  0.64786643,\n",
              "        -0.85997281, -0.48562324],\n",
              "       [-1.68022312, -0.27283273, -0.09912164, ...,  0.67042323,\n",
              "        -0.0384044 , -0.46537561],\n",
              "       ...,\n",
              "       [ 1.68022312, -0.37231541,  1.13030491, ...,  0.28695762,\n",
              "        -0.66120626, -0.63775406],\n",
              "       [ 1.70096662,  0.44841668, -0.40647827, ..., -0.34463279,\n",
              "         1.14094382, -0.63775406],\n",
              "       [ 1.72171011,  1.11495062, -0.15034774, ..., -2.09278484,\n",
              "         1.6246091 , -0.62954556]])"
            ]
          },
          "metadata": {},
          "execution_count": 25
        }
      ],
      "source": [
        "data = data.values\n",
        "data"
      ]
    },
    {
      "cell_type": "markdown",
      "id": "72dcd3cd",
      "metadata": {
        "papermill": {
          "duration": 0.064104,
          "end_time": "2021-12-17T12:59:31.335223",
          "exception": false,
          "start_time": "2021-12-17T12:59:31.271119",
          "status": "completed"
        },
        "tags": [],
        "id": "72dcd3cd"
      },
      "source": [
        "# ****Apply Fuzzy C Means Algorithm"
      ]
    },
    {
      "cell_type": "code",
      "execution_count": null,
      "id": "c2115896",
      "metadata": {
        "execution": {
          "iopub.execute_input": "2021-12-17T12:59:31.470132Z",
          "iopub.status.busy": "2021-12-17T12:59:31.468865Z",
          "iopub.status.idle": "2021-12-17T12:59:31.480686Z",
          "shell.execute_reply": "2021-12-17T12:59:31.481290Z",
          "shell.execute_reply.started": "2021-12-17T12:51:44.666671Z"
        },
        "papermill": {
          "duration": 0.082858,
          "end_time": "2021-12-17T12:59:31.481467",
          "exception": false,
          "start_time": "2021-12-17T12:59:31.398609",
          "status": "completed"
        },
        "tags": [],
        "colab": {
          "base_uri": "https://localhost:8080/"
        },
        "id": "c2115896",
        "outputId": "08e9fcb6-ec1a-4412-a6df-d4da94abd8cb"
      },
      "outputs": [
        {
          "output_type": "execute_result",
          "data": {
            "text/plain": [
              "array([[ 0.02049515,  0.62481925, -0.25615078, -0.26916082, -0.11869993,\n",
              "        -0.43777797,  0.19470723, -0.63180219,  0.65786836, -0.40683104],\n",
              "       [-0.03255911, -0.52501615,  0.19855285,  0.25844645,  0.08065177,\n",
              "         0.37472158, -0.22998142,  0.54650942, -0.54720712,  0.36627347]])"
            ]
          },
          "metadata": {},
          "execution_count": 26
        }
      ],
      "source": [
        "fcmModel = FCM(n_clusters = 2)\n",
        "fcmModel.fit(data)\n",
        "center = fcmModel.centers\n",
        "center"
      ]
    },
    {
      "cell_type": "code",
      "execution_count": null,
      "id": "16f4a9cd",
      "metadata": {
        "execution": {
          "iopub.execute_input": "2021-12-17T12:59:31.619455Z",
          "iopub.status.busy": "2021-12-17T12:59:31.618651Z",
          "iopub.status.idle": "2021-12-17T12:59:31.626333Z",
          "shell.execute_reply": "2021-12-17T12:59:31.627061Z",
          "shell.execute_reply.started": "2021-12-17T12:51:44.684049Z"
        },
        "papermill": {
          "duration": 0.080996,
          "end_time": "2021-12-17T12:59:31.627310",
          "exception": false,
          "start_time": "2021-12-17T12:59:31.546314",
          "status": "completed"
        },
        "tags": [],
        "colab": {
          "base_uri": "https://localhost:8080/"
        },
        "id": "16f4a9cd",
        "outputId": "3c927228-18cf-4898-f5fa-6658f7d09b38"
      },
      "outputs": [
        {
          "output_type": "stream",
          "name": "stdout",
          "text": [
            "Predicted Value for fcmModel is :  [0 1 0 0 1 1 1 1 1 1 1 1 0 1 1 1 1 0 0 0 1 0 1 1 1 0 0 0 0 1 0 0 0 1 1 1 0\n",
            " 0 0 1 0 1 1 1 1 1 1 0 1 0 0 1 0 1 1 0 0 1 1 0 1 1 0 0 0 0 0 1 1 0 0 1 0 1\n",
            " 1 1 1 1 1 0 0 0 1 0 0 1 1 0 0 1 1 1 1 0 0 1 1 0 1 0 1 0 1 0 1 0 0 0 0 0 1\n",
            " 1 0 0 1 1 0 1 1 1 0 1 1 1 1 1 0 0 1 0 1 1 0 1 1 1 0 0 1 1 0 1 0 1 1 1 0 0\n",
            " 1 0 0 0 1 1 0 0 1 1 1 1 1 0 0 0 1 0 0]\n"
          ]
        },
        {
          "output_type": "execute_result",
          "data": {
            "text/plain": [
              "(167,)"
            ]
          },
          "metadata": {},
          "execution_count": 27
        }
      ],
      "source": [
        "#Calculating Prediction\n",
        "pred = fcmModel.predict(data)\n",
        "print('Predicted Value for fcmModel is : ' , pred)\n",
        "pred.shape"
      ]
    },
    {
      "cell_type": "code",
      "execution_count": null,
      "id": "4d03cd88",
      "metadata": {
        "execution": {
          "iopub.execute_input": "2021-12-17T12:59:31.785850Z",
          "iopub.status.busy": "2021-12-17T12:59:31.784448Z",
          "iopub.status.idle": "2021-12-17T12:59:31.800085Z",
          "shell.execute_reply": "2021-12-17T12:59:31.800712Z",
          "shell.execute_reply.started": "2021-12-17T12:51:44.718865Z"
        },
        "papermill": {
          "duration": 0.108497,
          "end_time": "2021-12-17T12:59:31.800902",
          "exception": false,
          "start_time": "2021-12-17T12:59:31.692405",
          "status": "completed"
        },
        "tags": [],
        "colab": {
          "base_uri": "https://localhost:8080/",
          "height": 424
        },
        "id": "4d03cd88",
        "outputId": "f0d2803a-761e-451a-e3df-974ec63463a7"
      },
      "outputs": [
        {
          "output_type": "execute_result",
          "data": {
            "text/plain": [
              "      country  child_mort   exports    health   imports    income  inflation  \\\n",
              "0   -1.721710    1.291532 -1.138280  0.279088 -0.082455 -0.808245   0.157336   \n",
              "1   -1.700967   -0.538949 -0.479658 -0.097016  0.070837 -0.375369  -0.312347   \n",
              "2   -1.680223   -0.272833 -0.099122 -0.966073 -0.641762 -0.220844   0.789274   \n",
              "3   -1.659480    2.007808  0.775381 -1.448071 -0.165315 -0.585043   1.387054   \n",
              "4   -1.638736   -0.695634  0.160668 -0.286894  0.497568  0.101732  -0.601749   \n",
              "..        ...         ...       ...       ...       ...       ...        ...   \n",
              "162  1.638736   -0.225578  0.200917 -0.571711  0.240700 -0.738527  -0.489784   \n",
              "163  1.659480   -0.526514 -0.461363 -0.695862 -1.213499 -0.033542   3.616865   \n",
              "164  1.680223   -0.372315  1.130305  0.008877  1.380030 -0.658404   0.409732   \n",
              "165  1.700967    0.448417 -0.406478 -0.597272 -0.517472 -0.658924   1.500916   \n",
              "166  1.721710    1.114951 -0.150348 -0.338015 -0.662477 -0.721358   0.590015   \n",
              "\n",
              "     life_expec  total_fer      gdpp  \n",
              "0     -1.619092   1.902882 -0.679180  \n",
              "1      0.647866  -0.859973 -0.485623  \n",
              "2      0.670423  -0.038404 -0.465376  \n",
              "3     -1.179234   2.128151 -0.516268  \n",
              "4      0.704258  -0.541946 -0.041817  \n",
              "..          ...        ...       ...  \n",
              "162   -0.852161   0.365754 -0.546913  \n",
              "163    0.546361  -0.316678  0.029323  \n",
              "164    0.286958  -0.661206 -0.637754  \n",
              "165   -0.344633   1.140944 -0.637754  \n",
              "166   -2.092785   1.624609 -0.629546  \n",
              "\n",
              "[167 rows x 10 columns]"
            ],
            "text/html": [
              "\n",
              "  <div id=\"df-f131dcef-3037-4ccd-ba52-8edf62972219\" class=\"colab-df-container\">\n",
              "    <div>\n",
              "<style scoped>\n",
              "    .dataframe tbody tr th:only-of-type {\n",
              "        vertical-align: middle;\n",
              "    }\n",
              "\n",
              "    .dataframe tbody tr th {\n",
              "        vertical-align: top;\n",
              "    }\n",
              "\n",
              "    .dataframe thead th {\n",
              "        text-align: right;\n",
              "    }\n",
              "</style>\n",
              "<table border=\"1\" class=\"dataframe\">\n",
              "  <thead>\n",
              "    <tr style=\"text-align: right;\">\n",
              "      <th></th>\n",
              "      <th>country</th>\n",
              "      <th>child_mort</th>\n",
              "      <th>exports</th>\n",
              "      <th>health</th>\n",
              "      <th>imports</th>\n",
              "      <th>income</th>\n",
              "      <th>inflation</th>\n",
              "      <th>life_expec</th>\n",
              "      <th>total_fer</th>\n",
              "      <th>gdpp</th>\n",
              "    </tr>\n",
              "  </thead>\n",
              "  <tbody>\n",
              "    <tr>\n",
              "      <th>0</th>\n",
              "      <td>-1.721710</td>\n",
              "      <td>1.291532</td>\n",
              "      <td>-1.138280</td>\n",
              "      <td>0.279088</td>\n",
              "      <td>-0.082455</td>\n",
              "      <td>-0.808245</td>\n",
              "      <td>0.157336</td>\n",
              "      <td>-1.619092</td>\n",
              "      <td>1.902882</td>\n",
              "      <td>-0.679180</td>\n",
              "    </tr>\n",
              "    <tr>\n",
              "      <th>1</th>\n",
              "      <td>-1.700967</td>\n",
              "      <td>-0.538949</td>\n",
              "      <td>-0.479658</td>\n",
              "      <td>-0.097016</td>\n",
              "      <td>0.070837</td>\n",
              "      <td>-0.375369</td>\n",
              "      <td>-0.312347</td>\n",
              "      <td>0.647866</td>\n",
              "      <td>-0.859973</td>\n",
              "      <td>-0.485623</td>\n",
              "    </tr>\n",
              "    <tr>\n",
              "      <th>2</th>\n",
              "      <td>-1.680223</td>\n",
              "      <td>-0.272833</td>\n",
              "      <td>-0.099122</td>\n",
              "      <td>-0.966073</td>\n",
              "      <td>-0.641762</td>\n",
              "      <td>-0.220844</td>\n",
              "      <td>0.789274</td>\n",
              "      <td>0.670423</td>\n",
              "      <td>-0.038404</td>\n",
              "      <td>-0.465376</td>\n",
              "    </tr>\n",
              "    <tr>\n",
              "      <th>3</th>\n",
              "      <td>-1.659480</td>\n",
              "      <td>2.007808</td>\n",
              "      <td>0.775381</td>\n",
              "      <td>-1.448071</td>\n",
              "      <td>-0.165315</td>\n",
              "      <td>-0.585043</td>\n",
              "      <td>1.387054</td>\n",
              "      <td>-1.179234</td>\n",
              "      <td>2.128151</td>\n",
              "      <td>-0.516268</td>\n",
              "    </tr>\n",
              "    <tr>\n",
              "      <th>4</th>\n",
              "      <td>-1.638736</td>\n",
              "      <td>-0.695634</td>\n",
              "      <td>0.160668</td>\n",
              "      <td>-0.286894</td>\n",
              "      <td>0.497568</td>\n",
              "      <td>0.101732</td>\n",
              "      <td>-0.601749</td>\n",
              "      <td>0.704258</td>\n",
              "      <td>-0.541946</td>\n",
              "      <td>-0.041817</td>\n",
              "    </tr>\n",
              "    <tr>\n",
              "      <th>...</th>\n",
              "      <td>...</td>\n",
              "      <td>...</td>\n",
              "      <td>...</td>\n",
              "      <td>...</td>\n",
              "      <td>...</td>\n",
              "      <td>...</td>\n",
              "      <td>...</td>\n",
              "      <td>...</td>\n",
              "      <td>...</td>\n",
              "      <td>...</td>\n",
              "    </tr>\n",
              "    <tr>\n",
              "      <th>162</th>\n",
              "      <td>1.638736</td>\n",
              "      <td>-0.225578</td>\n",
              "      <td>0.200917</td>\n",
              "      <td>-0.571711</td>\n",
              "      <td>0.240700</td>\n",
              "      <td>-0.738527</td>\n",
              "      <td>-0.489784</td>\n",
              "      <td>-0.852161</td>\n",
              "      <td>0.365754</td>\n",
              "      <td>-0.546913</td>\n",
              "    </tr>\n",
              "    <tr>\n",
              "      <th>163</th>\n",
              "      <td>1.659480</td>\n",
              "      <td>-0.526514</td>\n",
              "      <td>-0.461363</td>\n",
              "      <td>-0.695862</td>\n",
              "      <td>-1.213499</td>\n",
              "      <td>-0.033542</td>\n",
              "      <td>3.616865</td>\n",
              "      <td>0.546361</td>\n",
              "      <td>-0.316678</td>\n",
              "      <td>0.029323</td>\n",
              "    </tr>\n",
              "    <tr>\n",
              "      <th>164</th>\n",
              "      <td>1.680223</td>\n",
              "      <td>-0.372315</td>\n",
              "      <td>1.130305</td>\n",
              "      <td>0.008877</td>\n",
              "      <td>1.380030</td>\n",
              "      <td>-0.658404</td>\n",
              "      <td>0.409732</td>\n",
              "      <td>0.286958</td>\n",
              "      <td>-0.661206</td>\n",
              "      <td>-0.637754</td>\n",
              "    </tr>\n",
              "    <tr>\n",
              "      <th>165</th>\n",
              "      <td>1.700967</td>\n",
              "      <td>0.448417</td>\n",
              "      <td>-0.406478</td>\n",
              "      <td>-0.597272</td>\n",
              "      <td>-0.517472</td>\n",
              "      <td>-0.658924</td>\n",
              "      <td>1.500916</td>\n",
              "      <td>-0.344633</td>\n",
              "      <td>1.140944</td>\n",
              "      <td>-0.637754</td>\n",
              "    </tr>\n",
              "    <tr>\n",
              "      <th>166</th>\n",
              "      <td>1.721710</td>\n",
              "      <td>1.114951</td>\n",
              "      <td>-0.150348</td>\n",
              "      <td>-0.338015</td>\n",
              "      <td>-0.662477</td>\n",
              "      <td>-0.721358</td>\n",
              "      <td>0.590015</td>\n",
              "      <td>-2.092785</td>\n",
              "      <td>1.624609</td>\n",
              "      <td>-0.629546</td>\n",
              "    </tr>\n",
              "  </tbody>\n",
              "</table>\n",
              "<p>167 rows × 10 columns</p>\n",
              "</div>\n",
              "    <div class=\"colab-df-buttons\">\n",
              "\n",
              "  <div class=\"colab-df-container\">\n",
              "    <button class=\"colab-df-convert\" onclick=\"convertToInteractive('df-f131dcef-3037-4ccd-ba52-8edf62972219')\"\n",
              "            title=\"Convert this dataframe to an interactive table.\"\n",
              "            style=\"display:none;\">\n",
              "\n",
              "  <svg xmlns=\"http://www.w3.org/2000/svg\" height=\"24px\" viewBox=\"0 -960 960 960\">\n",
              "    <path d=\"M120-120v-720h720v720H120Zm60-500h600v-160H180v160Zm220 220h160v-160H400v160Zm0 220h160v-160H400v160ZM180-400h160v-160H180v160Zm440 0h160v-160H620v160ZM180-180h160v-160H180v160Zm440 0h160v-160H620v160Z\"/>\n",
              "  </svg>\n",
              "    </button>\n",
              "\n",
              "  <style>\n",
              "    .colab-df-container {\n",
              "      display:flex;\n",
              "      gap: 12px;\n",
              "    }\n",
              "\n",
              "    .colab-df-convert {\n",
              "      background-color: #E8F0FE;\n",
              "      border: none;\n",
              "      border-radius: 50%;\n",
              "      cursor: pointer;\n",
              "      display: none;\n",
              "      fill: #1967D2;\n",
              "      height: 32px;\n",
              "      padding: 0 0 0 0;\n",
              "      width: 32px;\n",
              "    }\n",
              "\n",
              "    .colab-df-convert:hover {\n",
              "      background-color: #E2EBFA;\n",
              "      box-shadow: 0px 1px 2px rgba(60, 64, 67, 0.3), 0px 1px 3px 1px rgba(60, 64, 67, 0.15);\n",
              "      fill: #174EA6;\n",
              "    }\n",
              "\n",
              "    .colab-df-buttons div {\n",
              "      margin-bottom: 4px;\n",
              "    }\n",
              "\n",
              "    [theme=dark] .colab-df-convert {\n",
              "      background-color: #3B4455;\n",
              "      fill: #D2E3FC;\n",
              "    }\n",
              "\n",
              "    [theme=dark] .colab-df-convert:hover {\n",
              "      background-color: #434B5C;\n",
              "      box-shadow: 0px 1px 3px 1px rgba(0, 0, 0, 0.15);\n",
              "      filter: drop-shadow(0px 1px 2px rgba(0, 0, 0, 0.3));\n",
              "      fill: #FFFFFF;\n",
              "    }\n",
              "  </style>\n",
              "\n",
              "    <script>\n",
              "      const buttonEl =\n",
              "        document.querySelector('#df-f131dcef-3037-4ccd-ba52-8edf62972219 button.colab-df-convert');\n",
              "      buttonEl.style.display =\n",
              "        google.colab.kernel.accessAllowed ? 'block' : 'none';\n",
              "\n",
              "      async function convertToInteractive(key) {\n",
              "        const element = document.querySelector('#df-f131dcef-3037-4ccd-ba52-8edf62972219');\n",
              "        const dataTable =\n",
              "          await google.colab.kernel.invokeFunction('convertToInteractive',\n",
              "                                                    [key], {});\n",
              "        if (!dataTable) return;\n",
              "\n",
              "        const docLinkHtml = 'Like what you see? Visit the ' +\n",
              "          '<a target=\"_blank\" href=https://colab.research.google.com/notebooks/data_table.ipynb>data table notebook</a>'\n",
              "          + ' to learn more about interactive tables.';\n",
              "        element.innerHTML = '';\n",
              "        dataTable['output_type'] = 'display_data';\n",
              "        await google.colab.output.renderOutput(dataTable, element);\n",
              "        const docLink = document.createElement('div');\n",
              "        docLink.innerHTML = docLinkHtml;\n",
              "        element.appendChild(docLink);\n",
              "      }\n",
              "    </script>\n",
              "  </div>\n",
              "\n",
              "\n",
              "<div id=\"df-9dcb8bb1-e4b3-4c4e-b8ad-53e44dabff21\">\n",
              "  <button class=\"colab-df-quickchart\" onclick=\"quickchart('df-9dcb8bb1-e4b3-4c4e-b8ad-53e44dabff21')\"\n",
              "            title=\"Suggest charts.\"\n",
              "            style=\"display:none;\">\n",
              "\n",
              "<svg xmlns=\"http://www.w3.org/2000/svg\" height=\"24px\"viewBox=\"0 0 24 24\"\n",
              "     width=\"24px\">\n",
              "    <g>\n",
              "        <path d=\"M19 3H5c-1.1 0-2 .9-2 2v14c0 1.1.9 2 2 2h14c1.1 0 2-.9 2-2V5c0-1.1-.9-2-2-2zM9 17H7v-7h2v7zm4 0h-2V7h2v10zm4 0h-2v-4h2v4z\"/>\n",
              "    </g>\n",
              "</svg>\n",
              "  </button>\n",
              "\n",
              "<style>\n",
              "  .colab-df-quickchart {\n",
              "      --bg-color: #E8F0FE;\n",
              "      --fill-color: #1967D2;\n",
              "      --hover-bg-color: #E2EBFA;\n",
              "      --hover-fill-color: #174EA6;\n",
              "      --disabled-fill-color: #AAA;\n",
              "      --disabled-bg-color: #DDD;\n",
              "  }\n",
              "\n",
              "  [theme=dark] .colab-df-quickchart {\n",
              "      --bg-color: #3B4455;\n",
              "      --fill-color: #D2E3FC;\n",
              "      --hover-bg-color: #434B5C;\n",
              "      --hover-fill-color: #FFFFFF;\n",
              "      --disabled-bg-color: #3B4455;\n",
              "      --disabled-fill-color: #666;\n",
              "  }\n",
              "\n",
              "  .colab-df-quickchart {\n",
              "    background-color: var(--bg-color);\n",
              "    border: none;\n",
              "    border-radius: 50%;\n",
              "    cursor: pointer;\n",
              "    display: none;\n",
              "    fill: var(--fill-color);\n",
              "    height: 32px;\n",
              "    padding: 0;\n",
              "    width: 32px;\n",
              "  }\n",
              "\n",
              "  .colab-df-quickchart:hover {\n",
              "    background-color: var(--hover-bg-color);\n",
              "    box-shadow: 0 1px 2px rgba(60, 64, 67, 0.3), 0 1px 3px 1px rgba(60, 64, 67, 0.15);\n",
              "    fill: var(--button-hover-fill-color);\n",
              "  }\n",
              "\n",
              "  .colab-df-quickchart-complete:disabled,\n",
              "  .colab-df-quickchart-complete:disabled:hover {\n",
              "    background-color: var(--disabled-bg-color);\n",
              "    fill: var(--disabled-fill-color);\n",
              "    box-shadow: none;\n",
              "  }\n",
              "\n",
              "  .colab-df-spinner {\n",
              "    border: 2px solid var(--fill-color);\n",
              "    border-color: transparent;\n",
              "    border-bottom-color: var(--fill-color);\n",
              "    animation:\n",
              "      spin 1s steps(1) infinite;\n",
              "  }\n",
              "\n",
              "  @keyframes spin {\n",
              "    0% {\n",
              "      border-color: transparent;\n",
              "      border-bottom-color: var(--fill-color);\n",
              "      border-left-color: var(--fill-color);\n",
              "    }\n",
              "    20% {\n",
              "      border-color: transparent;\n",
              "      border-left-color: var(--fill-color);\n",
              "      border-top-color: var(--fill-color);\n",
              "    }\n",
              "    30% {\n",
              "      border-color: transparent;\n",
              "      border-left-color: var(--fill-color);\n",
              "      border-top-color: var(--fill-color);\n",
              "      border-right-color: var(--fill-color);\n",
              "    }\n",
              "    40% {\n",
              "      border-color: transparent;\n",
              "      border-right-color: var(--fill-color);\n",
              "      border-top-color: var(--fill-color);\n",
              "    }\n",
              "    60% {\n",
              "      border-color: transparent;\n",
              "      border-right-color: var(--fill-color);\n",
              "    }\n",
              "    80% {\n",
              "      border-color: transparent;\n",
              "      border-right-color: var(--fill-color);\n",
              "      border-bottom-color: var(--fill-color);\n",
              "    }\n",
              "    90% {\n",
              "      border-color: transparent;\n",
              "      border-bottom-color: var(--fill-color);\n",
              "    }\n",
              "  }\n",
              "</style>\n",
              "\n",
              "  <script>\n",
              "    async function quickchart(key) {\n",
              "      const quickchartButtonEl =\n",
              "        document.querySelector('#' + key + ' button');\n",
              "      quickchartButtonEl.disabled = true;  // To prevent multiple clicks.\n",
              "      quickchartButtonEl.classList.add('colab-df-spinner');\n",
              "      try {\n",
              "        const charts = await google.colab.kernel.invokeFunction(\n",
              "            'suggestCharts', [key], {});\n",
              "      } catch (error) {\n",
              "        console.error('Error during call to suggestCharts:', error);\n",
              "      }\n",
              "      quickchartButtonEl.classList.remove('colab-df-spinner');\n",
              "      quickchartButtonEl.classList.add('colab-df-quickchart-complete');\n",
              "    }\n",
              "    (() => {\n",
              "      let quickchartButtonEl =\n",
              "        document.querySelector('#df-9dcb8bb1-e4b3-4c4e-b8ad-53e44dabff21 button');\n",
              "      quickchartButtonEl.style.display =\n",
              "        google.colab.kernel.accessAllowed ? 'block' : 'none';\n",
              "    })();\n",
              "  </script>\n",
              "</div>\n",
              "    </div>\n",
              "  </div>\n"
            ]
          },
          "metadata": {},
          "execution_count": 28
        }
      ],
      "source": [
        "data = pd.DataFrame(data , columns = columns )\n",
        "data"
      ]
    },
    {
      "cell_type": "code",
      "execution_count": null,
      "id": "b0baab55",
      "metadata": {
        "execution": {
          "iopub.execute_input": "2021-12-17T12:59:31.958116Z",
          "iopub.status.busy": "2021-12-17T12:59:31.956895Z",
          "iopub.status.idle": "2021-12-17T12:59:31.963921Z",
          "shell.execute_reply": "2021-12-17T12:59:31.964951Z",
          "shell.execute_reply.started": "2021-12-17T12:51:44.743055Z"
        },
        "papermill": {
          "duration": 0.098102,
          "end_time": "2021-12-17T12:59:31.965334",
          "exception": false,
          "start_time": "2021-12-17T12:59:31.867232",
          "status": "completed"
        },
        "tags": [],
        "colab": {
          "base_uri": "https://localhost:8080/",
          "height": 206
        },
        "id": "b0baab55",
        "outputId": "1244ad11-a410-4fad-8182-b8602c41d13e"
      },
      "outputs": [
        {
          "output_type": "execute_result",
          "data": {
            "text/plain": [
              "    country  child_mort   exports    health   imports    income  inflation  \\\n",
              "0 -1.721710    1.291532 -1.138280  0.279088 -0.082455 -0.808245   0.157336   \n",
              "1 -1.700967   -0.538949 -0.479658 -0.097016  0.070837 -0.375369  -0.312347   \n",
              "2 -1.680223   -0.272833 -0.099122 -0.966073 -0.641762 -0.220844   0.789274   \n",
              "3 -1.659480    2.007808  0.775381 -1.448071 -0.165315 -0.585043   1.387054   \n",
              "4 -1.638736   -0.695634  0.160668 -0.286894  0.497568  0.101732  -0.601749   \n",
              "\n",
              "   life_expec  total_fer      gdpp  cluster  \n",
              "0   -1.619092   1.902882 -0.679180        0  \n",
              "1    0.647866  -0.859973 -0.485623        1  \n",
              "2    0.670423  -0.038404 -0.465376        0  \n",
              "3   -1.179234   2.128151 -0.516268        0  \n",
              "4    0.704258  -0.541946 -0.041817        1  "
            ],
            "text/html": [
              "\n",
              "  <div id=\"df-c30fc367-7e1d-44ef-8ae6-c86a00a1b8ee\" class=\"colab-df-container\">\n",
              "    <div>\n",
              "<style scoped>\n",
              "    .dataframe tbody tr th:only-of-type {\n",
              "        vertical-align: middle;\n",
              "    }\n",
              "\n",
              "    .dataframe tbody tr th {\n",
              "        vertical-align: top;\n",
              "    }\n",
              "\n",
              "    .dataframe thead th {\n",
              "        text-align: right;\n",
              "    }\n",
              "</style>\n",
              "<table border=\"1\" class=\"dataframe\">\n",
              "  <thead>\n",
              "    <tr style=\"text-align: right;\">\n",
              "      <th></th>\n",
              "      <th>country</th>\n",
              "      <th>child_mort</th>\n",
              "      <th>exports</th>\n",
              "      <th>health</th>\n",
              "      <th>imports</th>\n",
              "      <th>income</th>\n",
              "      <th>inflation</th>\n",
              "      <th>life_expec</th>\n",
              "      <th>total_fer</th>\n",
              "      <th>gdpp</th>\n",
              "      <th>cluster</th>\n",
              "    </tr>\n",
              "  </thead>\n",
              "  <tbody>\n",
              "    <tr>\n",
              "      <th>0</th>\n",
              "      <td>-1.721710</td>\n",
              "      <td>1.291532</td>\n",
              "      <td>-1.138280</td>\n",
              "      <td>0.279088</td>\n",
              "      <td>-0.082455</td>\n",
              "      <td>-0.808245</td>\n",
              "      <td>0.157336</td>\n",
              "      <td>-1.619092</td>\n",
              "      <td>1.902882</td>\n",
              "      <td>-0.679180</td>\n",
              "      <td>0</td>\n",
              "    </tr>\n",
              "    <tr>\n",
              "      <th>1</th>\n",
              "      <td>-1.700967</td>\n",
              "      <td>-0.538949</td>\n",
              "      <td>-0.479658</td>\n",
              "      <td>-0.097016</td>\n",
              "      <td>0.070837</td>\n",
              "      <td>-0.375369</td>\n",
              "      <td>-0.312347</td>\n",
              "      <td>0.647866</td>\n",
              "      <td>-0.859973</td>\n",
              "      <td>-0.485623</td>\n",
              "      <td>1</td>\n",
              "    </tr>\n",
              "    <tr>\n",
              "      <th>2</th>\n",
              "      <td>-1.680223</td>\n",
              "      <td>-0.272833</td>\n",
              "      <td>-0.099122</td>\n",
              "      <td>-0.966073</td>\n",
              "      <td>-0.641762</td>\n",
              "      <td>-0.220844</td>\n",
              "      <td>0.789274</td>\n",
              "      <td>0.670423</td>\n",
              "      <td>-0.038404</td>\n",
              "      <td>-0.465376</td>\n",
              "      <td>0</td>\n",
              "    </tr>\n",
              "    <tr>\n",
              "      <th>3</th>\n",
              "      <td>-1.659480</td>\n",
              "      <td>2.007808</td>\n",
              "      <td>0.775381</td>\n",
              "      <td>-1.448071</td>\n",
              "      <td>-0.165315</td>\n",
              "      <td>-0.585043</td>\n",
              "      <td>1.387054</td>\n",
              "      <td>-1.179234</td>\n",
              "      <td>2.128151</td>\n",
              "      <td>-0.516268</td>\n",
              "      <td>0</td>\n",
              "    </tr>\n",
              "    <tr>\n",
              "      <th>4</th>\n",
              "      <td>-1.638736</td>\n",
              "      <td>-0.695634</td>\n",
              "      <td>0.160668</td>\n",
              "      <td>-0.286894</td>\n",
              "      <td>0.497568</td>\n",
              "      <td>0.101732</td>\n",
              "      <td>-0.601749</td>\n",
              "      <td>0.704258</td>\n",
              "      <td>-0.541946</td>\n",
              "      <td>-0.041817</td>\n",
              "      <td>1</td>\n",
              "    </tr>\n",
              "  </tbody>\n",
              "</table>\n",
              "</div>\n",
              "    <div class=\"colab-df-buttons\">\n",
              "\n",
              "  <div class=\"colab-df-container\">\n",
              "    <button class=\"colab-df-convert\" onclick=\"convertToInteractive('df-c30fc367-7e1d-44ef-8ae6-c86a00a1b8ee')\"\n",
              "            title=\"Convert this dataframe to an interactive table.\"\n",
              "            style=\"display:none;\">\n",
              "\n",
              "  <svg xmlns=\"http://www.w3.org/2000/svg\" height=\"24px\" viewBox=\"0 -960 960 960\">\n",
              "    <path d=\"M120-120v-720h720v720H120Zm60-500h600v-160H180v160Zm220 220h160v-160H400v160Zm0 220h160v-160H400v160ZM180-400h160v-160H180v160Zm440 0h160v-160H620v160ZM180-180h160v-160H180v160Zm440 0h160v-160H620v160Z\"/>\n",
              "  </svg>\n",
              "    </button>\n",
              "\n",
              "  <style>\n",
              "    .colab-df-container {\n",
              "      display:flex;\n",
              "      gap: 12px;\n",
              "    }\n",
              "\n",
              "    .colab-df-convert {\n",
              "      background-color: #E8F0FE;\n",
              "      border: none;\n",
              "      border-radius: 50%;\n",
              "      cursor: pointer;\n",
              "      display: none;\n",
              "      fill: #1967D2;\n",
              "      height: 32px;\n",
              "      padding: 0 0 0 0;\n",
              "      width: 32px;\n",
              "    }\n",
              "\n",
              "    .colab-df-convert:hover {\n",
              "      background-color: #E2EBFA;\n",
              "      box-shadow: 0px 1px 2px rgba(60, 64, 67, 0.3), 0px 1px 3px 1px rgba(60, 64, 67, 0.15);\n",
              "      fill: #174EA6;\n",
              "    }\n",
              "\n",
              "    .colab-df-buttons div {\n",
              "      margin-bottom: 4px;\n",
              "    }\n",
              "\n",
              "    [theme=dark] .colab-df-convert {\n",
              "      background-color: #3B4455;\n",
              "      fill: #D2E3FC;\n",
              "    }\n",
              "\n",
              "    [theme=dark] .colab-df-convert:hover {\n",
              "      background-color: #434B5C;\n",
              "      box-shadow: 0px 1px 3px 1px rgba(0, 0, 0, 0.15);\n",
              "      filter: drop-shadow(0px 1px 2px rgba(0, 0, 0, 0.3));\n",
              "      fill: #FFFFFF;\n",
              "    }\n",
              "  </style>\n",
              "\n",
              "    <script>\n",
              "      const buttonEl =\n",
              "        document.querySelector('#df-c30fc367-7e1d-44ef-8ae6-c86a00a1b8ee button.colab-df-convert');\n",
              "      buttonEl.style.display =\n",
              "        google.colab.kernel.accessAllowed ? 'block' : 'none';\n",
              "\n",
              "      async function convertToInteractive(key) {\n",
              "        const element = document.querySelector('#df-c30fc367-7e1d-44ef-8ae6-c86a00a1b8ee');\n",
              "        const dataTable =\n",
              "          await google.colab.kernel.invokeFunction('convertToInteractive',\n",
              "                                                    [key], {});\n",
              "        if (!dataTable) return;\n",
              "\n",
              "        const docLinkHtml = 'Like what you see? Visit the ' +\n",
              "          '<a target=\"_blank\" href=https://colab.research.google.com/notebooks/data_table.ipynb>data table notebook</a>'\n",
              "          + ' to learn more about interactive tables.';\n",
              "        element.innerHTML = '';\n",
              "        dataTable['output_type'] = 'display_data';\n",
              "        await google.colab.output.renderOutput(dataTable, element);\n",
              "        const docLink = document.createElement('div');\n",
              "        docLink.innerHTML = docLinkHtml;\n",
              "        element.appendChild(docLink);\n",
              "      }\n",
              "    </script>\n",
              "  </div>\n",
              "\n",
              "\n",
              "<div id=\"df-ce3f61a7-dc1a-4ca9-9b57-b5abcc26b9a8\">\n",
              "  <button class=\"colab-df-quickchart\" onclick=\"quickchart('df-ce3f61a7-dc1a-4ca9-9b57-b5abcc26b9a8')\"\n",
              "            title=\"Suggest charts.\"\n",
              "            style=\"display:none;\">\n",
              "\n",
              "<svg xmlns=\"http://www.w3.org/2000/svg\" height=\"24px\"viewBox=\"0 0 24 24\"\n",
              "     width=\"24px\">\n",
              "    <g>\n",
              "        <path d=\"M19 3H5c-1.1 0-2 .9-2 2v14c0 1.1.9 2 2 2h14c1.1 0 2-.9 2-2V5c0-1.1-.9-2-2-2zM9 17H7v-7h2v7zm4 0h-2V7h2v10zm4 0h-2v-4h2v4z\"/>\n",
              "    </g>\n",
              "</svg>\n",
              "  </button>\n",
              "\n",
              "<style>\n",
              "  .colab-df-quickchart {\n",
              "      --bg-color: #E8F0FE;\n",
              "      --fill-color: #1967D2;\n",
              "      --hover-bg-color: #E2EBFA;\n",
              "      --hover-fill-color: #174EA6;\n",
              "      --disabled-fill-color: #AAA;\n",
              "      --disabled-bg-color: #DDD;\n",
              "  }\n",
              "\n",
              "  [theme=dark] .colab-df-quickchart {\n",
              "      --bg-color: #3B4455;\n",
              "      --fill-color: #D2E3FC;\n",
              "      --hover-bg-color: #434B5C;\n",
              "      --hover-fill-color: #FFFFFF;\n",
              "      --disabled-bg-color: #3B4455;\n",
              "      --disabled-fill-color: #666;\n",
              "  }\n",
              "\n",
              "  .colab-df-quickchart {\n",
              "    background-color: var(--bg-color);\n",
              "    border: none;\n",
              "    border-radius: 50%;\n",
              "    cursor: pointer;\n",
              "    display: none;\n",
              "    fill: var(--fill-color);\n",
              "    height: 32px;\n",
              "    padding: 0;\n",
              "    width: 32px;\n",
              "  }\n",
              "\n",
              "  .colab-df-quickchart:hover {\n",
              "    background-color: var(--hover-bg-color);\n",
              "    box-shadow: 0 1px 2px rgba(60, 64, 67, 0.3), 0 1px 3px 1px rgba(60, 64, 67, 0.15);\n",
              "    fill: var(--button-hover-fill-color);\n",
              "  }\n",
              "\n",
              "  .colab-df-quickchart-complete:disabled,\n",
              "  .colab-df-quickchart-complete:disabled:hover {\n",
              "    background-color: var(--disabled-bg-color);\n",
              "    fill: var(--disabled-fill-color);\n",
              "    box-shadow: none;\n",
              "  }\n",
              "\n",
              "  .colab-df-spinner {\n",
              "    border: 2px solid var(--fill-color);\n",
              "    border-color: transparent;\n",
              "    border-bottom-color: var(--fill-color);\n",
              "    animation:\n",
              "      spin 1s steps(1) infinite;\n",
              "  }\n",
              "\n",
              "  @keyframes spin {\n",
              "    0% {\n",
              "      border-color: transparent;\n",
              "      border-bottom-color: var(--fill-color);\n",
              "      border-left-color: var(--fill-color);\n",
              "    }\n",
              "    20% {\n",
              "      border-color: transparent;\n",
              "      border-left-color: var(--fill-color);\n",
              "      border-top-color: var(--fill-color);\n",
              "    }\n",
              "    30% {\n",
              "      border-color: transparent;\n",
              "      border-left-color: var(--fill-color);\n",
              "      border-top-color: var(--fill-color);\n",
              "      border-right-color: var(--fill-color);\n",
              "    }\n",
              "    40% {\n",
              "      border-color: transparent;\n",
              "      border-right-color: var(--fill-color);\n",
              "      border-top-color: var(--fill-color);\n",
              "    }\n",
              "    60% {\n",
              "      border-color: transparent;\n",
              "      border-right-color: var(--fill-color);\n",
              "    }\n",
              "    80% {\n",
              "      border-color: transparent;\n",
              "      border-right-color: var(--fill-color);\n",
              "      border-bottom-color: var(--fill-color);\n",
              "    }\n",
              "    90% {\n",
              "      border-color: transparent;\n",
              "      border-bottom-color: var(--fill-color);\n",
              "    }\n",
              "  }\n",
              "</style>\n",
              "\n",
              "  <script>\n",
              "    async function quickchart(key) {\n",
              "      const quickchartButtonEl =\n",
              "        document.querySelector('#' + key + ' button');\n",
              "      quickchartButtonEl.disabled = true;  // To prevent multiple clicks.\n",
              "      quickchartButtonEl.classList.add('colab-df-spinner');\n",
              "      try {\n",
              "        const charts = await google.colab.kernel.invokeFunction(\n",
              "            'suggestCharts', [key], {});\n",
              "      } catch (error) {\n",
              "        console.error('Error during call to suggestCharts:', error);\n",
              "      }\n",
              "      quickchartButtonEl.classList.remove('colab-df-spinner');\n",
              "      quickchartButtonEl.classList.add('colab-df-quickchart-complete');\n",
              "    }\n",
              "    (() => {\n",
              "      let quickchartButtonEl =\n",
              "        document.querySelector('#df-ce3f61a7-dc1a-4ca9-9b57-b5abcc26b9a8 button');\n",
              "      quickchartButtonEl.style.display =\n",
              "        google.colab.kernel.accessAllowed ? 'block' : 'none';\n",
              "    })();\n",
              "  </script>\n",
              "</div>\n",
              "    </div>\n",
              "  </div>\n"
            ]
          },
          "metadata": {},
          "execution_count": 29
        }
      ],
      "source": [
        "# add the cluster column to the dataframe\n",
        "data['cluster'] = pred\n",
        "data.head()"
      ]
    },
    {
      "cell_type": "markdown",
      "id": "58655537",
      "metadata": {
        "papermill": {
          "duration": 0.068291,
          "end_time": "2021-12-17T12:59:32.151041",
          "exception": false,
          "start_time": "2021-12-17T12:59:32.082750",
          "status": "completed"
        },
        "tags": [],
        "id": "58655537"
      },
      "source": [
        "# ****Draw the data and Cluster"
      ]
    },
    {
      "cell_type": "code",
      "execution_count": null,
      "id": "a0e8f582",
      "metadata": {
        "execution": {
          "iopub.execute_input": "2021-12-17T12:59:32.293838Z",
          "iopub.status.busy": "2021-12-17T12:59:32.292761Z",
          "iopub.status.idle": "2021-12-17T12:59:32.299586Z",
          "shell.execute_reply": "2021-12-17T12:59:32.298966Z",
          "shell.execute_reply.started": "2021-12-17T12:51:44.763968Z"
        },
        "papermill": {
          "duration": 0.081126,
          "end_time": "2021-12-17T12:59:32.299761",
          "exception": false,
          "start_time": "2021-12-17T12:59:32.218635",
          "status": "completed"
        },
        "tags": [],
        "colab": {
          "base_uri": "https://localhost:8080/"
        },
        "id": "a0e8f582",
        "outputId": "6c546b04-7b44-4940-c629-556c6922bdf3"
      },
      "outputs": [
        {
          "output_type": "execute_result",
          "data": {
            "text/plain": [
              "array([[-1.72171011,  1.29153238, -1.13827979, ...,  1.90288227,\n",
              "        -0.67917961,  0.        ],\n",
              "       [-1.70096662, -0.5389489 , -0.47965843, ..., -0.85997281,\n",
              "        -0.48562324,  1.        ],\n",
              "       [-1.68022312, -0.27283273, -0.09912164, ..., -0.0384044 ,\n",
              "        -0.46537561,  0.        ],\n",
              "       ...,\n",
              "       [ 1.68022312, -0.37231541,  1.13030491, ..., -0.66120626,\n",
              "        -0.63775406,  1.        ],\n",
              "       [ 1.70096662,  0.44841668, -0.40647827, ...,  1.14094382,\n",
              "        -0.63775406,  0.        ],\n",
              "       [ 1.72171011,  1.11495062, -0.15034774, ...,  1.6246091 ,\n",
              "        -0.62954556,  0.        ]])"
            ]
          },
          "metadata": {},
          "execution_count": 30
        }
      ],
      "source": [
        "data = data.values\n",
        "data"
      ]
    },
    {
      "cell_type": "code",
      "execution_count": null,
      "id": "fdaac9a7",
      "metadata": {
        "execution": {
          "iopub.execute_input": "2021-12-17T12:59:32.470051Z",
          "iopub.status.busy": "2021-12-17T12:59:32.463509Z",
          "iopub.status.idle": "2021-12-17T12:59:32.710131Z",
          "shell.execute_reply": "2021-12-17T12:59:32.710886Z",
          "shell.execute_reply.started": "2021-12-17T12:57:15.317353Z"
        },
        "papermill": {
          "duration": 0.343984,
          "end_time": "2021-12-17T12:59:32.711112",
          "exception": false,
          "start_time": "2021-12-17T12:59:32.367128",
          "status": "completed"
        },
        "tags": [],
        "colab": {
          "base_uri": "https://localhost:8080/",
          "height": 509
        },
        "id": "fdaac9a7",
        "outputId": "18b6c63d-c0eb-431f-ad9b-c97a2546f056"
      },
      "outputs": [
        {
          "output_type": "stream",
          "name": "stderr",
          "text": [
            "WARNING:matplotlib.legend:No artists with labels found to put in legend.  Note that artists whose label start with an underscore are ignored when legend() is called with no argument.\n"
          ]
        },
        {
          "output_type": "display_data",
          "data": {
            "text/plain": [
              "<Figure size 640x480 with 1 Axes>"
            ],
            "image/png": "[encoded data removed]"
          },
          "metadata": {}
        }
      ],
      "source": [
        "# Visualising the clusters\n",
        "plt.scatter(data[pred == 0, 0], data[pred == 0, 1], s = 10, c = 'r')\n",
        "plt.scatter(data[pred == 1, 0], data[pred == 1, 1], s = 10, c = 'b' )\n",
        "#plt.scatter(data[pred == 2, 0], data[pred == 2, 1], s = 10, c = 'g' )\n",
        "plt.scatter(center[:, 0], center[:, 1], s = 300, c = 'black',marker = '+')\n",
        "plt.title('Clusters of customers')\n",
        "plt.xlabel('X_label ')\n",
        "plt.ylabel('y_label ')\n",
        "plt.legend()\n",
        "plt.show()\n"
      ]
    }
  ],
  "metadata": {
    "kernelspec": {
      "display_name": "Python 3",
      "language": "python",
      "name": "python3"
    },
    "language_info": {
      "codemirror_mode": {
        "name": "ipython",
        "version": 3
      },
      "file_extension": ".py",
      "mimetype": "text/x-python",
      "name": "python",
      "nbconvert_exporter": "python",
      "pygments_lexer": "ipython3",
      "version": "3.7.12"
    },
    "papermill": {
      "default_parameters": {},
      "duration": 40.23972,
      "end_time": "2021-12-17T12:59:33.770297",
      "environment_variables": {},
      "exception": null,
      "input_path": "__notebook__.ipynb",
      "output_path": "__notebook__.ipynb",
      "parameters": {},
      "start_time": "2021-12-17T12:58:53.530577",
      "version": "2.3.3"
    },
    "colab": {
      "provenance": [],
      "include_colab_link": true
    }
  },
  "nbformat": 4,
  "nbformat_minor": 5
}